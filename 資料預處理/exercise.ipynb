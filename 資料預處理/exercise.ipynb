{
 "cells": [
  {
   "cell_type": "code",
   "execution_count": 2,
   "metadata": {},
   "outputs": [
    {
     "data": {
      "text/html": [
       "<style type=\"text/css\">\n",
       "#T_ec810_row1_col2, #T_ec810_row1_col3, #T_ec810_row2_col0, #T_ec810_row3_col1, #T_ec810_row3_col3, #T_ec810_row4_col1 {\n",
       "  background-color: yellow;\n",
       "}\n",
       "</style>\n",
       "<table id=\"T_ec810\">\n",
       "  <thead>\n",
       "    <tr>\n",
       "      <th class=\"blank level0\" >&nbsp;</th>\n",
       "      <th id=\"T_ec810_level0_col0\" class=\"col_heading level0 col0\" >size</th>\n",
       "      <th id=\"T_ec810_level0_col1\" class=\"col_heading level0 col1\" >color</th>\n",
       "      <th id=\"T_ec810_level0_col2\" class=\"col_heading level0 col2\" >price</th>\n",
       "      <th id=\"T_ec810_level0_col3\" class=\"col_heading level0 col3\" >quantity</th>\n",
       "    </tr>\n",
       "  </thead>\n",
       "  <tbody>\n",
       "    <tr>\n",
       "      <th id=\"T_ec810_level0_row0\" class=\"row_heading level0 row0\" >0</th>\n",
       "      <td id=\"T_ec810_row0_col0\" class=\"data row0 col0\" >M</td>\n",
       "      <td id=\"T_ec810_row0_col1\" class=\"data row0 col1\" >green</td>\n",
       "      <td id=\"T_ec810_row0_col2\" class=\"data row0 col2\" >200.000000</td>\n",
       "      <td id=\"T_ec810_row0_col3\" class=\"data row0 col3\" >999.000000</td>\n",
       "    </tr>\n",
       "    <tr>\n",
       "      <th id=\"T_ec810_level0_row1\" class=\"row_heading level0 row1\" >1</th>\n",
       "      <td id=\"T_ec810_row1_col0\" class=\"data row1 col0\" >S</td>\n",
       "      <td id=\"T_ec810_row1_col1\" class=\"data row1 col1\" >blue</td>\n",
       "      <td id=\"T_ec810_row1_col2\" class=\"data row1 col2\" >nan</td>\n",
       "      <td id=\"T_ec810_row1_col3\" class=\"data row1 col3\" >nan</td>\n",
       "    </tr>\n",
       "    <tr>\n",
       "      <th id=\"T_ec810_level0_row2\" class=\"row_heading level0 row2\" >2</th>\n",
       "      <td id=\"T_ec810_row2_col0\" class=\"data row2 col0\" >nan</td>\n",
       "      <td id=\"T_ec810_row2_col1\" class=\"data row2 col1\" >blue</td>\n",
       "      <td id=\"T_ec810_row2_col2\" class=\"data row2 col2\" >200.000000</td>\n",
       "      <td id=\"T_ec810_row2_col3\" class=\"data row2 col3\" >10000.000000</td>\n",
       "    </tr>\n",
       "    <tr>\n",
       "      <th id=\"T_ec810_level0_row3\" class=\"row_heading level0 row3\" >3</th>\n",
       "      <td id=\"T_ec810_row3_col0\" class=\"data row3 col0\" >M</td>\n",
       "      <td id=\"T_ec810_row3_col1\" class=\"data row3 col1\" >nan</td>\n",
       "      <td id=\"T_ec810_row3_col2\" class=\"data row3 col2\" >300.000000</td>\n",
       "      <td id=\"T_ec810_row3_col3\" class=\"data row3 col3\" >nan</td>\n",
       "    </tr>\n",
       "    <tr>\n",
       "      <th id=\"T_ec810_level0_row4\" class=\"row_heading level0 row4\" >4</th>\n",
       "      <td id=\"T_ec810_row4_col0\" class=\"data row4 col0\" >XL</td>\n",
       "      <td id=\"T_ec810_row4_col1\" class=\"data row4 col1\" >nan</td>\n",
       "      <td id=\"T_ec810_row4_col2\" class=\"data row4 col2\" >300.000000</td>\n",
       "      <td id=\"T_ec810_row4_col3\" class=\"data row4 col3\" >10000.000000</td>\n",
       "    </tr>\n",
       "  </tbody>\n",
       "</table>\n"
      ],
      "text/plain": [
       "<pandas.io.formats.style.Styler at 0x196d6486fc0>"
      ]
     },
     "execution_count": 2,
     "metadata": {},
     "output_type": "execute_result"
    }
   ],
   "source": [
    "import pandas as pd\n",
    "import numpy as np\n",
    "\n",
    "data = {\n",
    "    'size': ['M','S',np.nan,'M','XL'],\n",
    "    'color': ['green', 'blue', 'blue', np.nan, np.nan],\n",
    "    'price': [200, np.nan, 200, 300, 300],\n",
    "    'quantity': [999, np.nan, 10000, np.nan, 10000]\n",
    "}\n",
    "X = pd.DataFrame(data)\n",
    "X_orig = X.copy()\n",
    "X.style.highlight_null(color='yellow')"
   ]
  },
  {
   "cell_type": "code",
   "execution_count": 3,
   "metadata": {},
   "outputs": [
    {
     "name": "stdout",
     "output_type": "stream",
     "text": [
      "<class 'pandas.core.frame.DataFrame'>\n",
      "RangeIndex: 5 entries, 0 to 4\n",
      "Data columns (total 4 columns):\n",
      " #   Column    Non-Null Count  Dtype  \n",
      "---  ------    --------------  -----  \n",
      " 0   size      4 non-null      object \n",
      " 1   color     3 non-null      object \n",
      " 2   price     4 non-null      float64\n",
      " 3   quantity  3 non-null      float64\n",
      "dtypes: float64(2), object(2)\n",
      "memory usage: 292.0+ bytes\n"
     ]
    }
   ],
   "source": [
    "X.info()"
   ]
  },
  {
   "cell_type": "code",
   "execution_count": 5,
   "metadata": {},
   "outputs": [
    {
     "data": {
      "text/html": [
       "<style type=\"text/css\">\n",
       "#T_bf3e3_row1_col0, #T_bf3e3_row1_col1, #T_bf3e3_row3_col1 {\n",
       "  background-color: yellow;\n",
       "}\n",
       "</style>\n",
       "<table id=\"T_bf3e3\">\n",
       "  <thead>\n",
       "    <tr>\n",
       "      <th class=\"blank level0\" >&nbsp;</th>\n",
       "      <th id=\"T_bf3e3_level0_col0\" class=\"col_heading level0 col0\" >price</th>\n",
       "      <th id=\"T_bf3e3_level0_col1\" class=\"col_heading level0 col1\" >quantity</th>\n",
       "    </tr>\n",
       "  </thead>\n",
       "  <tbody>\n",
       "    <tr>\n",
       "      <th id=\"T_bf3e3_level0_row0\" class=\"row_heading level0 row0\" >0</th>\n",
       "      <td id=\"T_bf3e3_row0_col0\" class=\"data row0 col0\" >200.000000</td>\n",
       "      <td id=\"T_bf3e3_row0_col1\" class=\"data row0 col1\" >999.000000</td>\n",
       "    </tr>\n",
       "    <tr>\n",
       "      <th id=\"T_bf3e3_level0_row1\" class=\"row_heading level0 row1\" >1</th>\n",
       "      <td id=\"T_bf3e3_row1_col0\" class=\"data row1 col0\" >nan</td>\n",
       "      <td id=\"T_bf3e3_row1_col1\" class=\"data row1 col1\" >nan</td>\n",
       "    </tr>\n",
       "    <tr>\n",
       "      <th id=\"T_bf3e3_level0_row2\" class=\"row_heading level0 row2\" >2</th>\n",
       "      <td id=\"T_bf3e3_row2_col0\" class=\"data row2 col0\" >200.000000</td>\n",
       "      <td id=\"T_bf3e3_row2_col1\" class=\"data row2 col1\" >10000.000000</td>\n",
       "    </tr>\n",
       "    <tr>\n",
       "      <th id=\"T_bf3e3_level0_row3\" class=\"row_heading level0 row3\" >3</th>\n",
       "      <td id=\"T_bf3e3_row3_col0\" class=\"data row3 col0\" >300.000000</td>\n",
       "      <td id=\"T_bf3e3_row3_col1\" class=\"data row3 col1\" >nan</td>\n",
       "    </tr>\n",
       "    <tr>\n",
       "      <th id=\"T_bf3e3_level0_row4\" class=\"row_heading level0 row4\" >4</th>\n",
       "      <td id=\"T_bf3e3_row4_col0\" class=\"data row4 col0\" >300.000000</td>\n",
       "      <td id=\"T_bf3e3_row4_col1\" class=\"data row4 col1\" >10000.000000</td>\n",
       "    </tr>\n",
       "  </tbody>\n",
       "</table>\n"
      ],
      "text/plain": [
       "<pandas.io.formats.style.Styler at 0x196d8625070>"
      ]
     },
     "execution_count": 5,
     "metadata": {},
     "output_type": "execute_result"
    }
   ],
   "source": [
    "X_col_num = ['price','quantity']\n",
    "X_num = X[X_col_num]\n",
    "X_num.style.highlight_null(color='yellow')"
   ]
  },
  {
   "cell_type": "code",
   "execution_count": 8,
   "metadata": {},
   "outputs": [
    {
     "data": {
      "text/plain": [
       "array([[  200.        ,   999.        ],\n",
       "       [  250.        ,  6999.66666667],\n",
       "       [  200.        , 10000.        ],\n",
       "       [  300.        ,  6999.66666667],\n",
       "       [  300.        , 10000.        ]])"
      ]
     },
     "execution_count": 8,
     "metadata": {},
     "output_type": "execute_result"
    }
   ],
   "source": [
    "from sklearn.impute import SimpleImputer\n",
    "\n",
    "# 這段程式碼使用了 sklearn.impute.SimpleImputer 這個類別，它是用來處理缺失值的 。在這段程式碼中，strategy='mean' 表示使用平均值來填補缺失值 \n",
    "\n",
    "si = SimpleImputer(strategy='mean')\n",
    "X_num_impute = si.fit_transform(X_num)\n",
    "X_num_impute"
   ]
  },
  {
   "cell_type": "code",
   "execution_count": 9,
   "metadata": {},
   "outputs": [
    {
     "data": {
      "text/plain": [
       "array([ 250.        , 6999.66666667])"
      ]
     },
     "execution_count": 9,
     "metadata": {},
     "output_type": "execute_result"
    }
   ],
   "source": [
    "# si.statistics_ 是 SimpleImputer 類別的一個屬性，它會回傳每個欄位的統計值 。在這段程式碼中，si 是一個 SimpleImputer 的物件，而 statistics_ 則是這個物件的一個屬性，它會回傳填補過缺失值的結果 。\n",
    "\n",
    "si.statistics_"
   ]
  },
  {
   "cell_type": "code",
   "execution_count": 10,
   "metadata": {},
   "outputs": [
    {
     "data": {
      "text/plain": [
       "array([[-1.11803399, -1.82574186],\n",
       "       [ 0.        ,  0.        ],\n",
       "       [-1.11803399,  0.91287093],\n",
       "       [ 1.11803399,  0.        ],\n",
       "       [ 1.11803399,  0.91287093]])"
      ]
     },
     "execution_count": 10,
     "metadata": {},
     "output_type": "execute_result"
    }
   ],
   "source": [
    "from sklearn.preprocessing import StandardScaler, MinMaxScaler\n",
    "ss = StandardScaler()\n",
    "X_num_impute_ss = ss.fit_transform(X_num_impute)\n",
    "X_num_impute_ss\n",
    "\n",
    "# 這是一段 Python 程式碼，使用了 scikit-learn 套件中的 StandardScaler() 和 MinMaxScaler() 類別。\n",
    "# StandardScaler() 類別可以將資料進行標準化，使得每個特徵的平均值為 0，標準差為 1。而 MinMaxScaler() 類別則可以將資料進行縮放，\n",
    "# 使得每個特徵的數值都在 0 到 1 之間。在這段程式碼中，StandardScaler() 類別被用來對 X_num_impute 資料進行標準化，\n",
    "# 而 MinMaxScaler() 類別則被用來對標準化後的資料進行縮放。"
   ]
  },
  {
   "cell_type": "code",
   "execution_count": 11,
   "metadata": {},
   "outputs": [
    {
     "data": {
      "text/html": [
       "<div>\n",
       "<style scoped>\n",
       "    .dataframe tbody tr th:only-of-type {\n",
       "        vertical-align: middle;\n",
       "    }\n",
       "\n",
       "    .dataframe tbody tr th {\n",
       "        vertical-align: top;\n",
       "    }\n",
       "\n",
       "    .dataframe thead th {\n",
       "        text-align: right;\n",
       "    }\n",
       "</style>\n",
       "<table border=\"1\" class=\"dataframe\">\n",
       "  <thead>\n",
       "    <tr style=\"text-align: right;\">\n",
       "      <th></th>\n",
       "      <th>0</th>\n",
       "      <th>1</th>\n",
       "    </tr>\n",
       "  </thead>\n",
       "  <tbody>\n",
       "    <tr>\n",
       "      <th>0</th>\n",
       "      <td>-1.118034</td>\n",
       "      <td>-1.825742</td>\n",
       "    </tr>\n",
       "    <tr>\n",
       "      <th>1</th>\n",
       "      <td>0.000000</td>\n",
       "      <td>0.000000</td>\n",
       "    </tr>\n",
       "    <tr>\n",
       "      <th>2</th>\n",
       "      <td>-1.118034</td>\n",
       "      <td>0.912871</td>\n",
       "    </tr>\n",
       "    <tr>\n",
       "      <th>3</th>\n",
       "      <td>1.118034</td>\n",
       "      <td>0.000000</td>\n",
       "    </tr>\n",
       "    <tr>\n",
       "      <th>4</th>\n",
       "      <td>1.118034</td>\n",
       "      <td>0.912871</td>\n",
       "    </tr>\n",
       "  </tbody>\n",
       "</table>\n",
       "</div>"
      ],
      "text/plain": [
       "          0         1\n",
       "0 -1.118034 -1.825742\n",
       "1  0.000000  0.000000\n",
       "2 -1.118034  0.912871\n",
       "3  1.118034  0.000000\n",
       "4  1.118034  0.912871"
      ]
     },
     "execution_count": 11,
     "metadata": {},
     "output_type": "execute_result"
    }
   ],
   "source": [
    "df_X_num_impute = pd.DataFrame(X_num_impute)\n",
    "(df_X_num_impute - df_X_num_impute.mean())/df_X_num_impute.std(ddof=0)\n",
    "\n",
    "# 用於對 DataFrame 進行標準化。\n",
    "# 首先將 X_num_impute 資料轉換為 DataFrame 格式，並命名為 df_X_num_impute。接著，\n",
    "# 使用 df_X_num_impute.mean() 函數計算 df_X_num_impute 的平均值，\n",
    "# 再使用 df_X_num_impute.std(ddof=0) 函數計算 df_X_num_impute 的標準差。\n",
    "# 最後，使用 (df_X_num_impute - df_X_num_impute.mean())/df_X_num_impute.std(ddof=0) 對 df_X_num_impute 資料進行標準化"
   ]
  },
  {
   "cell_type": "code",
   "execution_count": 12,
   "metadata": {},
   "outputs": [
    {
     "data": {
      "text/plain": [
       "array([[-1.11803399, -1.82574186],\n",
       "       [ 0.        ,  0.        ],\n",
       "       [-1.11803399,  0.91287093],\n",
       "       [ 1.11803399,  0.        ],\n",
       "       [ 1.11803399,  0.91287093]])"
      ]
     },
     "execution_count": 12,
     "metadata": {},
     "output_type": "execute_result"
    }
   ],
   "source": [
    "from sklearn.pipeline import make_pipeline\n",
    "num_pl = make_pipeline(SimpleImputer(strategy='mean'),\n",
    "                       StandardScaler())\n",
    "num_pl.fit_transform(X_num)\n",
    "\n",
    "# 使用了 scikit-learn 套件中的 make_pipeline() 函數和 SimpleImputer() 類別以及 StandardScaler() 類別。make_pipeline() 函數可以將多個轉換器組合成一個管道，\n",
    "# 使得資料可以依序經過多個轉換器進行處理。在這段程式碼中，SimpleImputer() 類別被用來對缺失值進行填補，而 StandardScaler() 類別則被用來對資料進行標準化。\n",
    "# 最後，使用 num_pl.fit_transform(X_num) 對 X_num 資料進行填補和標準化的處理"
   ]
  },
  {
   "cell_type": "code",
   "execution_count": 13,
   "metadata": {},
   "outputs": [
    {
     "data": {
      "text/html": [
       "<style type=\"text/css\">\n",
       "#T_8fd08_row2_col0, #T_8fd08_row3_col1, #T_8fd08_row4_col1 {\n",
       "  background-color: yellow;\n",
       "}\n",
       "</style>\n",
       "<table id=\"T_8fd08\">\n",
       "  <thead>\n",
       "    <tr>\n",
       "      <th class=\"blank level0\" >&nbsp;</th>\n",
       "      <th id=\"T_8fd08_level0_col0\" class=\"col_heading level0 col0\" >size</th>\n",
       "      <th id=\"T_8fd08_level0_col1\" class=\"col_heading level0 col1\" >color</th>\n",
       "    </tr>\n",
       "  </thead>\n",
       "  <tbody>\n",
       "    <tr>\n",
       "      <th id=\"T_8fd08_level0_row0\" class=\"row_heading level0 row0\" >0</th>\n",
       "      <td id=\"T_8fd08_row0_col0\" class=\"data row0 col0\" >M</td>\n",
       "      <td id=\"T_8fd08_row0_col1\" class=\"data row0 col1\" >green</td>\n",
       "    </tr>\n",
       "    <tr>\n",
       "      <th id=\"T_8fd08_level0_row1\" class=\"row_heading level0 row1\" >1</th>\n",
       "      <td id=\"T_8fd08_row1_col0\" class=\"data row1 col0\" >S</td>\n",
       "      <td id=\"T_8fd08_row1_col1\" class=\"data row1 col1\" >blue</td>\n",
       "    </tr>\n",
       "    <tr>\n",
       "      <th id=\"T_8fd08_level0_row2\" class=\"row_heading level0 row2\" >2</th>\n",
       "      <td id=\"T_8fd08_row2_col0\" class=\"data row2 col0\" >nan</td>\n",
       "      <td id=\"T_8fd08_row2_col1\" class=\"data row2 col1\" >blue</td>\n",
       "    </tr>\n",
       "    <tr>\n",
       "      <th id=\"T_8fd08_level0_row3\" class=\"row_heading level0 row3\" >3</th>\n",
       "      <td id=\"T_8fd08_row3_col0\" class=\"data row3 col0\" >M</td>\n",
       "      <td id=\"T_8fd08_row3_col1\" class=\"data row3 col1\" >nan</td>\n",
       "    </tr>\n",
       "    <tr>\n",
       "      <th id=\"T_8fd08_level0_row4\" class=\"row_heading level0 row4\" >4</th>\n",
       "      <td id=\"T_8fd08_row4_col0\" class=\"data row4 col0\" >XL</td>\n",
       "      <td id=\"T_8fd08_row4_col1\" class=\"data row4 col1\" >nan</td>\n",
       "    </tr>\n",
       "  </tbody>\n",
       "</table>\n"
      ],
      "text/plain": [
       "<pandas.io.formats.style.Styler at 0x196d88ac740>"
      ]
     },
     "execution_count": 13,
     "metadata": {},
     "output_type": "execute_result"
    }
   ],
   "source": [
    "X_col_cat = ['size','color']\n",
    "X_cat = X[X_col_cat]\n",
    "X_cat.style.highlight_null(color='yellow')"
   ]
  },
  {
   "cell_type": "code",
   "execution_count": 14,
   "metadata": {},
   "outputs": [
    {
     "data": {
      "text/plain": [
       "array([['M', 'green'],\n",
       "       ['S', 'blue'],\n",
       "       ['M', 'blue'],\n",
       "       ['M', 'blue'],\n",
       "       ['XL', 'blue']], dtype=object)"
      ]
     },
     "execution_count": 14,
     "metadata": {},
     "output_type": "execute_result"
    }
   ],
   "source": [
    "si = SimpleImputer(strategy='most_frequent')\n",
    "X_cat_impute = si.fit_transform(X_cat)\n",
    "X_cat_impute\n",
    "\n",
    "# 使用了 scikit-learn 套件中的 SimpleImputer() 類別。SimpleImputer() 類別可以將缺失值進行填補，\n",
    "# 填補的方式可以是平均值、中位數、眾數或常數。在這段程式碼中，strategy='most_frequent' 表示使用眾數來填補缺失值。\n",
    "# si.fit_transform(X_cat) 則是對 X_cat 資料進行填補的處理"
   ]
  },
  {
   "cell_type": "code",
   "execution_count": 15,
   "metadata": {},
   "outputs": [
    {
     "data": {
      "text/html": [
       "<div>\n",
       "<style scoped>\n",
       "    .dataframe tbody tr th:only-of-type {\n",
       "        vertical-align: middle;\n",
       "    }\n",
       "\n",
       "    .dataframe tbody tr th {\n",
       "        vertical-align: top;\n",
       "    }\n",
       "\n",
       "    .dataframe thead th {\n",
       "        text-align: right;\n",
       "    }\n",
       "</style>\n",
       "<table border=\"1\" class=\"dataframe\">\n",
       "  <thead>\n",
       "    <tr style=\"text-align: right;\">\n",
       "      <th></th>\n",
       "      <th>size_M</th>\n",
       "      <th>size_S</th>\n",
       "      <th>size_XL</th>\n",
       "      <th>color_blue</th>\n",
       "      <th>color_green</th>\n",
       "    </tr>\n",
       "  </thead>\n",
       "  <tbody>\n",
       "    <tr>\n",
       "      <th>0</th>\n",
       "      <td>True</td>\n",
       "      <td>False</td>\n",
       "      <td>False</td>\n",
       "      <td>False</td>\n",
       "      <td>True</td>\n",
       "    </tr>\n",
       "    <tr>\n",
       "      <th>1</th>\n",
       "      <td>False</td>\n",
       "      <td>True</td>\n",
       "      <td>False</td>\n",
       "      <td>True</td>\n",
       "      <td>False</td>\n",
       "    </tr>\n",
       "    <tr>\n",
       "      <th>2</th>\n",
       "      <td>False</td>\n",
       "      <td>False</td>\n",
       "      <td>False</td>\n",
       "      <td>True</td>\n",
       "      <td>False</td>\n",
       "    </tr>\n",
       "    <tr>\n",
       "      <th>3</th>\n",
       "      <td>True</td>\n",
       "      <td>False</td>\n",
       "      <td>False</td>\n",
       "      <td>False</td>\n",
       "      <td>False</td>\n",
       "    </tr>\n",
       "    <tr>\n",
       "      <th>4</th>\n",
       "      <td>False</td>\n",
       "      <td>False</td>\n",
       "      <td>True</td>\n",
       "      <td>False</td>\n",
       "      <td>False</td>\n",
       "    </tr>\n",
       "  </tbody>\n",
       "</table>\n",
       "</div>"
      ],
      "text/plain": [
       "   size_M  size_S  size_XL  color_blue  color_green\n",
       "0    True   False    False       False         True\n",
       "1   False    True    False        True        False\n",
       "2   False   False    False        True        False\n",
       "3    True   False    False       False        False\n",
       "4   False   False     True       False        False"
      ]
     },
     "execution_count": 15,
     "metadata": {},
     "output_type": "execute_result"
    }
   ],
   "source": [
    "pd.get_dummies(X_cat)"
   ]
  },
  {
   "cell_type": "code",
   "execution_count": 16,
   "metadata": {},
   "outputs": [
    {
     "name": "stderr",
     "output_type": "stream",
     "text": [
      "c:\\Users\\11706\\.conda\\envs\\TestEnv\\Lib\\site-packages\\sklearn\\preprocessing\\_encoders.py:975: FutureWarning: `sparse` was renamed to `sparse_output` in version 1.2 and will be removed in 1.4. `sparse_output` is ignored unless you leave `sparse` to its default value.\n",
      "  warnings.warn(\n"
     ]
    },
    {
     "data": {
      "text/plain": [
       "array([[1., 0., 0., 0., 1.],\n",
       "       [0., 1., 0., 1., 0.],\n",
       "       [1., 0., 0., 1., 0.],\n",
       "       [1., 0., 0., 1., 0.],\n",
       "       [0., 0., 1., 1., 0.]])"
      ]
     },
     "execution_count": 16,
     "metadata": {},
     "output_type": "execute_result"
    }
   ],
   "source": [
    "from sklearn.preprocessing import OneHotEncoder\n",
    "oh = OneHotEncoder(sparse=False)\n",
    "X_cat_impute_oh = oh.fit_transform(X_cat_impute)\n",
    "X_cat_impute_oh\n",
    "\n",
    "# 使用了 scikit-learn 套件中的 OneHotEncoder() 類別。OneHotEncoder() 類別可以將類別型特徵進行編碼，\n",
    "# 將每個類別轉換成一個二元特徵，其中一個特徵表示該樣本是否屬於該類別，另一個特徵則表示該樣本是否不屬於該類別。\n",
    "# 在這段程式碼中，sparse=False 表示輸出的編碼結果是一個二維的 Numpy 陣列，而不是一個稀疏矩陣。\n",
    "# oh.fit_transform(X_cat_impute) 則是對 X_cat_impute 資料進行編碼的處理"
   ]
  },
  {
   "cell_type": "code",
   "execution_count": 17,
   "metadata": {},
   "outputs": [
    {
     "data": {
      "text/plain": [
       "array(['size_M', 'size_S', 'size_XL', 'color_blue', 'color_green'],\n",
       "      dtype=object)"
      ]
     },
     "execution_count": 17,
     "metadata": {},
     "output_type": "execute_result"
    }
   ],
   "source": [
    "oh.get_feature_names_out(['size','color'])"
   ]
  },
  {
   "cell_type": "code",
   "execution_count": 19,
   "metadata": {},
   "outputs": [
    {
     "name": "stderr",
     "output_type": "stream",
     "text": [
      "c:\\Users\\11706\\.conda\\envs\\TestEnv\\Lib\\site-packages\\sklearn\\preprocessing\\_encoders.py:975: FutureWarning: `sparse` was renamed to `sparse_output` in version 1.2 and will be removed in 1.4. `sparse_output` is ignored unless you leave `sparse` to its default value.\n",
      "  warnings.warn(\n"
     ]
    },
    {
     "data": {
      "text/plain": [
       "array([[1., 0., 0., 0., 1.],\n",
       "       [0., 1., 0., 1., 0.],\n",
       "       [1., 0., 0., 1., 0.],\n",
       "       [1., 0., 0., 1., 0.],\n",
       "       [0., 0., 1., 1., 0.]])"
      ]
     },
     "execution_count": 19,
     "metadata": {},
     "output_type": "execute_result"
    }
   ],
   "source": [
    "cat_pl = make_pipeline(SimpleImputer(strategy='most_frequent'),\n",
    "                       OneHotEncoder(sparse=False))\n",
    "cat_pl.fit_transform(X_cat)\n",
    "\n",
    "# 這段程式碼使用了 scikit-learn 的 Pipeline 類別，它可以將多個轉換器和估計器（比如 SimpleImputer 和 OneHotEncoder）按照順序連接起來，\n",
    "# 形成一個機器學習管道。在這個例子中，首先使用 SimpleImputer 將缺失值以最常見的值填補，然後使用 OneHotEncoder 將類別變數轉換為數值變數，\n",
    "# 最後使用 fit_transform 方法將轉換器應用到輸入資料集 X_cat 上，並返回轉換後的資料集。"
   ]
  },
  {
   "cell_type": "code",
   "execution_count": 20,
   "metadata": {},
   "outputs": [
    {
     "data": {
      "text/plain": [
       "array(['size_M', 'size_S', 'size_XL', 'color_blue', 'color_green'],\n",
       "      dtype=object)"
      ]
     },
     "execution_count": 20,
     "metadata": {},
     "output_type": "execute_result"
    }
   ],
   "source": [
    "oh_in_pl = cat_pl.named_steps['onehotencoder']\n",
    "oh_in_pl.get_feature_names_out(['size','color'])\n",
    "\n",
    "# 這段程式碼使用了 scikit-learn 的 Pipeline 類別，\n",
    "# 它可以將多個轉換器和估計器（比如 SimpleImputer 和 OneHotEncoder）按照順序連接起來，形成一個機器學習管道。\n",
    "# 在這個例子中，首先使用 SimpleImputer 將缺失值以最常見的值填補，然後使用 OneHotEncoder 將類別變數轉換為數值變數，\n",
    "# 最後使用 fit_transform 方法將轉換器應用到輸入資料集 X_cat 上，並返回轉換後的資料集。"
   ]
  },
  {
   "cell_type": "code",
   "execution_count": 21,
   "metadata": {},
   "outputs": [
    {
     "data": {
      "text/plain": [
       "array([[-1.12, -1.83,  1.  ,  0.  ,  0.  ,  0.  ,  1.  ],\n",
       "       [ 0.  ,  0.  ,  0.  ,  1.  ,  0.  ,  1.  ,  0.  ],\n",
       "       [-1.12,  0.91,  1.  ,  0.  ,  0.  ,  1.  ,  0.  ],\n",
       "       [ 1.12,  0.  ,  1.  ,  0.  ,  0.  ,  1.  ,  0.  ],\n",
       "       [ 1.12,  0.91,  0.  ,  0.  ,  1.  ,  1.  ,  0.  ]])"
      ]
     },
     "execution_count": 21,
     "metadata": {},
     "output_type": "execute_result"
    }
   ],
   "source": [
    "np.concatenate([X_num_impute_ss, X_cat_impute_oh], axis=1).round(2)\n",
    "\n",
    "# 這段程式碼使用了 numpy.concatenate 函數，它可以將多個 numpy 陣列沿著指定的軸進行連接。\n",
    "# 在這裡，我們使用 axis=1 將 X_num_impute_ss 和 X_cat_impute_oh 沿著第二個軸進行連接。\n",
    "# 最後，我們使用 round(2) 函數將結果四捨五入到小數點後兩位。"
   ]
  },
  {
   "cell_type": "code",
   "execution_count": 22,
   "metadata": {},
   "outputs": [
    {
     "name": "stderr",
     "output_type": "stream",
     "text": [
      "c:\\Users\\11706\\.conda\\envs\\TestEnv\\Lib\\site-packages\\sklearn\\preprocessing\\_encoders.py:975: FutureWarning: `sparse` was renamed to `sparse_output` in version 1.2 and will be removed in 1.4. `sparse_output` is ignored unless you leave `sparse` to its default value.\n",
      "  warnings.warn(\n"
     ]
    },
    {
     "data": {
      "text/plain": [
       "array([[-1.12, -1.83,  1.  ,  0.  ,  0.  ,  0.  ,  1.  ],\n",
       "       [ 0.  ,  0.  ,  0.  ,  1.  ,  0.  ,  1.  ,  0.  ],\n",
       "       [-1.12,  0.91,  1.  ,  0.  ,  0.  ,  1.  ,  0.  ],\n",
       "       [ 1.12,  0.  ,  1.  ,  0.  ,  0.  ,  1.  ,  0.  ],\n",
       "       [ 1.12,  0.91,  0.  ,  0.  ,  1.  ,  1.  ,  0.  ]])"
      ]
     },
     "execution_count": 22,
     "metadata": {},
     "output_type": "execute_result"
    }
   ],
   "source": [
    "from sklearn.compose import ColumnTransformer\n",
    "data_pl = ColumnTransformer([\n",
    "    ('num_pl', num_pl, X_col_num),\n",
    "    ('cat_pl', cat_pl, X_col_cat)\n",
    "])\n",
    "data_pl.fit_transform(X).round(2)\n",
    "\n",
    "# 從你傳的程式碼中，我們可以看到你使用了 ColumnTransformer 類別，它可以將不同的預處理步驟應用於資料集的不同欄位。\n",
    "# 在這段程式碼中，我們建立了一個名為 data_pl 的 ColumnTransformer 實例，它有兩個轉換器：num_pl 和 cat_pl，\n",
    "# 分別應用於數值和類別欄位。數值欄位由 X_col_num 指定，而類別欄位由 X_col_cat 指定。\n",
    "# 最後，我們呼叫 data_pl 的 fit_transform() 方法來預處理資料，並使用 round(2) 函式將結果四捨五入到小數點後兩位"
   ]
  },
  {
   "cell_type": "code",
   "execution_count": 23,
   "metadata": {},
   "outputs": [
    {
     "name": "stderr",
     "output_type": "stream",
     "text": [
      "c:\\Users\\11706\\.conda\\envs\\TestEnv\\Lib\\site-packages\\sklearn\\preprocessing\\_encoders.py:975: FutureWarning: `sparse` was renamed to `sparse_output` in version 1.2 and will be removed in 1.4. `sparse_output` is ignored unless you leave `sparse` to its default value.\n",
      "  warnings.warn(\n"
     ]
    },
    {
     "data": {
      "text/html": [
       "<div>\n",
       "<style scoped>\n",
       "    .dataframe tbody tr th:only-of-type {\n",
       "        vertical-align: middle;\n",
       "    }\n",
       "\n",
       "    .dataframe tbody tr th {\n",
       "        vertical-align: top;\n",
       "    }\n",
       "\n",
       "    .dataframe thead th {\n",
       "        text-align: right;\n",
       "    }\n",
       "</style>\n",
       "<table border=\"1\" class=\"dataframe\">\n",
       "  <thead>\n",
       "    <tr style=\"text-align: right;\">\n",
       "      <th></th>\n",
       "      <th>0</th>\n",
       "      <th>1</th>\n",
       "      <th>2</th>\n",
       "      <th>3</th>\n",
       "      <th>4</th>\n",
       "    </tr>\n",
       "  </thead>\n",
       "  <tbody>\n",
       "    <tr>\n",
       "      <th>0</th>\n",
       "      <td>1.0</td>\n",
       "      <td>0.0</td>\n",
       "      <td>0.0</td>\n",
       "      <td>0.0</td>\n",
       "      <td>1.0</td>\n",
       "    </tr>\n",
       "    <tr>\n",
       "      <th>1</th>\n",
       "      <td>0.0</td>\n",
       "      <td>1.0</td>\n",
       "      <td>0.0</td>\n",
       "      <td>1.0</td>\n",
       "      <td>0.0</td>\n",
       "    </tr>\n",
       "    <tr>\n",
       "      <th>2</th>\n",
       "      <td>1.0</td>\n",
       "      <td>0.0</td>\n",
       "      <td>0.0</td>\n",
       "      <td>1.0</td>\n",
       "      <td>0.0</td>\n",
       "    </tr>\n",
       "    <tr>\n",
       "      <th>3</th>\n",
       "      <td>1.0</td>\n",
       "      <td>0.0</td>\n",
       "      <td>0.0</td>\n",
       "      <td>1.0</td>\n",
       "      <td>0.0</td>\n",
       "    </tr>\n",
       "    <tr>\n",
       "      <th>4</th>\n",
       "      <td>0.0</td>\n",
       "      <td>0.0</td>\n",
       "      <td>1.0</td>\n",
       "      <td>1.0</td>\n",
       "      <td>0.0</td>\n",
       "    </tr>\n",
       "  </tbody>\n",
       "</table>\n",
       "</div>"
      ],
      "text/plain": [
       "     0    1    2    3    4\n",
       "0  1.0  0.0  0.0  0.0  1.0\n",
       "1  0.0  1.0  0.0  1.0  0.0\n",
       "2  1.0  0.0  0.0  1.0  0.0\n",
       "3  1.0  0.0  0.0  1.0  0.0\n",
       "4  0.0  0.0  1.0  1.0  0.0"
      ]
     },
     "execution_count": 23,
     "metadata": {},
     "output_type": "execute_result"
    }
   ],
   "source": [
    "from sklearn.compose import ColumnTransformer\n",
    "data_pl = ColumnTransformer([\n",
    "    ('num_pl', 'drop', X_col_num),\n",
    "    ('cat_pl', cat_pl, X_col_cat)\n",
    "])\n",
    "pd.DataFrame(data_pl.fit_transform(X))\n",
    "\n",
    "# 這段程式碼使用了 ColumnTransformer 類別，它可以將不同的預處理步驟應用於資料集的不同欄位。\n",
    "# 在這段程式碼中，我們建立了一個名為 data_pl 的 ColumnTransformer 實例，它有兩個轉換器：num_pl 和 cat_pl，分別應用於數值和類別欄位。\n",
    "# 數值欄位由 X_col_num 指定，而類別欄位由 X_col_cat 指定。\n",
    "# 最後，我們呼叫 data_pl 的 fit_transform() 方法來預處理資料，並使用 pd.DataFrame() 函式將結果轉換成 pandas.DataFrame 格式"
   ]
  },
  {
   "cell_type": "code",
   "execution_count": null,
   "metadata": {},
   "outputs": [],
   "source": []
  }
 ],
 "metadata": {
  "kernelspec": {
   "display_name": "TestEnv",
   "language": "python",
   "name": "python3"
  },
  "language_info": {
   "codemirror_mode": {
    "name": "ipython",
    "version": 3
   },
   "file_extension": ".py",
   "mimetype": "text/x-python",
   "name": "python",
   "nbconvert_exporter": "python",
   "pygments_lexer": "ipython3",
   "version": "3.12.0"
  }
 },
 "nbformat": 4,
 "nbformat_minor": 2
}

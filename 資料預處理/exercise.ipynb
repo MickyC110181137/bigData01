{
 "cells": [
  {
   "cell_type": "code",
   "execution_count": 168,
   "metadata": {},
   "outputs": [
    {
     "data": {
      "text/html": [
       "<style type=\"text/css\">\n",
       "#T_7f064_row0_col3, #T_7f064_row1_col2, #T_7f064_row2_col0, #T_7f064_row2_col3, #T_7f064_row4_col1 {\n",
       "  background-color: yellow;\n",
       "}\n",
       "</style>\n",
       "<table id=\"T_7f064\">\n",
       "  <thead>\n",
       "    <tr>\n",
       "      <th class=\"blank level0\" >&nbsp;</th>\n",
       "      <th id=\"T_7f064_level0_col0\" class=\"col_heading level0 col0\" >size</th>\n",
       "      <th id=\"T_7f064_level0_col1\" class=\"col_heading level0 col1\" >color</th>\n",
       "      <th id=\"T_7f064_level0_col2\" class=\"col_heading level0 col2\" >price</th>\n",
       "      <th id=\"T_7f064_level0_col3\" class=\"col_heading level0 col3\" >quantity</th>\n",
       "    </tr>\n",
       "  </thead>\n",
       "  <tbody>\n",
       "    <tr>\n",
       "      <th id=\"T_7f064_level0_row0\" class=\"row_heading level0 row0\" >0</th>\n",
       "      <td id=\"T_7f064_row0_col0\" class=\"data row0 col0\" >S</td>\n",
       "      <td id=\"T_7f064_row0_col1\" class=\"data row0 col1\" >red</td>\n",
       "      <td id=\"T_7f064_row0_col2\" class=\"data row0 col2\" >2100.000000</td>\n",
       "      <td id=\"T_7f064_row0_col3\" class=\"data row0 col3\" >nan</td>\n",
       "    </tr>\n",
       "    <tr>\n",
       "      <th id=\"T_7f064_level0_row1\" class=\"row_heading level0 row1\" >1</th>\n",
       "      <td id=\"T_7f064_row1_col0\" class=\"data row1 col0\" >M</td>\n",
       "      <td id=\"T_7f064_row1_col1\" class=\"data row1 col1\" >blue</td>\n",
       "      <td id=\"T_7f064_row1_col2\" class=\"data row1 col2\" >nan</td>\n",
       "      <td id=\"T_7f064_row1_col3\" class=\"data row1 col3\" >350.000000</td>\n",
       "    </tr>\n",
       "    <tr>\n",
       "      <th id=\"T_7f064_level0_row2\" class=\"row_heading level0 row2\" >2</th>\n",
       "      <td id=\"T_7f064_row2_col0\" class=\"data row2 col0\" >nan</td>\n",
       "      <td id=\"T_7f064_row2_col1\" class=\"data row2 col1\" >blue</td>\n",
       "      <td id=\"T_7f064_row2_col2\" class=\"data row2 col2\" >4500.000000</td>\n",
       "      <td id=\"T_7f064_row2_col3\" class=\"data row2 col3\" >nan</td>\n",
       "    </tr>\n",
       "    <tr>\n",
       "      <th id=\"T_7f064_level0_row3\" class=\"row_heading level0 row3\" >3</th>\n",
       "      <td id=\"T_7f064_row3_col0\" class=\"data row3 col0\" >XL</td>\n",
       "      <td id=\"T_7f064_row3_col1\" class=\"data row3 col1\" >black</td>\n",
       "      <td id=\"T_7f064_row3_col2\" class=\"data row3 col2\" >7300.000000</td>\n",
       "      <td id=\"T_7f064_row3_col3\" class=\"data row3 col3\" >200.000000</td>\n",
       "    </tr>\n",
       "    <tr>\n",
       "      <th id=\"T_7f064_level0_row4\" class=\"row_heading level0 row4\" >4</th>\n",
       "      <td id=\"T_7f064_row4_col0\" class=\"data row4 col0\" >XL</td>\n",
       "      <td id=\"T_7f064_row4_col1\" class=\"data row4 col1\" >nan</td>\n",
       "      <td id=\"T_7f064_row4_col2\" class=\"data row4 col2\" >3200.000000</td>\n",
       "      <td id=\"T_7f064_row4_col3\" class=\"data row4 col3\" >10.000000</td>\n",
       "    </tr>\n",
       "  </tbody>\n",
       "</table>\n"
      ],
      "text/plain": [
       "<pandas.io.formats.style.Styler at 0x29eb0de8080>"
      ]
     },
     "execution_count": 168,
     "metadata": {},
     "output_type": "execute_result"
    }
   ],
   "source": [
    "import pandas as pd\n",
    "import numpy as np\n",
    "\n",
    "data = { 'size': ['S','M',np.nan,'XL','XL'], \n",
    "        'color': ['red', 'blue', 'blue', 'black', np.nan], \n",
    "        'price': [2100, np.nan, 4500, 7300, 3200], \n",
    "        'quantity': [np.nan, 350, np.nan, 200, 10] }\n",
    "X = pd.DataFrame(data) \n",
    "X_orig = X.copy()\n",
    "X_orig.style.highlight_null(color='yellow')"
   ]
  },
  {
   "cell_type": "code",
   "execution_count": 169,
   "metadata": {},
   "outputs": [
    {
     "data": {
      "text/html": [
       "<style type=\"text/css\">\n",
       "#T_ae04a_row0_col1, #T_ae04a_row1_col0, #T_ae04a_row2_col1 {\n",
       "  background-color: yellow;\n",
       "}\n",
       "</style>\n",
       "<table id=\"T_ae04a\">\n",
       "  <thead>\n",
       "    <tr>\n",
       "      <th class=\"blank level0\" >&nbsp;</th>\n",
       "      <th id=\"T_ae04a_level0_col0\" class=\"col_heading level0 col0\" >price</th>\n",
       "      <th id=\"T_ae04a_level0_col1\" class=\"col_heading level0 col1\" >quantity</th>\n",
       "    </tr>\n",
       "  </thead>\n",
       "  <tbody>\n",
       "    <tr>\n",
       "      <th id=\"T_ae04a_level0_row0\" class=\"row_heading level0 row0\" >0</th>\n",
       "      <td id=\"T_ae04a_row0_col0\" class=\"data row0 col0\" >2100.000000</td>\n",
       "      <td id=\"T_ae04a_row0_col1\" class=\"data row0 col1\" >nan</td>\n",
       "    </tr>\n",
       "    <tr>\n",
       "      <th id=\"T_ae04a_level0_row1\" class=\"row_heading level0 row1\" >1</th>\n",
       "      <td id=\"T_ae04a_row1_col0\" class=\"data row1 col0\" >nan</td>\n",
       "      <td id=\"T_ae04a_row1_col1\" class=\"data row1 col1\" >350.000000</td>\n",
       "    </tr>\n",
       "    <tr>\n",
       "      <th id=\"T_ae04a_level0_row2\" class=\"row_heading level0 row2\" >2</th>\n",
       "      <td id=\"T_ae04a_row2_col0\" class=\"data row2 col0\" >4500.000000</td>\n",
       "      <td id=\"T_ae04a_row2_col1\" class=\"data row2 col1\" >nan</td>\n",
       "    </tr>\n",
       "    <tr>\n",
       "      <th id=\"T_ae04a_level0_row3\" class=\"row_heading level0 row3\" >3</th>\n",
       "      <td id=\"T_ae04a_row3_col0\" class=\"data row3 col0\" >7300.000000</td>\n",
       "      <td id=\"T_ae04a_row3_col1\" class=\"data row3 col1\" >200.000000</td>\n",
       "    </tr>\n",
       "    <tr>\n",
       "      <th id=\"T_ae04a_level0_row4\" class=\"row_heading level0 row4\" >4</th>\n",
       "      <td id=\"T_ae04a_row4_col0\" class=\"data row4 col0\" >3200.000000</td>\n",
       "      <td id=\"T_ae04a_row4_col1\" class=\"data row4 col1\" >10.000000</td>\n",
       "    </tr>\n",
       "  </tbody>\n",
       "</table>\n"
      ],
      "text/plain": [
       "<pandas.io.formats.style.Styler at 0x29eb07b6d80>"
      ]
     },
     "execution_count": 169,
     "metadata": {},
     "output_type": "execute_result"
    }
   ],
   "source": [
    "X_col_num = ['price','quantity']\n",
    "X_num = X[X_col_num]\n",
    "X_num.style.highlight_null(color='yellow')"
   ]
  },
  {
   "cell_type": "code",
   "execution_count": 170,
   "metadata": {},
   "outputs": [
    {
     "data": {
      "text/plain": [
       "array([[0.        , 0.55882353],\n",
       "       [0.33653846, 1.        ],\n",
       "       [0.46153846, 0.55882353],\n",
       "       [1.        , 0.55882353],\n",
       "       [0.21153846, 0.        ]])"
      ]
     },
     "execution_count": 170,
     "metadata": {},
     "output_type": "execute_result"
    }
   ],
   "source": [
    "from sklearn.preprocessing import StandardScaler, MinMaxScaler\n",
    "from sklearn.impute import SimpleImputer\n",
    "from sklearn.pipeline import make_pipeline\n",
    "num_pl = make_pipeline(SimpleImputer(strategy='median'), \n",
    "                       StandardScaler())\n",
    "num_pl.set_params(standardscaler=MinMaxScaler())\n",
    "num_pl.fit_transform(X_num)"
   ]
  },
  {
   "cell_type": "code",
   "execution_count": 171,
   "metadata": {},
   "outputs": [
    {
     "data": {
      "text/html": [
       "<style type=\"text/css\">\n",
       "#T_34ffb_row2_col0, #T_34ffb_row4_col1 {\n",
       "  background-color: yellow;\n",
       "}\n",
       "</style>\n",
       "<table id=\"T_34ffb\">\n",
       "  <thead>\n",
       "    <tr>\n",
       "      <th class=\"blank level0\" >&nbsp;</th>\n",
       "      <th id=\"T_34ffb_level0_col0\" class=\"col_heading level0 col0\" >size</th>\n",
       "      <th id=\"T_34ffb_level0_col1\" class=\"col_heading level0 col1\" >color</th>\n",
       "    </tr>\n",
       "  </thead>\n",
       "  <tbody>\n",
       "    <tr>\n",
       "      <th id=\"T_34ffb_level0_row0\" class=\"row_heading level0 row0\" >0</th>\n",
       "      <td id=\"T_34ffb_row0_col0\" class=\"data row0 col0\" >S</td>\n",
       "      <td id=\"T_34ffb_row0_col1\" class=\"data row0 col1\" >red</td>\n",
       "    </tr>\n",
       "    <tr>\n",
       "      <th id=\"T_34ffb_level0_row1\" class=\"row_heading level0 row1\" >1</th>\n",
       "      <td id=\"T_34ffb_row1_col0\" class=\"data row1 col0\" >M</td>\n",
       "      <td id=\"T_34ffb_row1_col1\" class=\"data row1 col1\" >blue</td>\n",
       "    </tr>\n",
       "    <tr>\n",
       "      <th id=\"T_34ffb_level0_row2\" class=\"row_heading level0 row2\" >2</th>\n",
       "      <td id=\"T_34ffb_row2_col0\" class=\"data row2 col0\" >nan</td>\n",
       "      <td id=\"T_34ffb_row2_col1\" class=\"data row2 col1\" >blue</td>\n",
       "    </tr>\n",
       "    <tr>\n",
       "      <th id=\"T_34ffb_level0_row3\" class=\"row_heading level0 row3\" >3</th>\n",
       "      <td id=\"T_34ffb_row3_col0\" class=\"data row3 col0\" >XL</td>\n",
       "      <td id=\"T_34ffb_row3_col1\" class=\"data row3 col1\" >black</td>\n",
       "    </tr>\n",
       "    <tr>\n",
       "      <th id=\"T_34ffb_level0_row4\" class=\"row_heading level0 row4\" >4</th>\n",
       "      <td id=\"T_34ffb_row4_col0\" class=\"data row4 col0\" >XL</td>\n",
       "      <td id=\"T_34ffb_row4_col1\" class=\"data row4 col1\" >nan</td>\n",
       "    </tr>\n",
       "  </tbody>\n",
       "</table>\n"
      ],
      "text/plain": [
       "<pandas.io.formats.style.Styler at 0x29eb0dea2d0>"
      ]
     },
     "execution_count": 171,
     "metadata": {},
     "output_type": "execute_result"
    }
   ],
   "source": [
    "X_col_cat = ['size','color']\n",
    "X_cat = X[X_col_cat]\n",
    "X_cat.style.highlight_null(color='yellow')"
   ]
  },
  {
   "cell_type": "code",
   "execution_count": 172,
   "metadata": {},
   "outputs": [
    {
     "data": {
      "text/plain": [
       "array([[0., 1., 0., 0., 0., 1.],\n",
       "       [1., 0., 0., 0., 1., 0.],\n",
       "       [0., 0., 1., 0., 1., 0.],\n",
       "       [0., 0., 1., 1., 0., 0.],\n",
       "       [0., 0., 1., 0., 1., 0.]])"
      ]
     },
     "execution_count": 172,
     "metadata": {},
     "output_type": "execute_result"
    }
   ],
   "source": [
    "from sklearn.preprocessing import OneHotEncoder\n",
    "\n",
    "cat_pl = make_pipeline(SimpleImputer(strategy='most_frequent'),\n",
    "                       OneHotEncoder(sparse_output =False))\n",
    "cat_pl.fit_transform(X_cat)\n"
   ]
  },
  {
   "cell_type": "code",
   "execution_count": 173,
   "metadata": {},
   "outputs": [
    {
     "data": {
      "text/html": [
       "<div>\n",
       "<style scoped>\n",
       "    .dataframe tbody tr th:only-of-type {\n",
       "        vertical-align: middle;\n",
       "    }\n",
       "\n",
       "    .dataframe tbody tr th {\n",
       "        vertical-align: top;\n",
       "    }\n",
       "\n",
       "    .dataframe thead th {\n",
       "        text-align: right;\n",
       "    }\n",
       "</style>\n",
       "<table border=\"1\" class=\"dataframe\">\n",
       "  <thead>\n",
       "    <tr style=\"text-align: right;\">\n",
       "      <th></th>\n",
       "      <th>0</th>\n",
       "      <th>1</th>\n",
       "      <th>2</th>\n",
       "      <th>3</th>\n",
       "      <th>4</th>\n",
       "      <th>5</th>\n",
       "      <th>6</th>\n",
       "      <th>7</th>\n",
       "    </tr>\n",
       "  </thead>\n",
       "  <tbody>\n",
       "    <tr>\n",
       "      <th>0</th>\n",
       "      <td>2100.0</td>\n",
       "      <td>186.666667</td>\n",
       "      <td>0.0</td>\n",
       "      <td>1.0</td>\n",
       "      <td>0.0</td>\n",
       "      <td>0.0</td>\n",
       "      <td>0.0</td>\n",
       "      <td>1.0</td>\n",
       "    </tr>\n",
       "    <tr>\n",
       "      <th>1</th>\n",
       "      <td>4275.0</td>\n",
       "      <td>350.000000</td>\n",
       "      <td>1.0</td>\n",
       "      <td>0.0</td>\n",
       "      <td>0.0</td>\n",
       "      <td>0.0</td>\n",
       "      <td>1.0</td>\n",
       "      <td>0.0</td>\n",
       "    </tr>\n",
       "    <tr>\n",
       "      <th>2</th>\n",
       "      <td>4500.0</td>\n",
       "      <td>186.666667</td>\n",
       "      <td>0.0</td>\n",
       "      <td>0.0</td>\n",
       "      <td>1.0</td>\n",
       "      <td>0.0</td>\n",
       "      <td>1.0</td>\n",
       "      <td>0.0</td>\n",
       "    </tr>\n",
       "    <tr>\n",
       "      <th>3</th>\n",
       "      <td>7300.0</td>\n",
       "      <td>200.000000</td>\n",
       "      <td>0.0</td>\n",
       "      <td>0.0</td>\n",
       "      <td>1.0</td>\n",
       "      <td>1.0</td>\n",
       "      <td>0.0</td>\n",
       "      <td>0.0</td>\n",
       "    </tr>\n",
       "    <tr>\n",
       "      <th>4</th>\n",
       "      <td>3200.0</td>\n",
       "      <td>10.000000</td>\n",
       "      <td>0.0</td>\n",
       "      <td>0.0</td>\n",
       "      <td>1.0</td>\n",
       "      <td>0.0</td>\n",
       "      <td>1.0</td>\n",
       "      <td>0.0</td>\n",
       "    </tr>\n",
       "  </tbody>\n",
       "</table>\n",
       "</div>"
      ],
      "text/plain": [
       "        0           1    2    3    4    5    6    7\n",
       "0  2100.0  186.666667  0.0  1.0  0.0  0.0  0.0  1.0\n",
       "1  4275.0  350.000000  1.0  0.0  0.0  0.0  1.0  0.0\n",
       "2  4500.0  186.666667  0.0  0.0  1.0  0.0  1.0  0.0\n",
       "3  7300.0  200.000000  0.0  0.0  1.0  1.0  0.0  0.0\n",
       "4  3200.0   10.000000  0.0  0.0  1.0  0.0  1.0  0.0"
      ]
     },
     "execution_count": 173,
     "metadata": {},
     "output_type": "execute_result"
    }
   ],
   "source": [
    "from sklearn.compose import ColumnTransformer\n",
    "data_pl = ColumnTransformer([\n",
    "    ('num_pl', SimpleImputer(strategy='mean'), X_col_num),\n",
    "    ('cat_pl', cat_pl, X_col_cat)\n",
    "])\n",
    "pd.DataFrame(data_pl.fit_transform(X))"
   ]
  },
  {
   "cell_type": "code",
   "execution_count": 174,
   "metadata": {},
   "outputs": [
    {
     "data": {
      "text/html": [
       "<style>#sk-container-id-13 {color: black;}#sk-container-id-13 pre{padding: 0;}#sk-container-id-13 div.sk-toggleable {background-color: white;}#sk-container-id-13 label.sk-toggleable__label {cursor: pointer;display: block;width: 100%;margin-bottom: 0;padding: 0.3em;box-sizing: border-box;text-align: center;}#sk-container-id-13 label.sk-toggleable__label-arrow:before {content: \"▸\";float: left;margin-right: 0.25em;color: #696969;}#sk-container-id-13 label.sk-toggleable__label-arrow:hover:before {color: black;}#sk-container-id-13 div.sk-estimator:hover label.sk-toggleable__label-arrow:before {color: black;}#sk-container-id-13 div.sk-toggleable__content {max-height: 0;max-width: 0;overflow: hidden;text-align: left;background-color: #f0f8ff;}#sk-container-id-13 div.sk-toggleable__content pre {margin: 0.2em;color: black;border-radius: 0.25em;background-color: #f0f8ff;}#sk-container-id-13 input.sk-toggleable__control:checked~div.sk-toggleable__content {max-height: 200px;max-width: 100%;overflow: auto;}#sk-container-id-13 input.sk-toggleable__control:checked~label.sk-toggleable__label-arrow:before {content: \"▾\";}#sk-container-id-13 div.sk-estimator input.sk-toggleable__control:checked~label.sk-toggleable__label {background-color: #d4ebff;}#sk-container-id-13 div.sk-label input.sk-toggleable__control:checked~label.sk-toggleable__label {background-color: #d4ebff;}#sk-container-id-13 input.sk-hidden--visually {border: 0;clip: rect(1px 1px 1px 1px);clip: rect(1px, 1px, 1px, 1px);height: 1px;margin: -1px;overflow: hidden;padding: 0;position: absolute;width: 1px;}#sk-container-id-13 div.sk-estimator {font-family: monospace;background-color: #f0f8ff;border: 1px dotted black;border-radius: 0.25em;box-sizing: border-box;margin-bottom: 0.5em;}#sk-container-id-13 div.sk-estimator:hover {background-color: #d4ebff;}#sk-container-id-13 div.sk-parallel-item::after {content: \"\";width: 100%;border-bottom: 1px solid gray;flex-grow: 1;}#sk-container-id-13 div.sk-label:hover label.sk-toggleable__label {background-color: #d4ebff;}#sk-container-id-13 div.sk-serial::before {content: \"\";position: absolute;border-left: 1px solid gray;box-sizing: border-box;top: 0;bottom: 0;left: 50%;z-index: 0;}#sk-container-id-13 div.sk-serial {display: flex;flex-direction: column;align-items: center;background-color: white;padding-right: 0.2em;padding-left: 0.2em;position: relative;}#sk-container-id-13 div.sk-item {position: relative;z-index: 1;}#sk-container-id-13 div.sk-parallel {display: flex;align-items: stretch;justify-content: center;background-color: white;position: relative;}#sk-container-id-13 div.sk-item::before, #sk-container-id-13 div.sk-parallel-item::before {content: \"\";position: absolute;border-left: 1px solid gray;box-sizing: border-box;top: 0;bottom: 0;left: 50%;z-index: -1;}#sk-container-id-13 div.sk-parallel-item {display: flex;flex-direction: column;z-index: 1;position: relative;background-color: white;}#sk-container-id-13 div.sk-parallel-item:first-child::after {align-self: flex-end;width: 50%;}#sk-container-id-13 div.sk-parallel-item:last-child::after {align-self: flex-start;width: 50%;}#sk-container-id-13 div.sk-parallel-item:only-child::after {width: 0;}#sk-container-id-13 div.sk-dashed-wrapped {border: 1px dashed gray;margin: 0 0.4em 0.5em 0.4em;box-sizing: border-box;padding-bottom: 0.4em;background-color: white;}#sk-container-id-13 div.sk-label label {font-family: monospace;font-weight: bold;display: inline-block;line-height: 1.2em;}#sk-container-id-13 div.sk-label-container {text-align: center;}#sk-container-id-13 div.sk-container {/* jupyter's `normalize.less` sets `[hidden] { display: none; }` but bootstrap.min.css set `[hidden] { display: none !important; }` so we also need the `!important` here to be able to override the default hidden behavior on the sphinx rendered scikit-learn.org. See: https://github.com/scikit-learn/scikit-learn/issues/21755 */display: inline-block !important;position: relative;}#sk-container-id-13 div.sk-text-repr-fallback {display: none;}</style><div id=\"sk-container-id-13\" class=\"sk-top-container\"><div class=\"sk-text-repr-fallback\"><pre>Pipeline(steps=[(&#x27;simpleimputer&#x27;, SimpleImputer(strategy=&#x27;most_frequent&#x27;)),\n",
       "                (&#x27;onehotencoder&#x27;, OneHotEncoder(sparse_output=False))])</pre><b>In a Jupyter environment, please rerun this cell to show the HTML representation or trust the notebook. <br />On GitHub, the HTML representation is unable to render, please try loading this page with nbviewer.org.</b></div><div class=\"sk-container\" hidden><div class=\"sk-item sk-dashed-wrapped\"><div class=\"sk-label-container\"><div class=\"sk-label sk-toggleable\"><input class=\"sk-toggleable__control sk-hidden--visually\" id=\"sk-estimator-id-37\" type=\"checkbox\" ><label for=\"sk-estimator-id-37\" class=\"sk-toggleable__label sk-toggleable__label-arrow\">Pipeline</label><div class=\"sk-toggleable__content\"><pre>Pipeline(steps=[(&#x27;simpleimputer&#x27;, SimpleImputer(strategy=&#x27;most_frequent&#x27;)),\n",
       "                (&#x27;onehotencoder&#x27;, OneHotEncoder(sparse_output=False))])</pre></div></div></div><div class=\"sk-serial\"><div class=\"sk-item\"><div class=\"sk-estimator sk-toggleable\"><input class=\"sk-toggleable__control sk-hidden--visually\" id=\"sk-estimator-id-38\" type=\"checkbox\" ><label for=\"sk-estimator-id-38\" class=\"sk-toggleable__label sk-toggleable__label-arrow\">SimpleImputer</label><div class=\"sk-toggleable__content\"><pre>SimpleImputer(strategy=&#x27;most_frequent&#x27;)</pre></div></div></div><div class=\"sk-item\"><div class=\"sk-estimator sk-toggleable\"><input class=\"sk-toggleable__control sk-hidden--visually\" id=\"sk-estimator-id-39\" type=\"checkbox\" ><label for=\"sk-estimator-id-39\" class=\"sk-toggleable__label sk-toggleable__label-arrow\">OneHotEncoder</label><div class=\"sk-toggleable__content\"><pre>OneHotEncoder(sparse_output=False)</pre></div></div></div></div></div></div></div>"
      ],
      "text/plain": [
       "Pipeline(steps=[('simpleimputer', SimpleImputer(strategy='most_frequent')),\n",
       "                ('onehotencoder', OneHotEncoder(sparse_output=False))])"
      ]
     },
     "execution_count": 174,
     "metadata": {},
     "output_type": "execute_result"
    }
   ],
   "source": [
    "# 第一步：取得cat_pl管道器\n",
    "data_pl.named_transformers_['cat_pl']"
   ]
  },
  {
   "cell_type": "code",
   "execution_count": 175,
   "metadata": {},
   "outputs": [
    {
     "data": {
      "text/plain": [
       "array(['x0_M', 'x0_S', 'x0_XL', 'x1_black', 'x1_blue', 'x1_red'],\n",
       "      dtype=object)"
      ]
     },
     "execution_count": 175,
     "metadata": {},
     "output_type": "execute_result"
    }
   ],
   "source": [
    "# 第二步：取得onehotencoder欄位對應結果\n",
    "data_pl.named_transformers_['cat_pl'].\\\n",
    "named_steps['onehotencoder'].get_feature_names_out()"
   ]
  },
  {
   "cell_type": "code",
   "execution_count": 176,
   "metadata": {},
   "outputs": [
    {
     "data": {
      "text/plain": [
       "dict_keys(['simpleimputer', 'onehotencoder'])"
      ]
     },
     "execution_count": 176,
     "metadata": {},
     "output_type": "execute_result"
    }
   ],
   "source": [
    "# 你如何知道管道器裡的轉換器名稱呢？make_pipeline會自動小寫轉換器的名稱當索引鍵。\n",
    "# 如果還是不確定就用named_steps.keys()列出所有的索引鍵值\n",
    "data_pl.named_transformers_['cat_pl'].named_steps.keys()"
   ]
  },
  {
   "cell_type": "code",
   "execution_count": 177,
   "metadata": {},
   "outputs": [
    {
     "name": "stdout",
     "output_type": "stream",
     "text": [
      "整合後的欄位資料： ['price', 'quantity', 'size_M', 'size_S', 'size_XL', 'color_black', 'color_blue', 'color_red']\n"
     ]
    },
    {
     "data": {
      "text/html": [
       "<div>\n",
       "<style scoped>\n",
       "    .dataframe tbody tr th:only-of-type {\n",
       "        vertical-align: middle;\n",
       "    }\n",
       "\n",
       "    .dataframe tbody tr th {\n",
       "        vertical-align: top;\n",
       "    }\n",
       "\n",
       "    .dataframe thead th {\n",
       "        text-align: right;\n",
       "    }\n",
       "</style>\n",
       "<table border=\"1\" class=\"dataframe\">\n",
       "  <thead>\n",
       "    <tr style=\"text-align: right;\">\n",
       "      <th></th>\n",
       "      <th>price</th>\n",
       "      <th>quantity</th>\n",
       "      <th>size_M</th>\n",
       "      <th>size_S</th>\n",
       "      <th>size_XL</th>\n",
       "      <th>color_black</th>\n",
       "      <th>color_blue</th>\n",
       "      <th>color_red</th>\n",
       "    </tr>\n",
       "  </thead>\n",
       "  <tbody>\n",
       "    <tr>\n",
       "      <th>0</th>\n",
       "      <td>2100.0</td>\n",
       "      <td>186.666667</td>\n",
       "      <td>0.0</td>\n",
       "      <td>1.0</td>\n",
       "      <td>0.0</td>\n",
       "      <td>0.0</td>\n",
       "      <td>0.0</td>\n",
       "      <td>1.0</td>\n",
       "    </tr>\n",
       "    <tr>\n",
       "      <th>1</th>\n",
       "      <td>4275.0</td>\n",
       "      <td>350.000000</td>\n",
       "      <td>1.0</td>\n",
       "      <td>0.0</td>\n",
       "      <td>0.0</td>\n",
       "      <td>0.0</td>\n",
       "      <td>1.0</td>\n",
       "      <td>0.0</td>\n",
       "    </tr>\n",
       "    <tr>\n",
       "      <th>2</th>\n",
       "      <td>4500.0</td>\n",
       "      <td>186.666667</td>\n",
       "      <td>0.0</td>\n",
       "      <td>0.0</td>\n",
       "      <td>1.0</td>\n",
       "      <td>0.0</td>\n",
       "      <td>1.0</td>\n",
       "      <td>0.0</td>\n",
       "    </tr>\n",
       "    <tr>\n",
       "      <th>3</th>\n",
       "      <td>7300.0</td>\n",
       "      <td>200.000000</td>\n",
       "      <td>0.0</td>\n",
       "      <td>0.0</td>\n",
       "      <td>1.0</td>\n",
       "      <td>1.0</td>\n",
       "      <td>0.0</td>\n",
       "      <td>0.0</td>\n",
       "    </tr>\n",
       "    <tr>\n",
       "      <th>4</th>\n",
       "      <td>3200.0</td>\n",
       "      <td>10.000000</td>\n",
       "      <td>0.0</td>\n",
       "      <td>0.0</td>\n",
       "      <td>1.0</td>\n",
       "      <td>0.0</td>\n",
       "      <td>1.0</td>\n",
       "      <td>0.0</td>\n",
       "    </tr>\n",
       "  </tbody>\n",
       "</table>\n",
       "</div>"
      ],
      "text/plain": [
       "    price    quantity  size_M  size_S  size_XL  color_black  color_blue  \\\n",
       "0  2100.0  186.666667     0.0     1.0      0.0          0.0         0.0   \n",
       "1  4275.0  350.000000     1.0     0.0      0.0          0.0         1.0   \n",
       "2  4500.0  186.666667     0.0     0.0      1.0          0.0         1.0   \n",
       "3  7300.0  200.000000     0.0     0.0      1.0          1.0         0.0   \n",
       "4  3200.0   10.000000     0.0     0.0      1.0          0.0         1.0   \n",
       "\n",
       "   color_red  \n",
       "0        1.0  \n",
       "1        0.0  \n",
       "2        0.0  \n",
       "3        0.0  \n",
       "4        0.0  "
      ]
     },
     "execution_count": 177,
     "metadata": {},
     "output_type": "execute_result"
    }
   ],
   "source": [
    "# 第三步：將所有欄位整理到DataFrame裡\n",
    "X_col_cat_oh = data_pl.named_transformers_['cat_pl'].\\\n",
    "named_steps['onehotencoder'].get_feature_names_out(X_col_cat)\n",
    "columns = X_col_num + X_col_cat_oh.tolist()\n",
    "print('整合後的欄位資料：',columns)\n",
    "pd.DataFrame(data_pl.fit_transform(X), columns=columns)\n"
   ]
  }
 ],
 "metadata": {
  "kernelspec": {
   "display_name": "TestEnv",
   "language": "python",
   "name": "python3"
  },
  "language_info": {
   "codemirror_mode": {
    "name": "ipython",
    "version": 3
   },
   "file_extension": ".py",
   "mimetype": "text/x-python",
   "name": "python",
   "nbconvert_exporter": "python",
   "pygments_lexer": "ipython3",
   "version": "3.12.0"
  }
 },
 "nbformat": 4,
 "nbformat_minor": 2
}

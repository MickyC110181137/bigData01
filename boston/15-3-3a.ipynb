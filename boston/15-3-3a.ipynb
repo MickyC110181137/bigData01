{
 "cells": [
  {
   "cell_type": "code",
   "execution_count": 2,
   "metadata": {},
   "outputs": [
    {
     "name": "stdout",
     "output_type": "stream",
     "text": [
      "訓練資料的MSE: 19.546758473534666\n",
      "測試資料的MSE: 28.530458765974643\n",
      "---------------------------\n",
      "訓練資料的R-squared: 0.7551332741779998\n",
      "測試資料的R-squared: 0.69565516561116\n"
     ]
    }
   ],
   "source": [
    "import pandas as pd\n",
    "from sklearn.linear_model import LinearRegression\n",
    "from sklearn.model_selection import train_test_split\n",
    "import matplotlib.pyplot as plt\n",
    "import numpy as np\n",
    "plt.rcParams['font.sans-serif'] = ['Microsoft JhengHei'] \n",
    "plt.rcParams['axes.unicode_minus'] = False\n",
    "\n",
    "raw_df = pd.read_csv(\"boston.csv\", sep=r\"\\s+\", skiprows=22, header=None)\n",
    "data = np.hstack([raw_df.values[::2, :], raw_df.values[1::2, :2]])\n",
    "target = raw_df.values[1::2, 2]\n",
    "feature_names = ['CRIM', 'ZN', 'INDUS', 'CHAS', 'NOX', 'RM',\n",
    "                 'AGE', 'DIS', 'RAD', 'TAX', 'PTRATIO', 'B', 'LSTAT']\n",
    "X = pd.DataFrame(data, columns=feature_names)\n",
    "target = pd.DataFrame(target, columns=[\"MEDV\"])\n",
    "y = target[\"MEDV\"]\n",
    "\n",
    "XTrain, XTest, yTrain, yTest = train_test_split(X, y, test_size=0.33,\n",
    "                                                random_state=5)\n",
    "lm = LinearRegression()\n",
    "lm.fit(XTrain, yTrain)\n",
    "\n",
    "pred_train = lm.predict(XTrain)\n",
    "pred_test = lm.predict(XTest)\n",
    "\n",
    "MSE_train = np.mean((yTrain-pred_train)**2)\n",
    "MSE_test = np.mean((yTest-pred_test)**2)\n",
    "print(\"訓練資料的MSE:\", MSE_train)\n",
    "print(\"測試資料的MSE:\", MSE_test)\n",
    "print(\"---------------------------\")\n",
    "print(\"訓練資料的R-squared:\", lm.score(XTrain, yTrain))\n",
    "print(\"測試資料的R-squared:\", lm.score(XTest, yTest))\n"
   ]
  }
 ],
 "metadata": {
  "kernelspec": {
   "display_name": "TestEnv",
   "language": "python",
   "name": "python3"
  },
  "language_info": {
   "codemirror_mode": {
    "name": "ipython",
    "version": 3
   },
   "file_extension": ".py",
   "mimetype": "text/x-python",
   "name": "python",
   "nbconvert_exporter": "python",
   "pygments_lexer": "ipython3",
   "version": "3.12.0"
  }
 },
 "nbformat": 4,
 "nbformat_minor": 2
}

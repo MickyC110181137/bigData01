{
 "cells": [
  {
   "cell_type": "code",
   "execution_count": 1,
   "metadata": {},
   "outputs": [
    {
     "name": "stdout",
     "output_type": "stream",
     "text": [
      "<class 'pandas.core.frame.DataFrame'>\n",
      "RangeIndex: 1313 entries, 0 to 1312\n",
      "Data columns (total 7 columns):\n",
      " #   Column       Non-Null Count  Dtype  \n",
      "---  ------       --------------  -----  \n",
      " 0   PassengerId  1313 non-null   int64  \n",
      " 1   Name         1313 non-null   object \n",
      " 2   PClass       1313 non-null   object \n",
      " 3   Age          756 non-null    float64\n",
      " 4   Sex          1313 non-null   object \n",
      " 5   Survived     1313 non-null   int64  \n",
      " 6   SexCode      1313 non-null   int64  \n",
      "dtypes: float64(1), int64(3), object(3)\n",
      "memory usage: 71.9+ KB\n",
      "None\n",
      "---------------------------\n",
      "Survived    0    1\n",
      "row_0             \n",
      "0         805  185\n",
      "1          58  265\n",
      "---------------------------\n",
      "0.814927646610815\n",
      "0.814927646610815\n"
     ]
    }
   ],
   "source": [
    "import pandas as pd\n",
    "import numpy as np\n",
    "from sklearn import preprocessing, linear_model\n",
    "\n",
    "titanic = pd.read_csv(\"titanic.csv\")\n",
    "print(titanic.info())\n",
    "print(\"---------------------------\")\n",
    "# 將年齡的空值填入年齡的中位數\n",
    "age_median = np.nanmedian(titanic[\"Age\"])\n",
    "new_age = np.where(titanic[\"Age\"].isnull(), \n",
    "                   age_median, titanic[\"Age\"])\n",
    "titanic[\"Age\"] = new_age\n",
    "# 轉換欄位值成為數值\n",
    "label_encoder = preprocessing.LabelEncoder()\n",
    "encoded_class = label_encoder.fit_transform(titanic[\"PClass\"])\n",
    "\n",
    "X = pd.DataFrame([encoded_class, \n",
    "                  titanic[\"SexCode\"],\n",
    "                  titanic[\"Age\"]]).T\n",
    "y = titanic[\"Survived\"]\n",
    "\n",
    "logistic = linear_model.LogisticRegression()\n",
    "logistic.fit(X, y)\n",
    "\n",
    "preds = logistic.predict(X)\n",
    "print(pd.crosstab(preds, titanic[\"Survived\"]))\n",
    "pd.crosstab(preds, titanic[\"Survived\"]).to_html(\"ch15-4-2a.html\")\n",
    "print(\"---------------------------\")\n",
    "print((805+265)/(805+185+58+265))\n",
    "print(logistic.score(X, y))\n"
   ]
  }
 ],
 "metadata": {
  "kernelspec": {
   "display_name": "TestEnv",
   "language": "python",
   "name": "python3"
  },
  "language_info": {
   "codemirror_mode": {
    "name": "ipython",
    "version": 3
   },
   "file_extension": ".py",
   "mimetype": "text/x-python",
   "name": "python",
   "nbconvert_exporter": "python",
   "pygments_lexer": "ipython3",
   "version": "3.12.0"
  }
 },
 "nbformat": 4,
 "nbformat_minor": 2
}

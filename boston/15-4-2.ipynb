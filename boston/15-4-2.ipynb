{
 "cells": [
  {
   "cell_type": "code",
   "execution_count": 3,
   "metadata": {},
   "outputs": [
    {
     "name": "stdout",
     "output_type": "stream",
     "text": [
      "<class 'pandas.core.frame.DataFrame'>\n",
      "RangeIndex: 1313 entries, 0 to 1312\n",
      "Data columns (total 7 columns):\n",
      " #   Column       Non-Null Count  Dtype  \n",
      "---  ------       --------------  -----  \n",
      " 0   PassengerId  1313 non-null   int64  \n",
      " 1   Name         1313 non-null   object \n",
      " 2   PClass       1313 non-null   object \n",
      " 3   Age          756 non-null    float64\n",
      " 4   Sex          1313 non-null   object \n",
      " 5   Survived     1313 non-null   int64  \n",
      " 6   SexCode      1313 non-null   int64  \n",
      "dtypes: float64(1), int64(3), object(3)\n",
      "memory usage: 71.9+ KB\n",
      "None\n",
      "---------------------------\n",
      "年齡中位數 28.0\n",
      "---------------------------\n",
      "      PassengerId                                           Name PClass  \\\n",
      "0               1                   Allen, Miss Elisabeth Walton    1st   \n",
      "1               2                    Allison, Miss Helen Loraine    1st   \n",
      "2               3            Allison, Mr Hudson Joshua Creighton    1st   \n",
      "3               4  Allison, Mrs Hudson JC (Bessie Waldo Daniels)    1st   \n",
      "4               5                  Allison, Master Hudson Trevor    1st   \n",
      "...           ...                                            ...    ...   \n",
      "1308         1309                             Zakarian, Mr Artun    3rd   \n",
      "1309         1310                         Zakarian, Mr Maprieder    3rd   \n",
      "1310         1311                               Zenni, Mr Philip    3rd   \n",
      "1311         1312                               Lievens, Mr Rene    3rd   \n",
      "1312         1313                                 Zimmerman, Leo    3rd   \n",
      "\n",
      "        Age     Sex  Survived  SexCode  \n",
      "0     29.00  female         1        1  \n",
      "1      2.00  female         0        1  \n",
      "2     30.00    male         0        0  \n",
      "3     25.00  female         0        1  \n",
      "4      0.92    male         1        0  \n",
      "...     ...     ...       ...      ...  \n",
      "1308  27.00    male         0        0  \n",
      "1309  26.00    male         0        0  \n",
      "1310  22.00    male         0        0  \n",
      "1311  24.00    male         0        0  \n",
      "1312  29.00    male         0        0  \n",
      "\n",
      "[1313 rows x 7 columns]\n",
      "---------------------------\n",
      "迴歸係數: [[-1.1832979   2.3834008  -0.03499218]]\n",
      "截距: [1.99663426]\n"
     ]
    }
   ],
   "source": [
    "import pandas as pd\n",
    "import numpy as np\n",
    "from sklearn import preprocessing, linear_model\n",
    "\n",
    "titanic = pd.read_csv(\"titanic.csv\")\n",
    "print(titanic.info())\n",
    "print(\"---------------------------\")\n",
    "# 將年齡的空值填入年齡的中位數\n",
    "age_median = np.nanmedian(titanic[\"Age\"])\n",
    "print(\"年齡中位數\", age_median)\n",
    "print(\"---------------------------\")\n",
    "new_age = np.where(titanic[\"Age\"].isnull(), \n",
    "                   age_median, titanic[\"Age\"])\n",
    "titanic[\"Age\"] = new_age\n",
    "print(titanic)\n",
    "print(\"---------------------------\")\n",
    "# 轉換欄位值成為數值\n",
    "label_encoder = preprocessing.LabelEncoder()\n",
    "encoded_class = label_encoder.fit_transform(titanic[\"PClass\"])\n",
    "\n",
    "X = pd.DataFrame([encoded_class, \n",
    "                  titanic[\"SexCode\"],\n",
    "                  titanic[\"Age\"]]).T\n",
    "y = titanic[\"Survived\"]\n",
    "\n",
    "logistic = linear_model.LogisticRegression()\n",
    "logistic.fit(X, y)\n",
    "print(\"迴歸係數:\", logistic.coef_)\n",
    "print(\"截距:\", logistic.intercept_ )\n"
   ]
  }
 ],
 "metadata": {
  "kernelspec": {
   "display_name": "TestEnv",
   "language": "python",
   "name": "python3"
  },
  "language_info": {
   "codemirror_mode": {
    "name": "ipython",
    "version": 3
   },
   "file_extension": ".py",
   "mimetype": "text/x-python",
   "name": "python",
   "nbconvert_exporter": "python",
   "pygments_lexer": "ipython3",
   "version": "3.12.0"
  }
 },
 "nbformat": 4,
 "nbformat_minor": 2
}

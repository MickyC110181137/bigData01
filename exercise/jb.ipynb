{
 "cells": [
  {
   "cell_type": "code",
   "execution_count": 4,
   "metadata": {},
   "outputs": [
    {
     "name": "stdout",
     "output_type": "stream",
     "text": [
      "chicken 2\n",
      "dog 4\n",
      "cat 4\n",
      "spider 8\n",
      "animal,chicken has 2 legs\n",
      "animal,dog has 4 legs\n",
      "animal,cat has 4 legs\n",
      "animal,spider has 8 legs\n",
      "W05_EX08_2023/10/12\n"
     ]
    }
   ],
   "source": [
    "d= {\"chicken\":2,\"dog\":4,\"cat\":4,\"spider\":8,}\n",
    "for animal in d:\n",
    "    legs=d[animal]\n",
    "    print(animal,legs)\n",
    "\n",
    "for animal ,legs in d.items():\n",
    "    print(\"animal,%s has %d legs\" % (animal,legs))\n",
    "print(\"W05_EX08_2023/10/12\")"
   ]
  },
  {
   "cell_type": "code",
   "execution_count": 7,
   "metadata": {},
   "outputs": [
    {
     "name": "stdout",
     "output_type": "stream",
     "text": [
      "{4, 5}\n",
      "W05_EX10_CH2-5-3b.py_P2-29~31\n"
     ]
    }
   ],
   "source": [
    "A = {1,2,3,4,5}\n",
    "B = {4,5,6,7,8}\n",
    "C = A & B \n",
    "C = A.intersection(B)\n",
    "print(C)\n",
    "print(\"W05_EX10_CH2-5-3b.py_P2-29~31\")"
   ]
  },
  {
   "cell_type": "code",
   "execution_count": 12,
   "metadata": {},
   "outputs": [
    {
     "name": "stdout",
     "output_type": "stream",
     "text": [
      "<class 'tuple'>\n",
      "(5, 6, 7, 8)\n",
      "5\n",
      "6\n",
      "8\n",
      "7\n",
      "5678\n",
      "W05_EX10_CH2-5-4.py_P2-31\n"
     ]
    }
   ],
   "source": [
    "t = (5,6,7,8)\n",
    "print(type(t))\n",
    "print(t)\n",
    "print(t[0])\n",
    "print(t[1])\n",
    "print(t[-1])\n",
    "print(t[-2])\n",
    "for ele in t:\n",
    "    print(ele,end=\"\")\n",
    "\n",
    "print(\"\\nW05_EX10_CH2-5-4.py_P2-31\")"
   ]
  },
  {
   "cell_type": "code",
   "execution_count": 18,
   "metadata": {},
   "outputs": [
    {
     "name": "stdout",
     "output_type": "stream",
     "text": [
      "helloworld\n",
      "name = Micky\n",
      "grade = 85\n",
      "call whoami: Micky\n",
      "W05_EX12_CH2-5-4.py_P2-32\n"
     ]
    }
   ],
   "source": [
    "def main():\n",
    "    print(\"helloworld\")\n",
    "\n",
    "class Student:\n",
    "    def __init__(self,name,grade):\n",
    "        self.name = name\n",
    "        self.grade = grade\n",
    "\n",
    "    def displayStudent(self):\n",
    "        print(\"name = \" + self.name)\n",
    "        print(\"grade = \" + str(self.grade))\n",
    "\n",
    "    def whoami(self):\n",
    "        return self.name\n",
    "\n",
    "if __name__ == '__main__':\n",
    "    main()\n",
    "    s1 = Student(\"Micky\",85)\n",
    "    s1.displayStudent()\n",
    "\n",
    "    print(\"call whoami: \" + s1.whoami())\n",
    "    print(\"W05_EX12_CH2-5-4.py_P2-32\")"
   ]
  },
  {
   "cell_type": "code",
   "execution_count": 23,
   "metadata": {},
   "outputs": [
    {
     "name": "stdout",
     "output_type": "stream",
     "text": [
      "helloworld\n",
      "85\n",
      "W05_EX13_P2-35\n"
     ]
    }
   ],
   "source": [
    "def main():\n",
    "    print(\"helloworld\")\n",
    "\n",
    "class Student:\n",
    "    def __init__(self,name,grade):\n",
    "        self.name = name\n",
    "        self.__grade = grade\n",
    "\n",
    "    def displayStudent(self):\n",
    "        print(\"name = \" + self.name)\n",
    "        print(\"grade = \" + str(self.grade))\n",
    "\n",
    "    def whoami(self):\n",
    "        return self.name\n",
    "    def getGrade(self):\n",
    "        return self.__grade\n",
    "\n",
    "if __name__ == '__main__':\n",
    "    main()\n",
    "    s1 = Student(\"Micky\",85)\n",
    "\n",
    "    print(s1.getGrade())\n",
    "    print(\"W05_EX13_P2-35\")"
   ]
  },
  {
   "cell_type": "code",
   "execution_count": 14,
   "metadata": {},
   "outputs": [
    {
     "name": "stdout",
     "output_type": "stream",
     "text": [
      "<!DOCTYPE html>\n",
      "<html lang=\"big5\">\n",
      "<head>\n",
      "<meta charset=\"utf-8\"/>\n",
      "<title>測試資料擷取的HTML網頁</title>\n",
      "</head>\n",
      "<body> <!-- Surveys -->\n",
      "<div class=\"surveys\" id=\"surveys\">\n",
      "<div class=\"survey\" id=\"q1\">\n",
      "<p class=\"question\"> <a href=\"http://example.com/q1\" target=\"_blank\">請問你的<b>性別</b>?</a></p>\n",
      "<ul class=\"answer\">\n",
      "<li class=\"response\">男 - <span class=\"score selected\">20</span></li>\n",
      "<li class=\"response\">女 - <span class=\"score\">10</span></li>\n",
      "</ul>\n",
      "</div>\n",
      "</div>\n",
      "</body>\n",
      "</html>\n",
      "W07_EX28_ch4-2-1b.py_P4-12\n"
     ]
    }
   ],
   "source": [
    "from bs4 import BeautifulSoup\n",
    "\n",
    "with open(\"Survets.html\",\"r\",encoding=\"utf8\") as fp:\n",
    "    soup = BeautifulSoup(fp,\"lxml\")\n",
    "    print(soup)\n",
    "print(\"W07_EX28_ch4-2-1b.py_P4-12\")"
   ]
  },
  {
   "cell_type": "code",
   "execution_count": 13,
   "metadata": {},
   "outputs": [
    {
     "name": "stdout",
     "output_type": "stream",
     "text": [
      "labelName: li\n",
      "labelText: 女 - 10\n",
      "labelString: None\n",
      "labelAttrs: {'class': ['response']}\n",
      "http://example.com/q1\n"
     ]
    }
   ],
   "source": [
    "with open(\"Survets.html\",\"r\",encoding=\"utf8\") as fp:\n",
    "    soup = BeautifulSoup(fp,\"lxml\")\n",
    "tags = soup(\"li\")\n",
    "tags1 = soup(\"p\")\n",
    "tag = tags[1]\n",
    "print(\"labelName:\",tag.name)\n",
    "print(\"labelText:\",tag.text)\n",
    "print(\"labelString:\",tag.string)\n",
    "print(\"labelAttrs:\",tag.attrs)\n",
    "print(tags1[0].a.get(\"href\"))\n"
   ]
  },
  {
   "cell_type": "code",
   "execution_count": 1,
   "metadata": {},
   "outputs": [],
   "source": [
    "import json\n",
    "import requests\n",
    "url = \"https://www.googleapis.com/books/v1/volumes?maxResults=5&q=Python&projection=lite\"\n",
    "jsonfile = \"GoogleBooks.json\"\n",
    "r = requests.get(url)\n",
    "r.encoding = \"utf8\"\n",
    "json_data = json.loads(r.text)\n",
    "with open(jsonfile,'w') as fp:\n",
    "    json.dump(json_data,fp)"
   ]
  },
  {
   "cell_type": "code",
   "execution_count": 2,
   "metadata": {},
   "outputs": [
    {
     "name": "stdout",
     "output_type": "stream",
     "text": [
      "404\n",
      "wait 5s\n",
      "404\n",
      "wait 5s\n",
      "404\n",
      "wait 5s\n",
      "404\n",
      "wait 5s\n",
      "404\n",
      "wait 5s\n",
      "404\n",
      "wait 5s\n"
     ]
    },
    {
     "ename": "KeyboardInterrupt",
     "evalue": "",
     "output_type": "error",
     "traceback": [
      "\u001b[1;31m---------------------------------------------------------------------------\u001b[0m",
      "\u001b[1;31mKeyboardInterrupt\u001b[0m                         Traceback (most recent call last)",
      "\u001b[1;32mc:\\Users\\11706\\OneDrive\\桌面\\1011\\jb.ipynb Cell 9\u001b[0m line \u001b[0;36m1\n\u001b[0;32m      <a href='vscode-notebook-cell:/c%3A/Users/11706/OneDrive/%E6%A1%8C%E9%9D%A2/1011/jb.ipynb#X13sZmlsZQ%3D%3D?line=8'>9</a>\u001b[0m \u001b[39mprint\u001b[39m(r\u001b[39m.\u001b[39mstatus_code)\n\u001b[0;32m     <a href='vscode-notebook-cell:/c%3A/Users/11706/OneDrive/%E6%A1%8C%E9%9D%A2/1011/jb.ipynb#X13sZmlsZQ%3D%3D?line=9'>10</a>\u001b[0m \u001b[39mprint\u001b[39m(\u001b[39m\"\u001b[39m\u001b[39mwait 5s\u001b[39m\u001b[39m\"\u001b[39m)\n\u001b[1;32m---> <a href='vscode-notebook-cell:/c%3A/Users/11706/OneDrive/%E6%A1%8C%E9%9D%A2/1011/jb.ipynb#X13sZmlsZQ%3D%3D?line=10'>11</a>\u001b[0m time\u001b[39m.\u001b[39;49msleep(\u001b[39m5\u001b[39;49m)\n",
      "\u001b[1;31mKeyboardInterrupt\u001b[0m: "
     ]
    }
   ],
   "source": [
    "import time;\n",
    "import requests;\n",
    "\n",
    "URL = \"http://www.majortests.com/word-list-0{0}.html\"\n",
    "\n",
    "for i in range(1,10):\n",
    "    url = URL.format(i)\n",
    "    r = requests.get(url)\n",
    "    print(r.status_code)\n",
    "    print(\"wait 5s\")\n",
    "    time.sleep(5)"
   ]
  },
  {
   "cell_type": "code",
   "execution_count": 4,
   "metadata": {},
   "outputs": [
    {
     "name": "stdout",
     "output_type": "stream",
     "text": [
      "Deleted\n",
      "\n",
      "-\n",
      "/bbs/NBA/M.1698643708.A.012.html\n",
      "[新聞] 球隊淨效率值差距超大 湖人難擺脫「詹皇\n",
      "XXXaBg\n",
      "Deleted\n",
      "\n",
      "-\n",
      "/bbs/NBA/M.1698644648.A.158.html\n",
      "[花邊] Kawhi:Wembanyama可以打給我聊聊\n",
      "EZ78\n",
      "/bbs/NBA/M.1698645932.A.02D.html\n",
      "Re: [花邊] 小河：Bronny 靠爸    球迷：你也是\n",
      "yuta1070218\n",
      "/bbs/NBA/M.1698647000.A.54C.html\n",
      "[情報] 吃飯睡覺打Ayton 鉛筆對戰場均35.9+14\n",
      "PaulDavis\n",
      "/bbs/NBA/M.1698648391.A.DF6.html\n",
      "[花邊] Wembanyama：第三次在NBA遇到逆境\n",
      "Tonyx599026\n",
      "/bbs/NBA/M.1698649596.A.7E0.html\n",
      "[花邊] 國王送LBJ紅酒、球鞋和20週年紀念相片\n",
      "XXXaBg\n",
      "/bbs/NBA/M.1698652933.A.2BD.html\n",
      "[新聞] KBM-文班亞瑪童年偶像回春？　威斯布魯克\n",
      "bart9425\n",
      "/bbs/NBA/M.1698659424.A.84E.html\n",
      "[花邊] Antetokounmpo：我知道Lillard有多麼優秀\n",
      "fack3170\n",
      "/bbs/NBA/M.1698660460.A.0DB.html\n",
      "[新聞] 自新秀年連續1365場先發紀錄中斷 保羅：能贏球最重要\n",
      "playerunknow\n",
      "/bbs/NBA/M.1698669160.A.267.html\n",
      "[討論] Jokic是不是高出所有球員一階？\n",
      "abc0203\n",
      "/bbs/NBA/M.1698670207.A.938.html\n",
      "[情報] 2025狀元熱門Cooper Flagg選擇杜克大學\n",
      "tim19990312\n",
      "/bbs/NBA/M.1698670669.A.A54.html\n",
      "Re: [討論] Jokic是不是高出所有球員一階？\n",
      "Dickys200092\n",
      "/bbs/NBA/M.1698671504.A.994.html\n",
      "[新聞] 珍惜穿勇士球衣時光 湯普森：不擔心續約\n",
      "thnlkj0665\n",
      "/bbs/NBA/M.1698671779.A.BD4.html\n",
      "Re: [討論] Jokic是不是高出所有球員一階？\n",
      "LABOYS\n",
      "/bbs/NBA/M.1698674282.A.378.html\n",
      "[花邊] 20年後的巧合-LBJ\n",
      "Skyblueway\n",
      "/bbs/NBA/M.1698675312.A.F4E.html\n",
      "[情報] 金卡戴珊的品牌成為NBA官方內衣合作夥伴\n",
      "zxc906383\n",
      "/bbs/NBA/M.1698681535.A.0DD.html\n",
      "[花邊] Coby White, Clarkson 因假摔被罰款2000元\n",
      "thnlkj0665\n",
      "/bbs/NBA/M.1698683681.A.725.html\n",
      "[花邊] 比肩喬丹、詹皇 魔術強森躋身億萬富翁 成\n",
      "Intelnet\n"
     ]
    }
   ],
   "source": [
    "import requests\n",
    "from bs4 import BeautifulSoup\n",
    "\n",
    "URL = \"https://www.ptt.cc/bbs/NBA/index6503.html\"\n",
    "DELETED = BeautifulSoup(\"<a href='Deleted'</a>\",\"lxml\").a\n",
    "r=requests.get(URL)\n",
    "if r.status_code == requests.codes.ok:\n",
    "    r.encoding = \"utf-8\"\n",
    "    soup = BeautifulSoup(r.text,\"lxml\")\n",
    "    tag_divs = soup.find_all(\"div\",class_=\"r-ent\")\n",
    "    for tag in tag_divs:\n",
    "        tag_a = tag.find(\"a\") or DELETED\n",
    "        print(tag_a[\"href\"])\n",
    "        print(tag_a.text)\n",
    "        print(tag.find(\"div\",class_=\"author\").string)\n",
    "else:\n",
    "    print(\"Http請求錯誤\"+ url)"
   ]
  },
  {
   "cell_type": "code",
   "execution_count": 2,
   "metadata": {},
   "outputs": [
    {
     "data": {
      "image/png": "[encoded data removed]",
      "text/plain": [
       "<Figure size 640x480 with 1 Axes>"
      ]
     },
     "metadata": {},
     "output_type": "display_data"
    }
   ],
   "source": [
    "import matplotlib.pyplot as plt\n",
    "import pandas as pd\n",
    "plt.rcParams['font.sans-serif'] = ['Microsoft JhengHei'] \n",
    "plt.rcParams['axes.unicode_minus'] = False\n",
    "\n",
    "hours_phone_used = [0,0,0,1,1.3,1.5,2,2.2,2.6,3.2,4.1,4.4,4.4,5]\n",
    "work_performance = [87,89,91,90,82,80,78,81,76,85,80,75,73,72]\n",
    "\n",
    "df = pd.DataFrame({\"手機使用時間(小時)\":hours_phone_used,\n",
    "                   \"工作效率\":work_performance})\n",
    "\n",
    "df.plot(kind=\"scatter\", x=\"手機使用時間(小時)\", y=\"工作效率\")\n",
    "plt.title(\"手機使用時數與工作效率\")\n",
    "plt.show()"
   ]
  },
  {
   "cell_type": "code",
   "execution_count": 3,
   "metadata": {},
   "outputs": [
    {
     "name": "stdout",
     "output_type": "stream",
     "text": [
      "資料數: 14\n",
      "x平均: 2.264285714285714\n",
      "y平均: 81.35714285714286\n",
      "x偏差*y編差和: -119.42142857142856\n",
      "共變異數: -8.530102040816326\n"
     ]
    }
   ],
   "source": [
    "import numpy as np\n",
    "\n",
    "hours_phone_used = [0,0,0,1,1.3,1.5,2,2.2,2.6,3.2,4.1,4.4,4.4,5]\n",
    "work_performance = [87,89,91,90,82,80,78,81,76,85,80,75,73,72]\n",
    "\n",
    "x = np.array(hours_phone_used)\n",
    "y = np.array(work_performance)\n",
    "n = len(x)\n",
    "x_mean = x.mean()\n",
    "y_mean = y.mean()\n",
    "print(\"資料數:\", n)\n",
    "print(\"x平均:\", x_mean)\n",
    "print(\"y平均:\", y_mean)\n",
    "\n",
    "diff = (x-x_mean)*(y-y_mean)\n",
    "print(\"x偏差*y編差和:\", diff.sum())\n",
    "covar = diff.sum()/n\n",
    "print(\"共變異數:\", covar)"
   ]
  },
  {
   "cell_type": "code",
   "execution_count": 4,
   "metadata": {},
   "outputs": [
    {
     "name": "stdout",
     "output_type": "stream",
     "text": [
      "共變異數: -8.530102040816326\n",
      "相關係數: -0.8384124440330989\n",
      "---------------------------\n",
      "            手機使用時間(小時)      工作效率\n",
      "手機使用時間(小時)    1.000000 -0.838412\n",
      "工作效率         -0.838412  1.000000\n"
     ]
    }
   ],
   "source": [
    "import numpy as np\n",
    "import pandas as pd\n",
    "\n",
    "hours_phone_used = [0,0,0,1,1.3,1.5,2,2.2,2.6,3.2,4.1,4.4,4.4,5]\n",
    "work_performance = [87,89,91,90,82,80,78,81,76,85,80,75,73,72]\n",
    "\n",
    "x = np.array(hours_phone_used)\n",
    "y = np.array(work_performance)\n",
    "n = len(x)\n",
    "x_mean = x.mean()\n",
    "y_mean = y.mean()\n",
    "\n",
    "diff = (x-x_mean)*(y-y_mean)\n",
    "covar = diff.sum()/n\n",
    "print(\"共變異數:\", covar)\n",
    "\n",
    "corr = covar/(x.std()*y.std())\n",
    "print(\"相關係數:\", corr)\n",
    "print(\"---------------------------\")\n",
    "df = pd.DataFrame({\"手機使用時間(小時)\":hours_phone_used,\n",
    "                   \"工作效率\":work_performance})\n",
    "print(df.corr())\n",
    "df.corr().to_html(\"ch13-1-3.html\")"
   ]
  },
  {
   "cell_type": "code",
   "execution_count": 5,
   "metadata": {},
   "outputs": [
    {
     "name": "stdout",
     "output_type": "stream",
     "text": [
      "   FB追蹤數  快樂程度\n",
      "0    110   0.3\n",
      "1   1018   0.8\n",
      "2   1130   0.5\n",
      "3    417   0.4\n",
      "4    626   0.6\n",
      "---------------------------\n",
      "   標準化FB追蹤數   標準化快樂程度\n",
      "0 -1.636807 -0.870370\n",
      "1  0.541891  1.444444\n",
      "2  0.810629  0.055556\n",
      "3 -0.900176 -0.407407\n",
      "4 -0.398692  0.518519\n"
     ]
    },
    {
     "data": {
      "image/png": "[encoded data removed]",
      "text/plain": [
       "<Figure size 640x480 with 1 Axes>"
      ]
     },
     "metadata": {},
     "output_type": "display_data"
    }
   ],
   "source": [
    "import matplotlib.pyplot as plt\n",
    "import pandas as pd\n",
    "from sklearn import preprocessing\n",
    "plt.rcParams['font.sans-serif'] = ['Microsoft JhengHei'] \n",
    "plt.rcParams['axes.unicode_minus'] = False\n",
    "\n",
    "f_tracking= [110, 1018, 1130, 417, 626,\n",
    "             957, 90, 951, 946, 797,\n",
    "             981, 125, 456, 731, 1640,\n",
    "             486, 1309, 472, 1133, 1773,\n",
    "             906, 532, 742, 621, 855]\n",
    "happiness = [0.3, 0.8, 0.5, 0.4, 0.6,\n",
    "             0.4, 0.7, 0.5, 0.4, 0.3, \n",
    "             0.3, 0.6, 0.2, 0.8, 1,\n",
    "             0.6, 0.2, 0.7, 0.5, 0.7,\n",
    "             0.1, 0.4, 0.3, 0.6, 0.3]\n",
    "\n",
    "df = pd.DataFrame({\"FB追蹤數\" : f_tracking,\n",
    "                   \"快樂程度\" : happiness})\n",
    "print(df.head())\n",
    "df.head().to_html(\"ch13-2-1-01.html\")\n",
    "print(\"---------------------------\")\n",
    "df_scaled = pd.DataFrame(preprocessing.scale(df), \n",
    "            columns=[\"標準化FB追蹤數\", \"標準化快樂程度\"])\n",
    "print(df_scaled.head())\n",
    "df_scaled.head().to_html(\"ch13-2-1-02.html\")\n",
    "\n",
    "df_scaled.plot(kind=\"scatter\", x=\"標準化FB追蹤數\",\n",
    "               y=\"標準化快樂程度\")\n",
    "plt.show()"
   ]
  },
  {
   "cell_type": "code",
   "execution_count": 6,
   "metadata": {},
   "outputs": [
    {
     "name": "stdout",
     "output_type": "stream",
     "text": [
      "   FB追蹤數  快樂程度\n",
      "0    110   0.3\n",
      "1   1018   0.8\n",
      "2   1130   0.5\n",
      "3    417   0.4\n",
      "4    626   0.6\n",
      "---------------------------\n",
      "   標準化FB追蹤數   標準化快樂程度\n",
      "0 -1.636807 -0.870370\n",
      "1  0.541891  1.444444\n",
      "2  0.810629  0.055556\n",
      "3 -0.900176 -0.407407\n",
      "4 -0.398692  0.518519\n",
      "---------------------------\n",
      "   最小最大值縮放FB追蹤數  最小最大值縮放快樂程度\n",
      "0      0.011884     0.222222\n",
      "1      0.551396     0.777778\n",
      "2      0.617944     0.444444\n",
      "3      0.194296     0.333333\n",
      "4      0.318479     0.555556\n"
     ]
    },
    {
     "data": {
      "image/png": "[encoded data removed]",
      "text/plain": [
       "<Figure size 640x480 with 1 Axes>"
      ]
     },
     "metadata": {},
     "output_type": "display_data"
    },
    {
     "data": {
      "image/png": "[encoded data removed]",
      "text/plain": [
       "<Figure size 640x480 with 1 Axes>"
      ]
     },
     "metadata": {},
     "output_type": "display_data"
    }
   ],
   "source": [
    "import matplotlib.pyplot as plt\n",
    "import pandas as pd\n",
    "from sklearn import preprocessing\n",
    "plt.rcParams['font.sans-serif'] = ['Microsoft JhengHei'] \n",
    "plt.rcParams['axes.unicode_minus'] = False\n",
    "\n",
    "f_tracking= [110, 1018, 1130, 417, 626,\n",
    "             957, 90, 951, 946, 797,\n",
    "             981, 125, 456, 731, 1640,\n",
    "             486, 1309, 472, 1133, 1773,\n",
    "             906, 532, 742, 621, 855]\n",
    "happiness = [0.3, 0.8, 0.5, 0.4, 0.6,\n",
    "             0.4, 0.7, 0.5, 0.4, 0.3, \n",
    "             0.3, 0.6, 0.2, 0.8, 1,\n",
    "             0.6, 0.2, 0.7, 0.5, 0.7,\n",
    "             0.1, 0.4, 0.3, 0.6, 0.3]\n",
    "\n",
    "df = pd.DataFrame({\"FB追蹤數\" : f_tracking,\n",
    "                   \"快樂程度\" : happiness})\n",
    "print(df.head())\n",
    "print(\"---------------------------\")\n",
    "df_scaled = pd.DataFrame(preprocessing.scale(df), \n",
    "            columns=[\"標準化FB追蹤數\", \"標準化快樂程度\"])\n",
    "print(df_scaled.head())\n",
    "df_scaled.plot(kind=\"scatter\", x=\"標準化FB追蹤數\", y=\"標準化快樂程度\")\n",
    "print(\"---------------------------\")\n",
    "scaler = preprocessing.MinMaxScaler(feature_range=(0, 1))\n",
    "np_minmax = scaler.fit_transform(df)\n",
    "df_minmax = pd.DataFrame(np_minmax,\n",
    "            columns=[\"最小最大值縮放FB追蹤數\", \"最小最大值縮放快樂程度\"])\n",
    "print(df_minmax.head())\n",
    "df_minmax.head().to_html(\"ch13-2-2.html\")\n",
    "\n",
    "df_minmax.plot(kind=\"scatter\", x=\"最小最大值縮放FB追蹤數\",\n",
    "               y=\"最小最大值縮放快樂程度\")\n",
    "plt.show()"
   ]
  },
  {
   "cell_type": "code",
   "execution_count": 5,
   "metadata": {},
   "outputs": [
    {
     "name": "stdout",
     "output_type": "stream",
     "text": [
      "     A    B    C    D\n",
      "0  0.5  0.9  0.4  NaN\n",
      "1  0.8  0.6  NaN  NaN\n",
      "2  0.7  0.3  0.8  0.9\n",
      "3  0.8  0.3  NaN  0.2\n",
      "4  0.9  NaN  0.7  0.3\n",
      "5  0.2  0.7  0.6  NaN\n",
      "<class 'pandas.core.frame.DataFrame'>\n",
      "RangeIndex: 6 entries, 0 to 5\n",
      "Data columns (total 4 columns):\n",
      " #   Column  Non-Null Count  Dtype  \n",
      "---  ------  --------------  -----  \n",
      " 0   A       6 non-null      float64\n",
      " 1   B       5 non-null      float64\n",
      " 2   C       4 non-null      float64\n",
      " 3   D       3 non-null      float64\n",
      "dtypes: float64(4)\n",
      "memory usage: 324.0 bytes\n"
     ]
    }
   ],
   "source": [
    "import pandas as pd\n",
    "\n",
    "df = pd.read_csv(\"test.csv\")\n",
    "print(df)\n",
    "df.info()"
   ]
  },
  {
   "cell_type": "code",
   "execution_count": 13,
   "metadata": {},
   "outputs": [
    {
     "name": "stdout",
     "output_type": "stream",
     "text": [
      "     A    B    C    D\n",
      "2  0.7  0.3  0.8  0.9\n"
     ]
    }
   ],
   "source": [
    "import pandas as pd\n",
    "\n",
    "df = pd.read_csv(\"test.csv\")\n",
    "df1 = df.dropna()\n",
    "print(df1)"
   ]
  },
  {
   "cell_type": "code",
   "execution_count": 9,
   "metadata": {},
   "outputs": [
    {
     "name": "stdout",
     "output_type": "stream",
     "text": [
      "     A    B    C    D\n",
      "2  0.7  0.3  0.8  0.9\n"
     ]
    }
   ],
   "source": [
    "df2 = df.dropna(how=\"any\")\n",
    "print(df2)"
   ]
  },
  {
   "cell_type": "code",
   "execution_count": 11,
   "metadata": {},
   "outputs": [
    {
     "name": "stdout",
     "output_type": "stream",
     "text": [
      "     A    B    C    D\n",
      "0  0.5  0.9  0.4  NaN\n",
      "1  0.8  0.6  NaN  NaN\n",
      "2  0.7  0.3  0.8  0.9\n",
      "3  0.8  0.3  NaN  0.2\n",
      "4  0.9  NaN  0.7  0.3\n",
      "5  0.2  0.7  0.6  NaN\n"
     ]
    }
   ],
   "source": [
    "df3 = df.dropna(how=\"all\")\n",
    "print(df3)"
   ]
  },
  {
   "cell_type": "code",
   "execution_count": 12,
   "metadata": {},
   "outputs": [
    {
     "name": "stdout",
     "output_type": "stream",
     "text": [
      "     A    B    C    D\n",
      "0  0.5  0.9  0.4  NaN\n",
      "2  0.7  0.3  0.8  0.9\n",
      "5  0.2  0.7  0.6  NaN\n"
     ]
    }
   ],
   "source": [
    "df4 = df.dropna(subset=[\"B\",\"C\"])\n",
    "print(df4)"
   ]
  },
  {
   "cell_type": "code",
   "execution_count": 19,
   "metadata": {},
   "outputs": [
    {
     "name": "stdout",
     "output_type": "stream",
     "text": [
      "     A     B     C    D\n",
      "0  0.5  0.90  0.40  1.0\n",
      "1  0.8  0.60  0.65  1.0\n",
      "2  0.7  0.30  0.80  0.9\n",
      "3  0.8  0.30  0.65  0.2\n",
      "4  0.9  0.56  0.70  0.3\n",
      "5  0.2  0.70  0.60  1.0\n",
      "-----------------------------------\n",
      "     A     B     C    D\n",
      "0  0.5  0.90  0.40  NaN\n",
      "1  0.8  0.60  0.65  NaN\n",
      "2  0.7  0.30  0.80  0.9\n",
      "3  0.8  0.30  0.65  0.2\n",
      "4  0.9  0.56  0.70  0.3\n",
      "5  0.2  0.70  0.60  NaN\n",
      "-----------------------------------\n",
      "     A     B     C    D\n",
      "0  0.5  0.90  0.40  NaN\n",
      "1  0.8  0.60  0.65  NaN\n",
      "2  0.7  0.30  0.80  0.9\n",
      "3  0.8  0.30  0.65  0.2\n",
      "4  0.9  0.56  0.70  0.3\n",
      "5  0.2  0.70  0.60  NaN\n",
      "W11_EX41_ch13-3-1c.py_P13-15\n"
     ]
    }
   ],
   "source": [
    "df1 = df.fillna(value=1)\n",
    "print(df1)\n",
    "print(\"-----------------------------------\")\n",
    "df[\"B\"] = df[\"B\"].fillna(df[\"B\"].mean())\n",
    "print(df)\n",
    "print(\"-----------------------------------\")\n",
    "df[\"C\"] = df[\"C\"].fillna(df[\"C\"].median())\n",
    "print(df)\n",
    "print(\"W11_EX41_ch13-3-1c.py_P13-15\")"
   ]
  },
  {
   "cell_type": "code",
   "execution_count": 20,
   "metadata": {},
   "outputs": [
    {
     "name": "stdout",
     "output_type": "stream",
     "text": [
      "0    False\n",
      "1    False\n",
      "2     True\n",
      "3    False\n",
      "4    False\n",
      "5     True\n",
      "dtype: bool\n",
      "---------------------------\n",
      "0    False\n",
      "1    False\n",
      "2     True\n",
      "3     True\n",
      "4     True\n",
      "5     True\n",
      "dtype: bool\n"
     ]
    }
   ],
   "source": [
    "dftest2 = pd.read_csv(\"test2.csv\")\n",
    "print(dftest2.duplicated())\n",
    "print(\"---------------------------\")\n",
    "print(dftest2.duplicated(\"B\"))"
   ]
  },
  {
   "cell_type": "code",
   "execution_count": 24,
   "metadata": {},
   "outputs": [
    {
     "name": "stdout",
     "output_type": "stream",
     "text": [
      "              性別   尺寸   價格\n",
      "0           male   XL  800\n",
      "1         female    M  400\n",
      "2  not specified  XXL  300\n",
      "3           male    L  500\n",
      "4         female    S  700\n",
      "5         female   XS  850\n",
      "---------------------------\n",
      "              性別  尺寸   價格\n",
      "0           male   4  800\n",
      "1         female   2  400\n",
      "2  not specified   5  300\n",
      "3           male   3  500\n",
      "4         female   1  700\n",
      "5         female   0  850\n",
      " W11_EX42_ch13-3-3.py_P13-20~21\n"
     ]
    }
   ],
   "source": [
    "import pandas as pd\n",
    "df = pd.read_csv(\"test3.csv\")\n",
    "print(df)\n",
    "df.to_html(\"ch13-3-3-01.html\")\n",
    "print(\"---------------------------\")\n",
    "size_mapping = {\"XXL\": 5,\n",
    "                \"XL\": 4,\n",
    "                \"L\": 3,\n",
    "                \"M\": 2,\n",
    "                \"S\": 1,\n",
    "                \"XS\": 0}\n",
    "\n",
    "df[\"尺寸\"] = df[\"尺寸\"].map(size_mapping)\n",
    "print(df)\n",
    "print(\" W11_EX42_ch13-3-3.py_P13-20~21\")"
   ]
  },
  {
   "cell_type": "code",
   "execution_count": 26,
   "metadata": {},
   "outputs": [
    {
     "name": "stdout",
     "output_type": "stream",
     "text": [
      "   性別   尺寸   價格\n",
      "0   1   XL  800\n",
      "1   0    M  400\n",
      "2   2  XXL  300\n",
      "3   1    L  500\n",
      "4   0    S  700\n",
      "5   0   XS  850\n",
      "W11_EX43_ch13-3-3a.py_P13-20~21\n"
     ]
    }
   ],
   "source": [
    "import pandas as pd\n",
    "from sklearn import preprocessing\n",
    "\n",
    "df = pd.read_csv(\"test3.csv\")\n",
    "\n",
    "label_encoder = preprocessing.LabelEncoder()\n",
    "df[\"性別\"] = label_encoder.fit_transform(df[\"性別\"])\n",
    "print(df)\n",
    "print(\"W11_EX43_ch13-3-3a.py_P13-20~21\")"
   ]
  },
  {
   "cell_type": "code",
   "execution_count": 28,
   "metadata": {},
   "outputs": [
    {
     "name": "stdout",
     "output_type": "stream",
     "text": [
      "(1313, 6)\n"
     ]
    }
   ],
   "source": [
    "titanic = pd.read_csv(\"titanic_data.csv\")\n",
    "# 顯示資料集的形狀\n",
    "print(titanic.shape)\n"
   ]
  },
  {
   "cell_type": "code",
   "execution_count": 32,
   "metadata": {},
   "outputs": [
    {
     "data": {
      "text/html": [
       "<div>\n",
       "<style scoped>\n",
       "    .dataframe tbody tr th:only-of-type {\n",
       "        vertical-align: middle;\n",
       "    }\n",
       "\n",
       "    .dataframe tbody tr th {\n",
       "        vertical-align: top;\n",
       "    }\n",
       "\n",
       "    .dataframe thead th {\n",
       "        text-align: right;\n",
       "    }\n",
       "</style>\n",
       "<table border=\"1\" class=\"dataframe\">\n",
       "  <thead>\n",
       "    <tr style=\"text-align: right;\">\n",
       "      <th></th>\n",
       "      <th>PassengerId</th>\n",
       "      <th>Name</th>\n",
       "      <th>PClass</th>\n",
       "      <th>Age</th>\n",
       "      <th>Sex</th>\n",
       "      <th>Survived</th>\n",
       "    </tr>\n",
       "  </thead>\n",
       "  <tbody>\n",
       "    <tr>\n",
       "      <th>0</th>\n",
       "      <td>1</td>\n",
       "      <td>Allen, Miss Elisabeth Walton</td>\n",
       "      <td>1st</td>\n",
       "      <td>29.00</td>\n",
       "      <td>female</td>\n",
       "      <td>1</td>\n",
       "    </tr>\n",
       "    <tr>\n",
       "      <th>1</th>\n",
       "      <td>2</td>\n",
       "      <td>Allison, Miss Helen Loraine</td>\n",
       "      <td>1st</td>\n",
       "      <td>2.00</td>\n",
       "      <td>female</td>\n",
       "      <td>0</td>\n",
       "    </tr>\n",
       "    <tr>\n",
       "      <th>2</th>\n",
       "      <td>3</td>\n",
       "      <td>Allison, Mr Hudson Joshua Creighton</td>\n",
       "      <td>1st</td>\n",
       "      <td>30.00</td>\n",
       "      <td>male</td>\n",
       "      <td>0</td>\n",
       "    </tr>\n",
       "    <tr>\n",
       "      <th>3</th>\n",
       "      <td>4</td>\n",
       "      <td>Allison, Mrs Hudson JC (Bessie Waldo Daniels)</td>\n",
       "      <td>1st</td>\n",
       "      <td>25.00</td>\n",
       "      <td>female</td>\n",
       "      <td>0</td>\n",
       "    </tr>\n",
       "    <tr>\n",
       "      <th>4</th>\n",
       "      <td>5</td>\n",
       "      <td>Allison, Master Hudson Trevor</td>\n",
       "      <td>1st</td>\n",
       "      <td>0.92</td>\n",
       "      <td>male</td>\n",
       "      <td>1</td>\n",
       "    </tr>\n",
       "    <tr>\n",
       "      <th>...</th>\n",
       "      <td>...</td>\n",
       "      <td>...</td>\n",
       "      <td>...</td>\n",
       "      <td>...</td>\n",
       "      <td>...</td>\n",
       "      <td>...</td>\n",
       "    </tr>\n",
       "    <tr>\n",
       "      <th>1308</th>\n",
       "      <td>1309</td>\n",
       "      <td>Zakarian, Mr Artun</td>\n",
       "      <td>3rd</td>\n",
       "      <td>27.00</td>\n",
       "      <td>male</td>\n",
       "      <td>0</td>\n",
       "    </tr>\n",
       "    <tr>\n",
       "      <th>1309</th>\n",
       "      <td>1310</td>\n",
       "      <td>Zakarian, Mr Maprieder</td>\n",
       "      <td>3rd</td>\n",
       "      <td>26.00</td>\n",
       "      <td>male</td>\n",
       "      <td>0</td>\n",
       "    </tr>\n",
       "    <tr>\n",
       "      <th>1310</th>\n",
       "      <td>1311</td>\n",
       "      <td>Zenni, Mr Philip</td>\n",
       "      <td>3rd</td>\n",
       "      <td>22.00</td>\n",
       "      <td>male</td>\n",
       "      <td>0</td>\n",
       "    </tr>\n",
       "    <tr>\n",
       "      <th>1311</th>\n",
       "      <td>1312</td>\n",
       "      <td>Lievens, Mr Rene</td>\n",
       "      <td>3rd</td>\n",
       "      <td>24.00</td>\n",
       "      <td>male</td>\n",
       "      <td>0</td>\n",
       "    </tr>\n",
       "    <tr>\n",
       "      <th>1312</th>\n",
       "      <td>1313</td>\n",
       "      <td>Zimmerman, Leo</td>\n",
       "      <td>3rd</td>\n",
       "      <td>29.00</td>\n",
       "      <td>male</td>\n",
       "      <td>0</td>\n",
       "    </tr>\n",
       "  </tbody>\n",
       "</table>\n",
       "<p>1313 rows × 6 columns</p>\n",
       "</div>"
      ],
      "text/plain": [
       "      PassengerId                                           Name PClass  \\\n",
       "0               1                   Allen, Miss Elisabeth Walton    1st   \n",
       "1               2                    Allison, Miss Helen Loraine    1st   \n",
       "2               3            Allison, Mr Hudson Joshua Creighton    1st   \n",
       "3               4  Allison, Mrs Hudson JC (Bessie Waldo Daniels)    1st   \n",
       "4               5                  Allison, Master Hudson Trevor    1st   \n",
       "...           ...                                            ...    ...   \n",
       "1308         1309                             Zakarian, Mr Artun    3rd   \n",
       "1309         1310                         Zakarian, Mr Maprieder    3rd   \n",
       "1310         1311                               Zenni, Mr Philip    3rd   \n",
       "1311         1312                               Lievens, Mr Rene    3rd   \n",
       "1312         1313                                 Zimmerman, Leo    3rd   \n",
       "\n",
       "        Age     Sex  Survived  \n",
       "0     29.00  female         1  \n",
       "1      2.00  female         0  \n",
       "2     30.00    male         0  \n",
       "3     25.00  female         0  \n",
       "4      0.92    male         1  \n",
       "...     ...     ...       ...  \n",
       "1308  27.00    male         0  \n",
       "1309  26.00    male         0  \n",
       "1310  22.00    male         0  \n",
       "1311  24.00    male         0  \n",
       "1312  29.00    male         0  \n",
       "\n",
       "[1313 rows x 6 columns]"
      ]
     },
     "execution_count": 32,
     "metadata": {},
     "output_type": "execute_result"
    }
   ],
   "source": [
    "titanic = pd.read_csv(\"titanic_data.csv\")\n",
    "titanic"
   ]
  },
  {
   "cell_type": "code",
   "execution_count": 34,
   "metadata": {},
   "outputs": [
    {
     "name": "stdout",
     "output_type": "stream",
     "text": [
      "---檢查PassengerId欄位是否是唯一值---\n",
      "1313\n",
      "---指定DataFrame物件的索引欄位---\n",
      "                                                      Name PClass    Age  \\\n",
      "PassengerId                                                                \n",
      "1                             Allen, Miss Elisabeth Walton    1st  29.00   \n",
      "2                              Allison, Miss Helen Loraine    1st   2.00   \n",
      "3                      Allison, Mr Hudson Joshua Creighton    1st  30.00   \n",
      "4            Allison, Mrs Hudson JC (Bessie Waldo Daniels)    1st  25.00   \n",
      "5                            Allison, Master Hudson Trevor    1st   0.92   \n",
      "\n",
      "                Sex  Survived  \n",
      "PassengerId                    \n",
      "1            female         1  \n",
      "2            female         0  \n",
      "3              male         0  \n",
      "4            female         0  \n",
      "5              male         1  \n",
      "---新增SexCode欄位---\n",
      "                                                      Name PClass    Age  \\\n",
      "PassengerId                                                                \n",
      "1                             Allen, Miss Elisabeth Walton    1st  29.00   \n",
      "2                              Allison, Miss Helen Loraine    1st   2.00   \n",
      "3                      Allison, Mr Hudson Joshua Creighton    1st  30.00   \n",
      "4            Allison, Mrs Hudson JC (Bessie Waldo Daniels)    1st  25.00   \n",
      "5                            Allison, Master Hudson Trevor    1st   0.92   \n",
      "\n",
      "                Sex  Survived  SexCode  \n",
      "PassengerId                             \n",
      "1            female         1        1  \n",
      "2            female         0        1  \n",
      "3              male         0        0  \n",
      "4            female         0        1  \n",
      "5              male         1        0  \n",
      "---PCass欄位轉換成數值資料---\n",
      "                                                      Name  PClass    Age  \\\n",
      "PassengerId                                                                 \n",
      "1                             Allen, Miss Elisabeth Walton     1.0  29.00   \n",
      "2                              Allison, Miss Helen Loraine     1.0   2.00   \n",
      "3                      Allison, Mr Hudson Joshua Creighton     1.0  30.00   \n",
      "4            Allison, Mrs Hudson JC (Bessie Waldo Daniels)     1.0  25.00   \n",
      "5                            Allison, Master Hudson Trevor     1.0   0.92   \n",
      "\n",
      "                Sex  Survived  SexCode  \n",
      "PassengerId                             \n",
      "1            female         1        1  \n",
      "2            female         0        1  \n",
      "3              male         0        0  \n",
      "4            female         0        1  \n",
      "5              male         1        0  \n",
      "---檢查Age欄位的遺漏值有多少---\n",
      "Name          0\n",
      "PClass        1\n",
      "Age         557\n",
      "Sex           0\n",
      "Survived      0\n",
      "SexCode       0\n",
      "dtype: int64\n",
      "557\n",
      "---補值成平均值---\n",
      "0\n",
      "---顯示性別人數和計算平均年齡---\n",
      "性別人數:\n",
      "Sex\n",
      "female    462\n",
      "male      851\n",
      "Name: Sex, dtype: int64\n",
      "Sex\n",
      "female    29.773637\n",
      "male      30.736945\n",
      "Name: Age, dtype: float64\n",
      "---處理姓名欄位---\n",
      "Title類別:\n",
      "5 ['Miss' 'Mlle' 'Mr' 'Mrs' 'Ms']\n",
      "---修正類別錯誤顯示Titel人數---\n",
      "Title人數:\n",
      "Title\n",
      "Miss    250\n",
      "Mr      851\n",
      "Mrs     212\n",
      "Name: Title, dtype: int64\n",
      "---顯示平均生存率---\n",
      "平均生存率:\n"
     ]
    },
    {
     "ename": "TypeError",
     "evalue": "agg function failed [how->mean,dtype->object]",
     "output_type": "error",
     "traceback": [
      "\u001b[1;31m---------------------------------------------------------------------------\u001b[0m",
      "\u001b[1;31mTypeError\u001b[0m                                 Traceback (most recent call last)",
      "File \u001b[1;32mc:\\Users\\11706\\.conda\\envs\\TestEnv\\Lib\\site-packages\\pandas\\core\\groupby\\groupby.py:1874\u001b[0m, in \u001b[0;36mGroupBy._agg_py_fallback\u001b[1;34m(self, how, values, ndim, alt)\u001b[0m\n\u001b[0;32m   1873\u001b[0m \u001b[39mtry\u001b[39;00m:\n\u001b[1;32m-> 1874\u001b[0m     res_values \u001b[39m=\u001b[39m \u001b[39mself\u001b[39;49m\u001b[39m.\u001b[39;49mgrouper\u001b[39m.\u001b[39;49magg_series(ser, alt, preserve_dtype\u001b[39m=\u001b[39;49m\u001b[39mTrue\u001b[39;49;00m)\n\u001b[0;32m   1875\u001b[0m \u001b[39mexcept\u001b[39;00m \u001b[39mException\u001b[39;00m \u001b[39mas\u001b[39;00m err:\n",
      "File \u001b[1;32mc:\\Users\\11706\\.conda\\envs\\TestEnv\\Lib\\site-packages\\pandas\\core\\groupby\\ops.py:850\u001b[0m, in \u001b[0;36mBaseGrouper.agg_series\u001b[1;34m(self, obj, func, preserve_dtype)\u001b[0m\n\u001b[0;32m    848\u001b[0m     preserve_dtype \u001b[39m=\u001b[39m \u001b[39mTrue\u001b[39;00m\n\u001b[1;32m--> 850\u001b[0m result \u001b[39m=\u001b[39m \u001b[39mself\u001b[39;49m\u001b[39m.\u001b[39;49m_aggregate_series_pure_python(obj, func)\n\u001b[0;32m    852\u001b[0m npvalues \u001b[39m=\u001b[39m lib\u001b[39m.\u001b[39mmaybe_convert_objects(result, try_float\u001b[39m=\u001b[39m\u001b[39mFalse\u001b[39;00m)\n",
      "File \u001b[1;32mc:\\Users\\11706\\.conda\\envs\\TestEnv\\Lib\\site-packages\\pandas\\core\\groupby\\ops.py:871\u001b[0m, in \u001b[0;36mBaseGrouper._aggregate_series_pure_python\u001b[1;34m(self, obj, func)\u001b[0m\n\u001b[0;32m    870\u001b[0m \u001b[39mfor\u001b[39;00m i, group \u001b[39min\u001b[39;00m \u001b[39menumerate\u001b[39m(splitter):\n\u001b[1;32m--> 871\u001b[0m     res \u001b[39m=\u001b[39m func(group)\n\u001b[0;32m    872\u001b[0m     res \u001b[39m=\u001b[39m extract_result(res)\n",
      "File \u001b[1;32mc:\\Users\\11706\\.conda\\envs\\TestEnv\\Lib\\site-packages\\pandas\\core\\groupby\\groupby.py:2380\u001b[0m, in \u001b[0;36mGroupBy.mean.<locals>.<lambda>\u001b[1;34m(x)\u001b[0m\n\u001b[0;32m   2377\u001b[0m \u001b[39melse\u001b[39;00m:\n\u001b[0;32m   2378\u001b[0m     result \u001b[39m=\u001b[39m \u001b[39mself\u001b[39m\u001b[39m.\u001b[39m_cython_agg_general(\n\u001b[0;32m   2379\u001b[0m         \u001b[39m\"\u001b[39m\u001b[39mmean\u001b[39m\u001b[39m\"\u001b[39m,\n\u001b[1;32m-> 2380\u001b[0m         alt\u001b[39m=\u001b[39m\u001b[39mlambda\u001b[39;00m x: Series(x)\u001b[39m.\u001b[39;49mmean(numeric_only\u001b[39m=\u001b[39;49mnumeric_only),\n\u001b[0;32m   2381\u001b[0m         numeric_only\u001b[39m=\u001b[39mnumeric_only,\n\u001b[0;32m   2382\u001b[0m     )\n\u001b[0;32m   2383\u001b[0m     \u001b[39mreturn\u001b[39;00m result\u001b[39m.\u001b[39m__finalize__(\u001b[39mself\u001b[39m\u001b[39m.\u001b[39mobj, method\u001b[39m=\u001b[39m\u001b[39m\"\u001b[39m\u001b[39mgroupby\u001b[39m\u001b[39m\"\u001b[39m)\n",
      "File \u001b[1;32mc:\\Users\\11706\\.conda\\envs\\TestEnv\\Lib\\site-packages\\pandas\\core\\series.py:6221\u001b[0m, in \u001b[0;36mSeries.mean\u001b[1;34m(self, axis, skipna, numeric_only, **kwargs)\u001b[0m\n\u001b[0;32m   6213\u001b[0m \u001b[39m@doc\u001b[39m(make_doc(\u001b[39m\"\u001b[39m\u001b[39mmean\u001b[39m\u001b[39m\"\u001b[39m, ndim\u001b[39m=\u001b[39m\u001b[39m1\u001b[39m))\n\u001b[0;32m   6214\u001b[0m \u001b[39mdef\u001b[39;00m \u001b[39mmean\u001b[39m(\n\u001b[0;32m   6215\u001b[0m     \u001b[39mself\u001b[39m,\n\u001b[1;32m   (...)\u001b[0m\n\u001b[0;32m   6219\u001b[0m     \u001b[39m*\u001b[39m\u001b[39m*\u001b[39mkwargs,\n\u001b[0;32m   6220\u001b[0m ):\n\u001b[1;32m-> 6221\u001b[0m     \u001b[39mreturn\u001b[39;00m NDFrame\u001b[39m.\u001b[39;49mmean(\u001b[39mself\u001b[39;49m, axis, skipna, numeric_only, \u001b[39m*\u001b[39;49m\u001b[39m*\u001b[39;49mkwargs)\n",
      "File \u001b[1;32mc:\\Users\\11706\\.conda\\envs\\TestEnv\\Lib\\site-packages\\pandas\\core\\generic.py:11984\u001b[0m, in \u001b[0;36mNDFrame.mean\u001b[1;34m(self, axis, skipna, numeric_only, **kwargs)\u001b[0m\n\u001b[0;32m  11977\u001b[0m \u001b[39mdef\u001b[39;00m \u001b[39mmean\u001b[39m(\n\u001b[0;32m  11978\u001b[0m     \u001b[39mself\u001b[39m,\n\u001b[0;32m  11979\u001b[0m     axis: Axis \u001b[39m|\u001b[39m \u001b[39mNone\u001b[39;00m \u001b[39m=\u001b[39m \u001b[39m0\u001b[39m,\n\u001b[1;32m   (...)\u001b[0m\n\u001b[0;32m  11982\u001b[0m     \u001b[39m*\u001b[39m\u001b[39m*\u001b[39mkwargs,\n\u001b[0;32m  11983\u001b[0m ) \u001b[39m-\u001b[39m\u001b[39m>\u001b[39m Series \u001b[39m|\u001b[39m \u001b[39mfloat\u001b[39m:\n\u001b[1;32m> 11984\u001b[0m     \u001b[39mreturn\u001b[39;00m \u001b[39mself\u001b[39;49m\u001b[39m.\u001b[39;49m_stat_function(\n\u001b[0;32m  11985\u001b[0m         \u001b[39m\"\u001b[39;49m\u001b[39mmean\u001b[39;49m\u001b[39m\"\u001b[39;49m, nanops\u001b[39m.\u001b[39;49mnanmean, axis, skipna, numeric_only, \u001b[39m*\u001b[39;49m\u001b[39m*\u001b[39;49mkwargs\n\u001b[0;32m  11986\u001b[0m     )\n",
      "File \u001b[1;32mc:\\Users\\11706\\.conda\\envs\\TestEnv\\Lib\\site-packages\\pandas\\core\\generic.py:11941\u001b[0m, in \u001b[0;36mNDFrame._stat_function\u001b[1;34m(self, name, func, axis, skipna, numeric_only, **kwargs)\u001b[0m\n\u001b[0;32m  11939\u001b[0m validate_bool_kwarg(skipna, \u001b[39m\"\u001b[39m\u001b[39mskipna\u001b[39m\u001b[39m\"\u001b[39m, none_allowed\u001b[39m=\u001b[39m\u001b[39mFalse\u001b[39;00m)\n\u001b[1;32m> 11941\u001b[0m \u001b[39mreturn\u001b[39;00m \u001b[39mself\u001b[39;49m\u001b[39m.\u001b[39;49m_reduce(\n\u001b[0;32m  11942\u001b[0m     func, name\u001b[39m=\u001b[39;49mname, axis\u001b[39m=\u001b[39;49maxis, skipna\u001b[39m=\u001b[39;49mskipna, numeric_only\u001b[39m=\u001b[39;49mnumeric_only\n\u001b[0;32m  11943\u001b[0m )\n",
      "File \u001b[1;32mc:\\Users\\11706\\.conda\\envs\\TestEnv\\Lib\\site-packages\\pandas\\core\\series.py:6129\u001b[0m, in \u001b[0;36mSeries._reduce\u001b[1;34m(self, op, name, axis, skipna, numeric_only, filter_type, **kwds)\u001b[0m\n\u001b[0;32m   6125\u001b[0m     \u001b[39mraise\u001b[39;00m \u001b[39mTypeError\u001b[39;00m(\n\u001b[0;32m   6126\u001b[0m         \u001b[39mf\u001b[39m\u001b[39m\"\u001b[39m\u001b[39mSeries.\u001b[39m\u001b[39m{\u001b[39;00mname\u001b[39m}\u001b[39;00m\u001b[39m does not allow \u001b[39m\u001b[39m{\u001b[39;00mkwd_name\u001b[39m}\u001b[39;00m\u001b[39m=\u001b[39m\u001b[39m{\u001b[39;00mnumeric_only\u001b[39m}\u001b[39;00m\u001b[39m \u001b[39m\u001b[39m\"\u001b[39m\n\u001b[0;32m   6127\u001b[0m         \u001b[39m\"\u001b[39m\u001b[39mwith non-numeric dtypes.\u001b[39m\u001b[39m\"\u001b[39m\n\u001b[0;32m   6128\u001b[0m     )\n\u001b[1;32m-> 6129\u001b[0m \u001b[39mreturn\u001b[39;00m op(delegate, skipna\u001b[39m=\u001b[39;49mskipna, \u001b[39m*\u001b[39;49m\u001b[39m*\u001b[39;49mkwds)\n",
      "File \u001b[1;32mc:\\Users\\11706\\.conda\\envs\\TestEnv\\Lib\\site-packages\\pandas\\core\\nanops.py:147\u001b[0m, in \u001b[0;36mbottleneck_switch.__call__.<locals>.f\u001b[1;34m(values, axis, skipna, **kwds)\u001b[0m\n\u001b[0;32m    146\u001b[0m \u001b[39melse\u001b[39;00m:\n\u001b[1;32m--> 147\u001b[0m     result \u001b[39m=\u001b[39m alt(values, axis\u001b[39m=\u001b[39;49maxis, skipna\u001b[39m=\u001b[39;49mskipna, \u001b[39m*\u001b[39;49m\u001b[39m*\u001b[39;49mkwds)\n\u001b[0;32m    149\u001b[0m \u001b[39mreturn\u001b[39;00m result\n",
      "File \u001b[1;32mc:\\Users\\11706\\.conda\\envs\\TestEnv\\Lib\\site-packages\\pandas\\core\\nanops.py:404\u001b[0m, in \u001b[0;36m_datetimelike_compat.<locals>.new_func\u001b[1;34m(values, axis, skipna, mask, **kwargs)\u001b[0m\n\u001b[0;32m    402\u001b[0m     mask \u001b[39m=\u001b[39m isna(values)\n\u001b[1;32m--> 404\u001b[0m result \u001b[39m=\u001b[39m func(values, axis\u001b[39m=\u001b[39;49maxis, skipna\u001b[39m=\u001b[39;49mskipna, mask\u001b[39m=\u001b[39;49mmask, \u001b[39m*\u001b[39;49m\u001b[39m*\u001b[39;49mkwargs)\n\u001b[0;32m    406\u001b[0m \u001b[39mif\u001b[39;00m datetimelike:\n",
      "File \u001b[1;32mc:\\Users\\11706\\.conda\\envs\\TestEnv\\Lib\\site-packages\\pandas\\core\\nanops.py:720\u001b[0m, in \u001b[0;36mnanmean\u001b[1;34m(values, axis, skipna, mask)\u001b[0m\n\u001b[0;32m    719\u001b[0m the_sum \u001b[39m=\u001b[39m values\u001b[39m.\u001b[39msum(axis, dtype\u001b[39m=\u001b[39mdtype_sum)\n\u001b[1;32m--> 720\u001b[0m the_sum \u001b[39m=\u001b[39m _ensure_numeric(the_sum)\n\u001b[0;32m    722\u001b[0m \u001b[39mif\u001b[39;00m axis \u001b[39mis\u001b[39;00m \u001b[39mnot\u001b[39;00m \u001b[39mNone\u001b[39;00m \u001b[39mand\u001b[39;00m \u001b[39mgetattr\u001b[39m(the_sum, \u001b[39m\"\u001b[39m\u001b[39mndim\u001b[39m\u001b[39m\"\u001b[39m, \u001b[39mFalse\u001b[39;00m):\n",
      "File \u001b[1;32mc:\\Users\\11706\\.conda\\envs\\TestEnv\\Lib\\site-packages\\pandas\\core\\nanops.py:1693\u001b[0m, in \u001b[0;36m_ensure_numeric\u001b[1;34m(x)\u001b[0m\n\u001b[0;32m   1691\u001b[0m \u001b[39mif\u001b[39;00m \u001b[39misinstance\u001b[39m(x, \u001b[39mstr\u001b[39m):\n\u001b[0;32m   1692\u001b[0m     \u001b[39m# GH#44008, GH#36703 avoid casting e.g. strings to numeric\u001b[39;00m\n\u001b[1;32m-> 1693\u001b[0m     \u001b[39mraise\u001b[39;00m \u001b[39mTypeError\u001b[39;00m(\u001b[39mf\u001b[39m\u001b[39m\"\u001b[39m\u001b[39mCould not convert string \u001b[39m\u001b[39m'\u001b[39m\u001b[39m{\u001b[39;00mx\u001b[39m}\u001b[39;00m\u001b[39m'\u001b[39m\u001b[39m to numeric\u001b[39m\u001b[39m\"\u001b[39m)\n\u001b[0;32m   1694\u001b[0m \u001b[39mtry\u001b[39;00m:\n",
      "\u001b[1;31mTypeError\u001b[0m: Could not convert string 'MissMissMissMissMissMissMissMissMissMissMissMissMissMissMissMissMissMissMissMissMissMissMissMissMissMissMissMissMissMissMissMissMissMissMissMissMissMissMissMissMissMissMissMissMissMissMissMissMissMissMissMissMissMissMissMissMissMissMissMissMissMissMissMissMissMissMissMissMissMissMissMissMissMissMissMissMissMissMissMissMissMissMissMissMissMissMissMissMissMissMissMissMissMissMissMissMissMissMissMissMissMissMissMissMissMissMissMissMissMissMissMissMissMissMissMissMissMissMissMissMissMissMissMissMissMissMissMissMissMissMissMissMissMissMissMissMissMissMissMissMissMissMissMissMissMissMissMissMissMissMissMissMissMissMissMissMissMissMissMissMissMissMissMissMissMissMissMissMissMissMissMissMissMissMissMissMissMissMissMissMissMissMissMissMissMissMissMissMissMissMissMissMissMissMissMissMissMissMissMissMissMissMissMissMissMissMissMissMissMissMissMissMissMissMissMissMissMissMissMissMissMissMissMissMissMissMissMissMissMissMissMissMissMissMissMissMissMissMissMissMissMissMissMissMissMissMissMissMissMiss' to numeric",
      "\nThe above exception was the direct cause of the following exception:\n",
      "\u001b[1;31mTypeError\u001b[0m                                 Traceback (most recent call last)",
      "\u001b[1;32mc:\\Users\\11706\\OneDrive\\桌面\\1011\\jb.ipynb Cell 27\u001b[0m line \u001b[0;36m7\n\u001b[0;32m     <a href='vscode-notebook-cell:/c%3A/Users/11706/OneDrive/%E6%A1%8C%E9%9D%A2/1011/jb.ipynb#X45sZmlsZQ%3D%3D?line=68'>69</a>\u001b[0m \u001b[39mprint\u001b[39m(\u001b[39m\"\u001b[39m\u001b[39m---顯示平均生存率---\u001b[39m\u001b[39m\"\u001b[39m)\n\u001b[0;32m     <a href='vscode-notebook-cell:/c%3A/Users/11706/OneDrive/%E6%A1%8C%E9%9D%A2/1011/jb.ipynb#X45sZmlsZQ%3D%3D?line=69'>70</a>\u001b[0m \u001b[39mprint\u001b[39m(\u001b[39m\"\u001b[39m\u001b[39m平均生存率:\u001b[39m\u001b[39m\"\u001b[39m)\n\u001b[1;32m---> <a href='vscode-notebook-cell:/c%3A/Users/11706/OneDrive/%E6%A1%8C%E9%9D%A2/1011/jb.ipynb#X45sZmlsZQ%3D%3D?line=70'>71</a>\u001b[0m \u001b[39mprint\u001b[39m(titanic[[\u001b[39m\"\u001b[39;49m\u001b[39mTitle\u001b[39;49m\u001b[39m\"\u001b[39;49m,\u001b[39m\"\u001b[39;49m\u001b[39mSurvived\u001b[39;49m\u001b[39m\"\u001b[39;49m]]\u001b[39m.\u001b[39;49mgroupby(titanic[\u001b[39m\"\u001b[39;49m\u001b[39mTitle\u001b[39;49m\u001b[39m\"\u001b[39;49m])\u001b[39m.\u001b[39;49mmean())\n",
      "File \u001b[1;32mc:\\Users\\11706\\.conda\\envs\\TestEnv\\Lib\\site-packages\\pandas\\core\\groupby\\groupby.py:2378\u001b[0m, in \u001b[0;36mGroupBy.mean\u001b[1;34m(self, numeric_only, engine, engine_kwargs)\u001b[0m\n\u001b[0;32m   2371\u001b[0m     \u001b[39mreturn\u001b[39;00m \u001b[39mself\u001b[39m\u001b[39m.\u001b[39m_numba_agg_general(\n\u001b[0;32m   2372\u001b[0m         grouped_mean,\n\u001b[0;32m   2373\u001b[0m         executor\u001b[39m.\u001b[39mfloat_dtype_mapping,\n\u001b[0;32m   2374\u001b[0m         engine_kwargs,\n\u001b[0;32m   2375\u001b[0m         min_periods\u001b[39m=\u001b[39m\u001b[39m0\u001b[39m,\n\u001b[0;32m   2376\u001b[0m     )\n\u001b[0;32m   2377\u001b[0m \u001b[39melse\u001b[39;00m:\n\u001b[1;32m-> 2378\u001b[0m     result \u001b[39m=\u001b[39m \u001b[39mself\u001b[39;49m\u001b[39m.\u001b[39;49m_cython_agg_general(\n\u001b[0;32m   2379\u001b[0m         \u001b[39m\"\u001b[39;49m\u001b[39mmean\u001b[39;49m\u001b[39m\"\u001b[39;49m,\n\u001b[0;32m   2380\u001b[0m         alt\u001b[39m=\u001b[39;49m\u001b[39mlambda\u001b[39;49;00m x: Series(x)\u001b[39m.\u001b[39;49mmean(numeric_only\u001b[39m=\u001b[39;49mnumeric_only),\n\u001b[0;32m   2381\u001b[0m         numeric_only\u001b[39m=\u001b[39;49mnumeric_only,\n\u001b[0;32m   2382\u001b[0m     )\n\u001b[0;32m   2383\u001b[0m     \u001b[39mreturn\u001b[39;00m result\u001b[39m.\u001b[39m__finalize__(\u001b[39mself\u001b[39m\u001b[39m.\u001b[39mobj, method\u001b[39m=\u001b[39m\u001b[39m\"\u001b[39m\u001b[39mgroupby\u001b[39m\u001b[39m\"\u001b[39m)\n",
      "File \u001b[1;32mc:\\Users\\11706\\.conda\\envs\\TestEnv\\Lib\\site-packages\\pandas\\core\\groupby\\groupby.py:1929\u001b[0m, in \u001b[0;36mGroupBy._cython_agg_general\u001b[1;34m(self, how, alt, numeric_only, min_count, **kwargs)\u001b[0m\n\u001b[0;32m   1926\u001b[0m     result \u001b[39m=\u001b[39m \u001b[39mself\u001b[39m\u001b[39m.\u001b[39m_agg_py_fallback(how, values, ndim\u001b[39m=\u001b[39mdata\u001b[39m.\u001b[39mndim, alt\u001b[39m=\u001b[39malt)\n\u001b[0;32m   1927\u001b[0m     \u001b[39mreturn\u001b[39;00m result\n\u001b[1;32m-> 1929\u001b[0m new_mgr \u001b[39m=\u001b[39m data\u001b[39m.\u001b[39;49mgrouped_reduce(array_func)\n\u001b[0;32m   1930\u001b[0m res \u001b[39m=\u001b[39m \u001b[39mself\u001b[39m\u001b[39m.\u001b[39m_wrap_agged_manager(new_mgr)\n\u001b[0;32m   1931\u001b[0m out \u001b[39m=\u001b[39m \u001b[39mself\u001b[39m\u001b[39m.\u001b[39m_wrap_aggregated_output(res)\n",
      "File \u001b[1;32mc:\\Users\\11706\\.conda\\envs\\TestEnv\\Lib\\site-packages\\pandas\\core\\internals\\managers.py:1428\u001b[0m, in \u001b[0;36mBlockManager.grouped_reduce\u001b[1;34m(self, func)\u001b[0m\n\u001b[0;32m   1424\u001b[0m \u001b[39mif\u001b[39;00m blk\u001b[39m.\u001b[39mis_object:\n\u001b[0;32m   1425\u001b[0m     \u001b[39m# split on object-dtype blocks bc some columns may raise\u001b[39;00m\n\u001b[0;32m   1426\u001b[0m     \u001b[39m#  while others do not.\u001b[39;00m\n\u001b[0;32m   1427\u001b[0m     \u001b[39mfor\u001b[39;00m sb \u001b[39min\u001b[39;00m blk\u001b[39m.\u001b[39m_split():\n\u001b[1;32m-> 1428\u001b[0m         applied \u001b[39m=\u001b[39m sb\u001b[39m.\u001b[39;49mapply(func)\n\u001b[0;32m   1429\u001b[0m         result_blocks \u001b[39m=\u001b[39m extend_blocks(applied, result_blocks)\n\u001b[0;32m   1430\u001b[0m \u001b[39melse\u001b[39;00m:\n",
      "File \u001b[1;32mc:\\Users\\11706\\.conda\\envs\\TestEnv\\Lib\\site-packages\\pandas\\core\\internals\\blocks.py:366\u001b[0m, in \u001b[0;36mBlock.apply\u001b[1;34m(self, func, **kwargs)\u001b[0m\n\u001b[0;32m    360\u001b[0m \u001b[39m@final\u001b[39m\n\u001b[0;32m    361\u001b[0m \u001b[39mdef\u001b[39;00m \u001b[39mapply\u001b[39m(\u001b[39mself\u001b[39m, func, \u001b[39m*\u001b[39m\u001b[39m*\u001b[39mkwargs) \u001b[39m-\u001b[39m\u001b[39m>\u001b[39m \u001b[39mlist\u001b[39m[Block]:\n\u001b[0;32m    362\u001b[0m \u001b[39m    \u001b[39m\u001b[39m\"\"\"\u001b[39;00m\n\u001b[0;32m    363\u001b[0m \u001b[39m    apply the function to my values; return a block if we are not\u001b[39;00m\n\u001b[0;32m    364\u001b[0m \u001b[39m    one\u001b[39;00m\n\u001b[0;32m    365\u001b[0m \u001b[39m    \"\"\"\u001b[39;00m\n\u001b[1;32m--> 366\u001b[0m     result \u001b[39m=\u001b[39m func(\u001b[39mself\u001b[39;49m\u001b[39m.\u001b[39;49mvalues, \u001b[39m*\u001b[39;49m\u001b[39m*\u001b[39;49mkwargs)\n\u001b[0;32m    368\u001b[0m     result \u001b[39m=\u001b[39m maybe_coerce_values(result)\n\u001b[0;32m    369\u001b[0m     \u001b[39mreturn\u001b[39;00m \u001b[39mself\u001b[39m\u001b[39m.\u001b[39m_split_op_result(result)\n",
      "File \u001b[1;32mc:\\Users\\11706\\.conda\\envs\\TestEnv\\Lib\\site-packages\\pandas\\core\\groupby\\groupby.py:1926\u001b[0m, in \u001b[0;36mGroupBy._cython_agg_general.<locals>.array_func\u001b[1;34m(values)\u001b[0m\n\u001b[0;32m   1923\u001b[0m \u001b[39melse\u001b[39;00m:\n\u001b[0;32m   1924\u001b[0m     \u001b[39mreturn\u001b[39;00m result\n\u001b[1;32m-> 1926\u001b[0m result \u001b[39m=\u001b[39m \u001b[39mself\u001b[39;49m\u001b[39m.\u001b[39;49m_agg_py_fallback(how, values, ndim\u001b[39m=\u001b[39;49mdata\u001b[39m.\u001b[39;49mndim, alt\u001b[39m=\u001b[39;49malt)\n\u001b[0;32m   1927\u001b[0m \u001b[39mreturn\u001b[39;00m result\n",
      "File \u001b[1;32mc:\\Users\\11706\\.conda\\envs\\TestEnv\\Lib\\site-packages\\pandas\\core\\groupby\\groupby.py:1878\u001b[0m, in \u001b[0;36mGroupBy._agg_py_fallback\u001b[1;34m(self, how, values, ndim, alt)\u001b[0m\n\u001b[0;32m   1876\u001b[0m     msg \u001b[39m=\u001b[39m \u001b[39mf\u001b[39m\u001b[39m\"\u001b[39m\u001b[39magg function failed [how->\u001b[39m\u001b[39m{\u001b[39;00mhow\u001b[39m}\u001b[39;00m\u001b[39m,dtype->\u001b[39m\u001b[39m{\u001b[39;00mser\u001b[39m.\u001b[39mdtype\u001b[39m}\u001b[39;00m\u001b[39m]\u001b[39m\u001b[39m\"\u001b[39m\n\u001b[0;32m   1877\u001b[0m     \u001b[39m# preserve the kind of exception that raised\u001b[39;00m\n\u001b[1;32m-> 1878\u001b[0m     \u001b[39mraise\u001b[39;00m \u001b[39mtype\u001b[39m(err)(msg) \u001b[39mfrom\u001b[39;00m \u001b[39merr\u001b[39;00m\n\u001b[0;32m   1880\u001b[0m \u001b[39mif\u001b[39;00m ser\u001b[39m.\u001b[39mdtype \u001b[39m==\u001b[39m \u001b[39mobject\u001b[39m:\n\u001b[0;32m   1881\u001b[0m     res_values \u001b[39m=\u001b[39m res_values\u001b[39m.\u001b[39mastype(\u001b[39mobject\u001b[39m, copy\u001b[39m=\u001b[39m\u001b[39mFalse\u001b[39;00m)\n",
      "\u001b[1;31mTypeError\u001b[0m: agg function failed [how->mean,dtype->object]"
     ]
    }
   ],
   "source": [
    "import pandas as pd\n",
    "import numpy as np\n",
    "\n",
    "titanic = pd.read_csv(\"titanic_data.csv\")\n",
    "print(\"---檢查PassengerId欄位是否是唯一值---\")\n",
    "# 檢查PassengerId欄位是否是唯一值\n",
    "print(np.unique(titanic[\"PassengerId\"].values).size)\n",
    "print(\"---指定DataFrame物件的索引欄位---\")\n",
    "# 指定DataFrame物件的索引欄位\n",
    "titanic.set_index([\"PassengerId\"], inplace=True)\n",
    "print(titanic.head())\n",
    "titanic.head().to_html(\"ch13-5b-01.html\")\n",
    "print(\"---新增SexCode欄位---\")\n",
    "# 新增SexCode欄位\n",
    "titanic[\"SexCode\"] = np.where(titanic[\"Sex\"]==\"female\", 1, 0)\n",
    "print(titanic.head())\n",
    "titanic.head().to_html(\"ch13-5b-02.html\")\n",
    "print(\"---PCass欄位轉換成數值資料---\")\n",
    "# PCass欄位轉換成數值資料\n",
    "class_mapping = {\"1st\": 1,\n",
    "                 \"2nd\": 2,\n",
    "                 \"3rd\": 3}\n",
    "titanic[\"PClass\"] = titanic[\"PClass\"].map(class_mapping)\n",
    "print(titanic.head())\n",
    "titanic.head().to_html(\"ch13-5b-03.html\")\n",
    "print(\"---檢查Age欄位的遺漏值有多少---\")\n",
    "# 檢查Age欄位的遺漏值有多少\n",
    "print(titanic.isnull().sum())\n",
    "print(sum(titanic[\"Age\"].isnull()))\n",
    "print(\"---補值成平均值---\")\n",
    "# 補值成平均值\n",
    "avg_age = titanic[\"Age\"].mean()\n",
    "titanic[\"Age\"].fillna(avg_age, inplace=True)\n",
    "print(sum(titanic[\"Age\"].isnull()))\n",
    "print(\"---顯示性別人數和計算平均年齡---\")\n",
    "# 顯示性別人數和計算平均年齡\n",
    "print(\"性別人數:\")\n",
    "print(titanic[\"Sex\"].groupby(titanic[\"Sex\"]).size())\n",
    "print(titanic.groupby(\"Sex\")[\"Age\"].mean())\n",
    "print(\"---處理姓名欄位---\")\n",
    "# 處理姓名欄位\n",
    "import re\n",
    "patt = re.compile(r\"\\,\\s(\\S+\\s)\") \n",
    "titles = []\n",
    "for index, row in titanic.iterrows():\n",
    "    m = re.search(patt, row[\"Name\"])\n",
    "    if m is None:\n",
    "        title = \"Mrs\" if row[\"SexCode\"] == 1 else \"Mr\"\n",
    "    else:\n",
    "        title = m.group(0)\n",
    "        title = re.sub(r\",\", \"\", title).strip()\n",
    "        if title[0] != \"M\":\n",
    "            title = \"Mrs\" if row[\"SexCode\"] == 1 else \"Mr\"\n",
    "        else:\n",
    "           if title[0] == \"M\" and title[1] == \"a\":\n",
    "            title = \"Mrs\" if row[\"SexCode\"] == 1 else \"Mr\"\n",
    "    titles.append(title)\n",
    "titanic[\"Title\"] = titles\n",
    "\n",
    "print(\"Title類別:\")\n",
    "print(np.unique(titles).shape[0], np.unique(titles))\n",
    "print(\"---修正類別錯誤顯示Titel人數---\")\n",
    "# 修正類別錯誤\n",
    "titanic[\"Title\"] = titanic[\"Title\"].replace(\"Mlle\",\"Miss\")\n",
    "titanic[\"Title\"] = titanic[\"Title\"].replace(\"Ms\",\"Miss\")  \n",
    "titanic.to_csv(\"titanic_pre.csv\", encoding=\"utf8\")\n",
    "print(\"Title人數:\")\n",
    "print(titanic[\"Title\"].groupby(titanic[\"Title\"]).size())\n",
    "print(\"---顯示平均生存率---\")\n",
    "print(\"平均生存率:\")\n",
    "print(titanic[[\"Title\",\"Survived\"]].groupby(titanic[\"Title\"]).mean())"
   ]
  },
  {
   "cell_type": "code",
   "execution_count": 1,
   "metadata": {},
   "outputs": [
    {
     "name": "stdout",
     "output_type": "stream",
     "text": [
      "迴歸係數: [0.37378855]\n",
      "截距: -3.6361233480176134\n",
      "[6.08237885 7.57753304]\n"
     ]
    }
   ],
   "source": [
    "import numpy as np\n",
    "import pandas as pd\n",
    "from sklearn.linear_model import LinearRegression\n",
    "\n",
    "temperatures = np.array([29, 28, 34, 31,\n",
    "                         25, 29, 32, 31,\n",
    "                         24, 33, 25, 31,\n",
    "                         26, 30])\n",
    "drink_sales = np.array([7.7, 6.2, 9.3, 8.4,\n",
    "                        5.9, 6.4, 8.0, 7.5,\n",
    "                        5.8, 9.1, 5.1, 7.3,\n",
    "                        6.5, 8.4])\n",
    "X = pd.DataFrame(temperatures, columns=[\"氣溫\"])\n",
    "target = pd.DataFrame(drink_sales, columns=[\"營業額\"])\n",
    "y = target[\"營業額\"]\n",
    "\n",
    "lm = LinearRegression()\n",
    "lm.fit(X, y)\n",
    "print(\"迴歸係數:\", lm.coef_)\n",
    "print(\"截距:\", lm.intercept_ )\n",
    "# 預測氣溫26, 30度的業績\n",
    "new_temperatures = pd.DataFrame(np.array([26, 30]),\n",
    "                                columns=[\"氣溫\"])\n",
    "predicted_sales = lm.predict(new_temperatures)\n",
    "print(predicted_sales)\n"
   ]
  },
  {
   "cell_type": "code",
   "execution_count": 10,
   "metadata": {},
   "outputs": [
    {
     "data": {
      "text/plain": [
       "array([41.7, 60.2, 47. , 53.2, 48.3, 55.2, 58.5, 49. , 46.7, 52.5])"
      ]
     },
     "execution_count": 10,
     "metadata": {},
     "output_type": "execute_result"
    }
   ],
   "source": [
    "import numpy as np\n",
    "import pandas as pd\n",
    "from sklearn.linear_model import LinearRegression\n",
    "import matplotlib.pyplot as plt\n",
    "\n",
    "plt.rcParams['font.sans-serif'] = ['Microsoft JhengHei'] \n",
    "plt.rcParams['axes.unicode_minus'] = False\n",
    "\n",
    "heights = np.array([147.9, 163.5, 159.8, 155.1,\n",
    "                    163.3, 158.7, 172.0, 161.2,\n",
    "                    153.9, 161.6])\n",
    "weights = np.array([41.7, 60.2, 47.0, 53.2,\n",
    "                    48.3, 55.2, 58.5, 49.0,\n",
    "                    46.7, 52.5])\n",
    "heights\n",
    "weights"
   ]
  },
  {
   "cell_type": "code",
   "execution_count": 11,
   "metadata": {},
   "outputs": [
    {
     "data": {
      "text/plain": [
       "pandas.core.series.Series"
      ]
     },
     "execution_count": 11,
     "metadata": {},
     "output_type": "execute_result"
    }
   ],
   "source": [
    "X = pd.DataFrame(heights, columns=[\"身高\"])\n",
    "target = pd.DataFrame(weights, columns=[\"體重\"])\n",
    "y = target[\"體重\"]\n",
    "type(y)"
   ]
  },
  {
   "cell_type": "code",
   "execution_count": 8,
   "metadata": {},
   "outputs": [
    {
     "data": {
      "text/html": [
       "<style>#sk-container-id-2 {color: black;}#sk-container-id-2 pre{padding: 0;}#sk-container-id-2 div.sk-toggleable {background-color: white;}#sk-container-id-2 label.sk-toggleable__label {cursor: pointer;display: block;width: 100%;margin-bottom: 0;padding: 0.3em;box-sizing: border-box;text-align: center;}#sk-container-id-2 label.sk-toggleable__label-arrow:before {content: \"▸\";float: left;margin-right: 0.25em;color: #696969;}#sk-container-id-2 label.sk-toggleable__label-arrow:hover:before {color: black;}#sk-container-id-2 div.sk-estimator:hover label.sk-toggleable__label-arrow:before {color: black;}#sk-container-id-2 div.sk-toggleable__content {max-height: 0;max-width: 0;overflow: hidden;text-align: left;background-color: #f0f8ff;}#sk-container-id-2 div.sk-toggleable__content pre {margin: 0.2em;color: black;border-radius: 0.25em;background-color: #f0f8ff;}#sk-container-id-2 input.sk-toggleable__control:checked~div.sk-toggleable__content {max-height: 200px;max-width: 100%;overflow: auto;}#sk-container-id-2 input.sk-toggleable__control:checked~label.sk-toggleable__label-arrow:before {content: \"▾\";}#sk-container-id-2 div.sk-estimator input.sk-toggleable__control:checked~label.sk-toggleable__label {background-color: #d4ebff;}#sk-container-id-2 div.sk-label input.sk-toggleable__control:checked~label.sk-toggleable__label {background-color: #d4ebff;}#sk-container-id-2 input.sk-hidden--visually {border: 0;clip: rect(1px 1px 1px 1px);clip: rect(1px, 1px, 1px, 1px);height: 1px;margin: -1px;overflow: hidden;padding: 0;position: absolute;width: 1px;}#sk-container-id-2 div.sk-estimator {font-family: monospace;background-color: #f0f8ff;border: 1px dotted black;border-radius: 0.25em;box-sizing: border-box;margin-bottom: 0.5em;}#sk-container-id-2 div.sk-estimator:hover {background-color: #d4ebff;}#sk-container-id-2 div.sk-parallel-item::after {content: \"\";width: 100%;border-bottom: 1px solid gray;flex-grow: 1;}#sk-container-id-2 div.sk-label:hover label.sk-toggleable__label {background-color: #d4ebff;}#sk-container-id-2 div.sk-serial::before {content: \"\";position: absolute;border-left: 1px solid gray;box-sizing: border-box;top: 0;bottom: 0;left: 50%;z-index: 0;}#sk-container-id-2 div.sk-serial {display: flex;flex-direction: column;align-items: center;background-color: white;padding-right: 0.2em;padding-left: 0.2em;position: relative;}#sk-container-id-2 div.sk-item {position: relative;z-index: 1;}#sk-container-id-2 div.sk-parallel {display: flex;align-items: stretch;justify-content: center;background-color: white;position: relative;}#sk-container-id-2 div.sk-item::before, #sk-container-id-2 div.sk-parallel-item::before {content: \"\";position: absolute;border-left: 1px solid gray;box-sizing: border-box;top: 0;bottom: 0;left: 50%;z-index: -1;}#sk-container-id-2 div.sk-parallel-item {display: flex;flex-direction: column;z-index: 1;position: relative;background-color: white;}#sk-container-id-2 div.sk-parallel-item:first-child::after {align-self: flex-end;width: 50%;}#sk-container-id-2 div.sk-parallel-item:last-child::after {align-self: flex-start;width: 50%;}#sk-container-id-2 div.sk-parallel-item:only-child::after {width: 0;}#sk-container-id-2 div.sk-dashed-wrapped {border: 1px dashed gray;margin: 0 0.4em 0.5em 0.4em;box-sizing: border-box;padding-bottom: 0.4em;background-color: white;}#sk-container-id-2 div.sk-label label {font-family: monospace;font-weight: bold;display: inline-block;line-height: 1.2em;}#sk-container-id-2 div.sk-label-container {text-align: center;}#sk-container-id-2 div.sk-container {/* jupyter's `normalize.less` sets `[hidden] { display: none; }` but bootstrap.min.css set `[hidden] { display: none !important; }` so we also need the `!important` here to be able to override the default hidden behavior on the sphinx rendered scikit-learn.org. See: https://github.com/scikit-learn/scikit-learn/issues/21755 */display: inline-block !important;position: relative;}#sk-container-id-2 div.sk-text-repr-fallback {display: none;}</style><div id=\"sk-container-id-2\" class=\"sk-top-container\"><div class=\"sk-text-repr-fallback\"><pre>LinearRegression()</pre><b>In a Jupyter environment, please rerun this cell to show the HTML representation or trust the notebook. <br />On GitHub, the HTML representation is unable to render, please try loading this page with nbviewer.org.</b></div><div class=\"sk-container\" hidden><div class=\"sk-item\"><div class=\"sk-estimator sk-toggleable\"><input class=\"sk-toggleable__control sk-hidden--visually\" id=\"sk-estimator-id-2\" type=\"checkbox\" checked><label for=\"sk-estimator-id-2\" class=\"sk-toggleable__label sk-toggleable__label-arrow\">LinearRegression</label><div class=\"sk-toggleable__content\"><pre>LinearRegression()</pre></div></div></div></div></div>"
      ],
      "text/plain": [
       "LinearRegression()"
      ]
     },
     "execution_count": 8,
     "metadata": {},
     "output_type": "execute_result"
    }
   ],
   "source": [
    "lm = LinearRegression()\n",
    "lm.fit(X, y)"
   ]
  },
  {
   "cell_type": "markdown",
   "metadata": {},
   "source": [
    "## 迴歸係數:"
   ]
  },
  {
   "cell_type": "code",
   "execution_count": 5,
   "metadata": {},
   "outputs": [
    {
     "name": "stdout",
     "output_type": "stream",
     "text": [
      "迴歸係數: [0.62513172]\n",
      "截距: -48.60353530031602\n"
     ]
    }
   ],
   "source": [
    "print(\"迴歸係數:\", lm.coef_)\n",
    "print(\"截距:\", lm.intercept_ )"
   ]
  },
  {
   "cell_type": "code",
   "execution_count": 6,
   "metadata": {},
   "outputs": [
    {
     "name": "stdout",
     "output_type": "stream",
     "text": [
      "[45.16622234 51.41753952 57.66885669]\n"
     ]
    }
   ],
   "source": [
    "# 預測身高150, 160, 170的體重\n",
    "new_heights = pd.DataFrame(np.array([150, 160, 170]),\n",
    "                           columns=[\"身高\"])\n",
    "predicted_weights = lm.predict(new_heights)\n",
    "print(predicted_weights)"
   ]
  },
  {
   "cell_type": "code",
   "execution_count": 7,
   "metadata": {},
   "outputs": [
    {
     "data": {
      "image/png": "[encoded data removed]",
      "text/plain": [
       "<Figure size 640x480 with 1 Axes>"
      ]
     },
     "metadata": {},
     "output_type": "display_data"
    }
   ],
   "source": [
    "plt.scatter(heights, weights)  # 繪點\n",
    "regression_weights = lm.predict(X)\n",
    "plt.plot(heights, regression_weights, color=\"blue\")\n",
    "plt.plot(new_heights[\"身高\"], predicted_weights, \n",
    "         color=\"red\", marker=\"o\", markersize=10)\n",
    "plt.title(\"使用學生的身高來預測體重\")\n",
    "plt.show()"
   ]
  }
 ],
 "metadata": {
  "kernelspec": {
   "display_name": "TestEnv",
   "language": "python",
   "name": "python3"
  },
  "language_info": {
   "codemirror_mode": {
    "name": "ipython",
    "version": 3
   },
   "file_extension": ".py",
   "mimetype": "text/x-python",
   "name": "python",
   "nbconvert_exporter": "python",
   "pygments_lexer": "ipython3",
   "version": "3.12.0"
  }
 },
 "nbformat": 4,
 "nbformat_minor": 2
}

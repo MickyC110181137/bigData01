{
 "cells": [
  {
   "cell_type": "code",
   "execution_count": 1,
   "metadata": {},
   "outputs": [
    {
     "name": "stdout",
     "output_type": "stream",
     "text": [
      "x= 1 y= 2\n"
     ]
    }
   ],
   "source": [
    "x,y = 1,2\n",
    "print(\"x=\",x,\"y=\",y)"
   ]
  },
  {
   "cell_type": "code",
   "execution_count": 2,
   "metadata": {},
   "outputs": [
    {
     "name": "stdout",
     "output_type": "stream",
     "text": [
      "Hello\n",
      "HELLO\n",
      "  hello\n",
      " hello \n",
      "heLLo\n",
      "python\n"
     ]
    }
   ],
   "source": [
    "s= \"hello\"\n",
    "print(s.capitalize())\n",
    "print(s.upper())\n",
    "print(s.rjust(7))\n",
    "print(s.center(7))\n",
    "print(s.replace(\"l\",\"L\"))\n",
    "print(' python'.strip())"
   ]
  },
  {
   "cell_type": "code",
   "execution_count": 3,
   "metadata": {},
   "outputs": [
    {
     "name": "stdout",
     "output_type": "stream",
     "text": [
      "range(5)=0\n",
      "range(5)=1\n",
      "range(5)=2\n",
      "range(5)=3\n",
      "range(5)=4\n",
      "range(1,5)=1\n",
      "range(1,5)=2\n",
      "range(1,5)=3\n",
      "range(1,5)=4\n",
      "range(1,11,2)=1\n",
      "range(1,11,2)=3\n",
      "range(1,11,2)=5\n",
      "range(1,11,2)=7\n",
      "range(1,11,2)=9\n"
     ]
    }
   ],
   "source": [
    "for i in range(5):\n",
    "    print(\"range(5)=\"+ str(i))\n",
    "for i in range(1,5):\n",
    "    print(\"range(1,5)=\"+ str(i))\n",
    "for i in range(1,11,2):\n",
    "    print(\"range(1,11,2)=\"+ str(i))"
   ]
  },
  {
   "cell_type": "code",
   "execution_count": 4,
   "metadata": {},
   "outputs": [
    {
     "name": "stdout",
     "output_type": "stream",
     "text": [
      "[0, 1, 2, 3, 4]\n",
      "[2, 3]\n",
      "[2, 3, 4]\n",
      "[0, 1]\n",
      "[0, 1, 2, 3, 4]\n",
      "[0, 1, 2, 3]\n",
      "[0, 1, 7, 8, 4]\n"
     ]
    }
   ],
   "source": [
    "nums = list(range(5))\n",
    "print(nums)\n",
    "print(nums[2:4])\n",
    "print(nums[2:])\n",
    "print(nums[:2])\n",
    "print(nums[:])\n",
    "print(nums[:-1])\n",
    "nums[2:4] = [7,8]\n",
    "print(nums)"
   ]
  },
  {
   "cell_type": "code",
   "execution_count": 5,
   "metadata": {},
   "outputs": [
    {
     "name": "stdout",
     "output_type": "stream",
     "text": [
      "cat\n",
      "dog\n",
      "bat\n",
      "0 ['cat', 'dog', 'bat']\n",
      "1 ['cat', 'dog', 'bat']\n",
      "2 ['cat', 'dog', 'bat']\n"
     ]
    }
   ],
   "source": [
    "animals= ['cat','dog','bat']\n",
    "for animal in animals:\n",
    "    print(animal)\n",
    "for index,animal in enumerate(animals):\n",
    "    print(index,animals)"
   ]
  }
 ],
 "metadata": {
  "kernelspec": {
   "display_name": "bigdata",
   "language": "python",
   "name": "python3"
  },
  "language_info": {
   "codemirror_mode": {
    "name": "ipython",
    "version": 3
   },
   "file_extension": ".py",
   "mimetype": "text/x-python",
   "name": "python",
   "nbconvert_exporter": "python",
   "pygments_lexer": "ipython3",
   "version": "3.12.0"
  },
  "orig_nbformat": 4
 },
 "nbformat": 4,
 "nbformat_minor": 2
}

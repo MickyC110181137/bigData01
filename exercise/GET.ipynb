{
 "cells": [
  {
   "cell_type": "code",
   "execution_count": 49,
   "metadata": {},
   "outputs": [
    {
     "name": "stdout",
     "output_type": "stream",
     "text": [
      "<!DOCTYPE HTML PUBLIC \"-//W3C//DTD HTML 3.2 Final//EN\">\n",
      "<title>405 Method Not Allowed</title>\n",
      "<h1>Method Not Allowed</h1>\n",
      "<p>The method is not allowed for the requested URL.</p>\n",
      "\n"
     ]
    }
   ],
   "source": [
    "import requests\n",
    "\n",
    "post_data = {'name': 'Micky','score': 95}\n",
    "r = requests.post(\"http://httpbin.org/get\",params=post_data)\n",
    "data = (post_data)\n",
    "print(r.text)"
   ]
  },
  {
   "cell_type": "code",
   "execution_count": 50,
   "metadata": {},
   "outputs": [
    {
     "name": "stdout",
     "output_type": "stream",
     "text": [
      "<html>\n",
      "<head>\n",
      "<meta charset=\"utf-8\"/>\n",
      "<title>測試的HTML5網頁</title>\n",
      "</head>\n",
      "<body>\n",
      "<h3>從網路取得資料</h3><hr/>\n",
      "<div><p>使用Requests套件送出HTTP請求</p></div>\n",
      "</body>\n",
      "</html>\n",
      "utf-8\n",
      "W05_EX14_P3-19\n"
     ]
    }
   ],
   "source": [
    "r= requests.get(\"https://fchart.github.io/test.html\")\n",
    "print(r.text)\n",
    "print(r.encoding)\n",
    "print(\"W05_EX14_P3-19\")"
   ]
  },
  {
   "cell_type": "code",
   "execution_count": 51,
   "metadata": {},
   "outputs": [
    {
     "name": "stdout",
     "output_type": "stream",
     "text": [
      "<html>\n",
      "<head>\n",
      "<meta charset=\"utf-8\"/>\n",
      "<title>測試的HTML5網頁</title>\n",
      "</head>\n",
      "<body>\n",
      "<h3>從網路取得資料</h3><hr/>\n",
      "<div><p>使用Requests套件送出HTTP請求</p></div>\n",
      "</body>\n",
      "</html>\n",
      "---------------------\n",
      "b'<html>\\r\\n<head>\\r\\n<meta charset=\"utf-8\"/>\\r\\n<title>\\xe6\\xb8\\xac\\xe8\\xa9\\xa6\\xe7\\x9a\\x84HTML5\\xe7\\xb6\\xb2\\xe9\\xa0\\x81</title>\\r\\n</head>\\r\\n<body>\\r\\n<h3>\\xe5\\xbe\\x9e\\xe7\\xb6\\xb2\\xe8\\xb7\\xaf\\xe5\\x8f\\x96\\xe5\\xbe\\x97\\xe8\\xb3\\x87\\xe6\\x96\\x99</h3><hr/>\\r\\n<div><p>\\xe4\\xbd\\xbf\\xe7\\x94\\xa8Requests\\xe5\\xa5\\x97\\xe4\\xbb\\xb6\\xe9\\x80\\x81\\xe5\\x87\\xbaHTTP\\xe8\\xab\\x8b\\xe6\\xb1\\x82</p></div>\\r\\n</body>\\r\\n</html>'\n",
      "---------------------\n",
      "<urllib3.response.HTTPResponse object at 0x000002066650A050>\n",
      "b'<html>\\r\\n<head>\\r'\n",
      "W06_EX15_P3-20\n"
     ]
    }
   ],
   "source": [
    "import requests\n",
    "\n",
    "r= requests.get(\"https://fchart.github.io/test.html\")\n",
    "print(r.text)\n",
    "print(\"---------------------\")\n",
    "\n",
    "r = requests.get(\"https://fchart.github.io/test.html\")\n",
    "print(r.content)\n",
    "print(\"---------------------\")\n",
    "\n",
    "r = requests.get(\"https://fchart.github.io/test.html\",stream=True)\n",
    "print(r.raw)\n",
    "print(r.raw.read(15))\n",
    "print(\"W06_EX15_P3-20\")"
   ]
  },
  {
   "cell_type": "code",
   "execution_count": 52,
   "metadata": {},
   "outputs": [
    {
     "name": "stdout",
     "output_type": "stream",
     "text": [
      "{\"name\": \"Joe Chen\", \"score\": 95, \"tel\": \"0933123456\"}\n",
      "<class 'str'>\n",
      "-----------------------\n",
      "{'name': 'Joe Chen', 'score': 95, 'tel': '0933123456'}\n",
      "<class 'method'>\n",
      "W06_EX16_P3-21\n"
     ]
    }
   ],
   "source": [
    "r = requests.get(\"https://fchart.github.io/json/Example.json\")\n",
    "print(r.text)\n",
    "print(type(r.text))\n",
    "print(\"-----------------------\")\n",
    "print(r.json())\n",
    "print(type(r.json))\n",
    "print(\"W06_EX16_P3-21\")"
   ]
  },
  {
   "cell_type": "code",
   "execution_count": 53,
   "metadata": {},
   "outputs": [
    {
     "name": "stdout",
     "output_type": "stream",
     "text": [
      "200\n",
      "True\n",
      "404\n",
      "False\n",
      "200\n",
      "True\n",
      "W06_EX17_ch3-3-3_P3-22\n"
     ]
    }
   ],
   "source": [
    "r = requests.get(\"http://www.google.com\")\n",
    "print(r.status_code)\n",
    "print(r.status_code == requests.codes.ok)\n",
    "\n",
    "r = requests.get(\"http://www.google.com/404\")\n",
    "print(r.status_code)\n",
    "print(r.status_code == requests.codes.ok)\n",
    "\n",
    "r = requests.get(\"http://www.google.com\")\n",
    "print(r.status_code)\n",
    "print(r.status_code == requests.codes.all_good)\n",
    "print(\"W06_EX17_ch3-3-3_P3-22\")"
   ]
  },
  {
   "cell_type": "code",
   "execution_count": 54,
   "metadata": {},
   "outputs": [
    {
     "name": "stdout",
     "output_type": "stream",
     "text": [
      "404\n",
      "False\n",
      "W06_EX18_ch3-3-3a_P3-23\n"
     ]
    },
    {
     "ename": "HTTPError",
     "evalue": "404 Client Error: Not Found for url: http://www.google.com/404",
     "output_type": "error",
     "traceback": [
      "\u001b[1;31m---------------------------------------------------------------------------\u001b[0m",
      "\u001b[1;31mHTTPError\u001b[0m                                 Traceback (most recent call last)",
      "\u001b[1;32mc:\\Users\\11706\\OneDrive\\桌面\\1011\\GET.ipynb Cell 6\u001b[0m line \u001b[0;36m6\n\u001b[0;32m      <a href='vscode-notebook-cell:/c%3A/Users/11706/OneDrive/%E6%A1%8C%E9%9D%A2/1011/GET.ipynb#W5sZmlsZQ%3D%3D?line=2'>3</a>\u001b[0m \u001b[39mprint\u001b[39m(r\u001b[39m.\u001b[39mstatus_code \u001b[39m==\u001b[39m requests\u001b[39m.\u001b[39mcodes\u001b[39m.\u001b[39mok)\n\u001b[0;32m      <a href='vscode-notebook-cell:/c%3A/Users/11706/OneDrive/%E6%A1%8C%E9%9D%A2/1011/GET.ipynb#W5sZmlsZQ%3D%3D?line=3'>4</a>\u001b[0m \u001b[39mprint\u001b[39m(\u001b[39m\"\u001b[39m\u001b[39mW06_EX18_ch3-3-3a_P3-23\u001b[39m\u001b[39m\"\u001b[39m)\n\u001b[1;32m----> <a href='vscode-notebook-cell:/c%3A/Users/11706/OneDrive/%E6%A1%8C%E9%9D%A2/1011/GET.ipynb#W5sZmlsZQ%3D%3D?line=5'>6</a>\u001b[0m \u001b[39mprint\u001b[39m(r\u001b[39m.\u001b[39;49mraise_for_status())\n",
      "File \u001b[1;32mc:\\Users\\11706\\.conda\\envs\\TestEnv\\Lib\\site-packages\\requests\\models.py:1021\u001b[0m, in \u001b[0;36mResponse.raise_for_status\u001b[1;34m(self)\u001b[0m\n\u001b[0;32m   1016\u001b[0m     http_error_msg \u001b[39m=\u001b[39m (\n\u001b[0;32m   1017\u001b[0m         \u001b[39mf\u001b[39m\u001b[39m\"\u001b[39m\u001b[39m{\u001b[39;00m\u001b[39mself\u001b[39m\u001b[39m.\u001b[39mstatus_code\u001b[39m}\u001b[39;00m\u001b[39m Server Error: \u001b[39m\u001b[39m{\u001b[39;00mreason\u001b[39m}\u001b[39;00m\u001b[39m for url: \u001b[39m\u001b[39m{\u001b[39;00m\u001b[39mself\u001b[39m\u001b[39m.\u001b[39murl\u001b[39m}\u001b[39;00m\u001b[39m\"\u001b[39m\n\u001b[0;32m   1018\u001b[0m     )\n\u001b[0;32m   1020\u001b[0m \u001b[39mif\u001b[39;00m http_error_msg:\n\u001b[1;32m-> 1021\u001b[0m     \u001b[39mraise\u001b[39;00m HTTPError(http_error_msg, response\u001b[39m=\u001b[39m\u001b[39mself\u001b[39m)\n",
      "\u001b[1;31mHTTPError\u001b[0m: 404 Client Error: Not Found for url: http://www.google.com/404"
     ]
    }
   ],
   "source": [
    "r = requests.get(\"http://www.google.com/404\")\n",
    "print(r.status_code)\n",
    "print(r.status_code == requests.codes.ok)\n",
    "print(\"W06_EX18_ch3-3-3a_P3-23\")\n",
    "\n",
    "print(r.raise_for_status())\n"
   ]
  },
  {
   "cell_type": "code",
   "execution_count": null,
   "metadata": {},
   "outputs": [
    {
     "name": "stdout",
     "output_type": "stream",
     "text": [
      "text/html; charset=ISO-8859-1\n",
      "8067\n",
      "Thu, 19 Oct 2023 02:35:33 GMT\n",
      "gws\n",
      "W06_EX19_ch3-3-4_P3-24\n"
     ]
    }
   ],
   "source": [
    "import requests\n",
    "r = requests.get(\"http://www.google.com\")\n",
    "\n",
    "print(r.headers['Content-Type'])\n",
    "print(r.headers['Content-Length'])\n",
    "print(r.headers['Date'])\n",
    "print(r.headers['Server'])\n",
    "print(\"W06_EX19_ch3-3-4_P3-24\")"
   ]
  },
  {
   "cell_type": "code",
   "execution_count": null,
   "metadata": {},
   "outputs": [
    {
     "name": "stdout",
     "output_type": "stream",
     "text": [
      "text/html; charset=ISO-8859-1\n",
      "8010\n",
      "Thu, 19 Oct 2023 02:36:36 GMT\n",
      "gws\n",
      "W06_EX19_ch3-3-4_P3-25\n"
     ]
    }
   ],
   "source": [
    "r = requests.get(\"http://www.google.com\")\n",
    "\n",
    "print(r.headers.get('Content-Type'))\n",
    "print(r.headers.get('Content-Length'))\n",
    "print(r.headers.get('Date'))\n",
    "print(r.headers.get('Server'))\n",
    "print(\"W06_EX19_ch3-3-4_P3-25\")"
   ]
  },
  {
   "cell_type": "code",
   "execution_count": null,
   "metadata": {},
   "outputs": [
    {
     "name": "stdout",
     "output_type": "stream",
     "text": [
      "{\n",
      "  \"cookies\": {\n",
      "    \"name\": \"joe chen\"\n",
      "  }\n",
      "}\n",
      "\n",
      "W06_EX21_ch3-4-1_P3-25\n"
     ]
    }
   ],
   "source": [
    "url = \"http://httpbin.org/cookies\"\n",
    "\n",
    "cookies = dict(name='joe chen')\n",
    "r = requests.get(url, cookies=cookies)\n",
    "print(r.text)\n",
    "print(\"W06_EX21_ch3-4-1_P3-25\")"
   ]
  },
  {
   "cell_type": "code",
   "execution_count": null,
   "metadata": {},
   "outputs": [
    {
     "name": "stdout",
     "output_type": "stream",
     "text": [
      "{'1P_JAR': '2023-10-19-02', 'AEC': 'Ackid1TivbmD56qknqMIeu-NpgyZiusLt8U65mK48O1Rbtf7bKtpUn2nlg', 'NID': '511=g9Bfa2tMc6TNw_nX9TDT4N8aXKXTG-R3s3vPZ5M3MIzBUNWoIyBoK_clPs0sm7Esb2Prfkc_lcZzjgWc-LFfzZO5S04-yoy4OXGs4OqUNO4-u4jUhHi4_CAINpnXukaYTD8ja5ERauRe48VHK-xntmb8CnqRsaWJ8aOJ1WZ_3uc'}\n"
     ]
    }
   ],
   "source": [
    "session = requests.Session()\n",
    "response = session.get(\"http://www.google.com\")\n",
    "v = session.cookies.get_dict()\n",
    "print(v)\n",
    "\n"
   ]
  },
  {
   "cell_type": "code",
   "execution_count": 56,
   "metadata": {},
   "outputs": [
    {
     "name": "stdout",
     "output_type": "stream",
     "text": [
      "{'kind': 'books#volumes', 'totalItems': 563, 'items': [{'kind': 'books#volume', 'id': 'xxXFEAAAQBAJ', 'etag': '4mloEtRI7ck', 'selfLink': 'https://www.googleapis.com/books/v1/volumes/xxXFEAAAQBAJ', 'volumeInfo': {'title': 'Python邁向領航者之路：超零基礎', 'authors': ['洪錦魁'], 'publisher': '深智數位股份有限公司', 'publishedDate': '2020-01-01', 'readingModes': {'text': False, 'image': True}, 'maturityRating': 'NOT_MATURE', 'allowAnonLogging': False, 'contentVersion': 'preview-1.0.0', 'panelizationSummary': {'containsEpubBubbles': False, 'containsImageBubbles': False}, 'imageLinks': {'smallThumbnail': 'http://books.google.com/books/content?id=xxXFEAAAQBAJ&printsec=frontcover&img=1&zoom=5&edge=curl&source=gbs_api', 'thumbnail': 'http://books.google.com/books/content?id=xxXFEAAAQBAJ&printsec=frontcover&img=1&zoom=1&edge=curl&source=gbs_api'}, 'previewLink': 'http://books.google.com.tw/books?id=xxXFEAAAQBAJ&printsec=frontcover&dq=Python&hl=&cd=1&source=gbs_api', 'infoLink': 'https://play.google.com/store/books/details?id=xxXFEAAAQBAJ&source=gbs_api', 'canonicalVolumeLink': 'https://play.google.com/store/books/details?id=xxXFEAAAQBAJ'}, 'saleInfo': {'country': 'TW', 'listPrice': {'amount': 450, 'currencyCode': 'TWD'}, 'retailPrice': {'amount': 306, 'currencyCode': 'TWD'}, 'buyLink': 'https://play.google.com/store/books/details?id=xxXFEAAAQBAJ&rdid=book-xxXFEAAAQBAJ&rdot=1&source=gbs_api', 'offers': [{'finskyOfferType': 1, 'listPrice': {'amountInMicros': 450000000, 'currencyCode': 'TWD'}, 'retailPrice': {'amountInMicros': 306000000, 'currencyCode': 'TWD'}}]}, 'accessInfo': {'country': 'TW', 'epub': {'isAvailable': False}, 'pdf': {'isAvailable': True, 'acsTokenLink': 'http://books.google.com.tw/books/download/Python%E9%82%81%E5%90%91%E9%A0%98%E8%88%AA%E8%80%85%E4%B9%8B%E8%B7%AF_%E8%B6%85%E9%9B%B6%E5%9F%BA%E7%A4%8E-sample-pdf.acsm?id=xxXFEAAAQBAJ&format=pdf&output=acs4_fulfillment_token&dl_type=sample&source=gbs_api'}, 'accessViewStatus': 'SAMPLE'}, 'searchInfo': {'textSnippet': '這是一本Python完全入門的書籍，高中生、文科生通通看得懂，整本書從Python環境、資料結構開始，使用完整流程圖與大量程式實例講解程式設計基礎觀念，為進入人工智慧、機器學習 ...'}}, {'kind': 'books#volume', 'id': 'JOymEAAAQBAJ', 'etag': 'd17dHjKYt/M', 'selfLink': 'https://www.googleapis.com/books/v1/volumes/JOymEAAAQBAJ', 'volumeInfo': {'title': '數位訊號處理:Python程式實作', 'authors': ['張元翔'], 'publisher': '全華圖書', 'publishedDate': '2019-10-01', 'description': '本書詳細介紹DSP技術、理論與應用，且有豐富的範例、習題以及解答，強調理論與技術是不可或缺的，並用Python程式設計，進行DSP技術實作，藉此培養實務研發能力。', 'readingModes': {'text': False, 'image': True}, 'maturityRating': 'NOT_MATURE', 'allowAnonLogging': True, 'contentVersion': 'preview-1.0.0', 'panelizationSummary': {'containsEpubBubbles': False, 'containsImageBubbles': False}, 'imageLinks': {'smallThumbnail': 'http://books.google.com/books/content?id=JOymEAAAQBAJ&printsec=frontcover&img=1&zoom=5&edge=curl&source=gbs_api', 'thumbnail': 'http://books.google.com/books/content?id=JOymEAAAQBAJ&printsec=frontcover&img=1&zoom=1&edge=curl&source=gbs_api'}, 'previewLink': 'http://books.google.com.tw/books?id=JOymEAAAQBAJ&printsec=frontcover&dq=Python&hl=&cd=2&source=gbs_api', 'infoLink': 'https://play.google.com/store/books/details?id=JOymEAAAQBAJ&source=gbs_api', 'canonicalVolumeLink': 'https://play.google.com/store/books/details?id=JOymEAAAQBAJ'}, 'saleInfo': {'country': 'TW', 'listPrice': {'amount': 500, 'currencyCode': 'TWD'}, 'retailPrice': {'amount': 340, 'currencyCode': 'TWD'}, 'buyLink': 'https://play.google.com/store/books/details?id=JOymEAAAQBAJ&rdid=book-JOymEAAAQBAJ&rdot=1&source=gbs_api', 'offers': [{'finskyOfferType': 1, 'listPrice': {'amountInMicros': 500000000, 'currencyCode': 'TWD'}, 'retailPrice': {'amountInMicros': 340000000, 'currencyCode': 'TWD'}}]}, 'accessInfo': {'country': 'TW', 'epub': {'isAvailable': False}, 'pdf': {'isAvailable': True, 'acsTokenLink': 'http://books.google.com.tw/books/download/%E6%95%B8%E4%BD%8D%E8%A8%8A%E8%99%9F%E8%99%95%E7%90%86_Python%E7%A8%8B%E5%BC%8F%E5%AF%A6%E4%BD%9C-sample-pdf.acsm?id=JOymEAAAQBAJ&format=pdf&output=acs4_fulfillment_token&dl_type=sample&source=gbs_api'}, 'accessViewStatus': 'SAMPLE'}, 'searchInfo': {'textSnippet': '本書詳細介紹DSP技術、理論與應用，且有豐富的範例、習題以及解答，強調理論與技術是不可或缺的，並用Python程式設計，進行DSP技術實作，藉此培養實務研發能力。'}}, {'kind': 'books#volume', 'id': 'YszJEAAAQBAJ', 'etag': 'FfsGn/cNHRs', 'selfLink': 'https://www.googleapis.com/books/v1/volumes/YszJEAAAQBAJ', 'volumeInfo': {'title': 'Python程式設計：從入門到進階應用(第四版)', 'authors': ['黃建庭'], 'publisher': '全華圖書股份有限公司', 'publishedDate': '2022-03-01', 'description': 'Python 是支援程序導向、物件導向的動態語言，本書從Python簡介與程式編輯器介紹開始，逐一說明Python程式語言的基礎，包含資料型別、選擇結構、迴圈、函式、模組等主題。最後進階到資料庫、擷取網頁資料、第三方模組、資料蒐集與分析等。本次改版加入全新單元(第15章)，介紹YouBike公共自行車數據分析的範例。 本書介紹Python重要的功能與範例解說，讓您透過最簡單的方式學習Python，幫助您成為精通Python的程式設計高手。 本書特色 1.從基礎概念入門，完整學習Python程式語言的撰寫。 2.全書150題以上的範例，附上解題想法、程式碼、程式解說及執行結果，讓您增強Python的程式能力。 3.全書50題以上的課後實作題，讓您檢測自身實力，自我練習，幫助您複習每章的精華重點。 4.本書開發環境：IDLE。軟體版本：3.10。 5.書附光碟新增Jupyter Notebook範例檔，讀者可以選用Jupyter Notebook或Python IDLE撰寫程式。', 'readingModes': {'text': False, 'image': True}, 'maturityRating': 'NOT_MATURE', 'allowAnonLogging': False, 'contentVersion': 'preview-1.0.0', 'panelizationSummary': {'containsEpubBubbles': False, 'containsImageBubbles': False}, 'imageLinks': {'smallThumbnail': 'http://books.google.com/books/content?id=YszJEAAAQBAJ&printsec=frontcover&img=1&zoom=5&edge=curl&source=gbs_api', 'thumbnail': 'http://books.google.com/books/content?id=YszJEAAAQBAJ&printsec=frontcover&img=1&zoom=1&edge=curl&source=gbs_api'}, 'previewLink': 'http://books.google.com.tw/books?id=YszJEAAAQBAJ&printsec=frontcover&dq=Python&hl=&cd=3&source=gbs_api', 'infoLink': 'https://play.google.com/store/books/details?id=YszJEAAAQBAJ&source=gbs_api', 'canonicalVolumeLink': 'https://play.google.com/store/books/details?id=YszJEAAAQBAJ'}, 'saleInfo': {'country': 'TW', 'listPrice': {'amount': 490, 'currencyCode': 'TWD'}, 'retailPrice': {'amount': 333, 'currencyCode': 'TWD'}, 'buyLink': 'https://play.google.com/store/books/details?id=YszJEAAAQBAJ&rdid=book-YszJEAAAQBAJ&rdot=1&source=gbs_api', 'offers': [{'finskyOfferType': 1, 'listPrice': {'amountInMicros': 490000000, 'currencyCode': 'TWD'}, 'retailPrice': {'amountInMicros': 333000000, 'currencyCode': 'TWD'}}]}, 'accessInfo': {'country': 'TW', 'epub': {'isAvailable': False}, 'pdf': {'isAvailable': True, 'acsTokenLink': 'http://books.google.com.tw/books/download/Python%E7%A8%8B%E5%BC%8F%E8%A8%AD%E8%A8%88_%E5%BE%9E%E5%85%A5%E9%96%80%E5%88%B0%E9%80%B2%E9%9A%8E%E6%87%89-sample-pdf.acsm?id=YszJEAAAQBAJ&format=pdf&output=acs4_fulfillment_token&dl_type=sample&source=gbs_api'}, 'accessViewStatus': 'SAMPLE'}, 'searchInfo': {'textSnippet': 'Python 是支援程序導向、物件導向的動態語言，本書從Python簡介與程式編輯器介紹開始，逐一說明Python程式語言的基礎，包含資料型別、選擇結構、迴圈、函式、模組等主題。最後進 ...'}}]}\n",
      "W06_EX22_ch3-4-3_P3-27\n"
     ]
    }
   ],
   "source": [
    "url = \"https://www.googleapis.com/books/v1/volumes\"\n",
    "\n",
    "url_params = {'q':'Python','maxResults':3,'projection':'lite'}\n",
    "r = requests.get(url,params=url_params)\n",
    "print(r.json())\n",
    "print(\"W06_EX22_ch3-4-3_P3-27\")"
   ]
  },
  {
   "cell_type": "code",
   "execution_count": 58,
   "metadata": {},
   "outputs": [
    {
     "name": "stdout",
     "output_type": "stream",
     "text": [
      "Http 請求錯誤: 404 Client Error: Not Found for url: http://www.google.com/404\n",
      "W06_EX23_ch3-4-5_P3-30\n"
     ]
    }
   ],
   "source": [
    "url = 'http://www.google.com/404'\n",
    "\n",
    "try:\n",
    "    r = requests.get(url,timeout=3)\n",
    "    r.raise_for_status()\n",
    "except requests.exceptions.RequestException as ex1:\n",
    "    print(\"Http 請求錯誤: \" + str(ex1))\n",
    "except requests.exceptions.HTTPError as ex2:\n",
    "    print(\"Http 回應錯誤: \" + str(ex2))\n",
    "except requests.exceptions.ConnectionError as ex3:\n",
    "    print(\"網路連線錯誤: \" + str(ex3))\n",
    "except requests.exceptions.Timeout as ex4:\n",
    "    print(\"Timeout 錯誤: \" + str(ex4))\n",
    "\n",
    "print(\"W06_EX23_ch3-4-5_P3-30\")"
   ]
  },
  {
   "cell_type": "code",
   "execution_count": 68,
   "metadata": {},
   "outputs": [
    {
     "ename": "TypeError",
     "evalue": "'module' object is not callable",
     "output_type": "error",
     "traceback": [
      "\u001b[1;31m---------------------------------------------------------------------------\u001b[0m",
      "\u001b[1;31mTypeError\u001b[0m                                 Traceback (most recent call last)",
      "\u001b[1;32mc:\\Users\\11706\\OneDrive\\桌面\\1011\\GET.ipynb Cell 13\u001b[0m line \u001b[0;36m5\n\u001b[0;32m      <a href='vscode-notebook-cell:/c%3A/Users/11706/OneDrive/%E6%A1%8C%E9%9D%A2/1011/GET.ipynb#X20sZmlsZQ%3D%3D?line=1'>2</a>\u001b[0m \u001b[39mfrom\u001b[39;00m \u001b[39mselenium\u001b[39;00m\u001b[39m.\u001b[39;00m\u001b[39mwebdriver\u001b[39;00m\u001b[39m.\u001b[39;00m\u001b[39mchrome\u001b[39;00m \u001b[39mimport\u001b[39;00m service\n\u001b[0;32m      <a href='vscode-notebook-cell:/c%3A/Users/11706/OneDrive/%E6%A1%8C%E9%9D%A2/1011/GET.ipynb#X20sZmlsZQ%3D%3D?line=2'>3</a>\u001b[0m \u001b[39mfrom\u001b[39;00m \u001b[39mwebdriver_manager\u001b[39;00m\u001b[39m.\u001b[39;00m\u001b[39mchrome\u001b[39;00m \u001b[39mimport\u001b[39;00m ChromeDriverManager\n\u001b[1;32m----> <a href='vscode-notebook-cell:/c%3A/Users/11706/OneDrive/%E6%A1%8C%E9%9D%A2/1011/GET.ipynb#X20sZmlsZQ%3D%3D?line=4'>5</a>\u001b[0m driver \u001b[39m=\u001b[39m webdriver\u001b[39m.\u001b[39mChrome(service\u001b[39m=\u001b[39mservice(ChromeDriverManager()\u001b[39m.\u001b[39;49minstall()))\n\u001b[0;32m      <a href='vscode-notebook-cell:/c%3A/Users/11706/OneDrive/%E6%A1%8C%E9%9D%A2/1011/GET.ipynb#X20sZmlsZQ%3D%3D?line=5'>6</a>\u001b[0m driver\u001b[39m.\u001b[39mimplicitly_wait(\u001b[39m10\u001b[39m)\n\u001b[0;32m      <a href='vscode-notebook-cell:/c%3A/Users/11706/OneDrive/%E6%A1%8C%E9%9D%A2/1011/GET.ipynb#X20sZmlsZQ%3D%3D?line=6'>7</a>\u001b[0m driver\u001b[39m.\u001b[39mget(\u001b[39m\"\u001b[39m\u001b[39mhttps//fchart.github.io/test.html\u001b[39m\u001b[39m\"\u001b[39m)\n",
      "\u001b[1;31mTypeError\u001b[0m: 'module' object is not callable"
     ]
    }
   ],
   "source": [
    "from selenium import webdriver\n",
    "from selenium.webdriver.chrome import service\n",
    "from webdriver_manager.chrome import ChromeDriverManager\n",
    "\n",
    "driver = webdriver.Chrome(service=service(ChromeDriverManager().install()))\n",
    "driver.implicitly_wait(10)\n",
    "driver.get(\"https//fchart.github.io/test.html\")\n",
    "print(\"---------------------------\")\n",
    "print(driver.title)\n",
    "html = driver.page_source\n",
    "print(html)\n",
    "driver.quit()"
   ]
  },
  {
   "cell_type": "code",
   "execution_count": 8,
   "metadata": {},
   "outputs": [
    {
     "name": "stdout",
     "output_type": "stream",
     "text": [
      "---------------------\n",
      "批踢踢實業坊\n"
     ]
    },
    {
     "data": {
      "text/plain": [
       "<bound method ChromiumDriver.quit of <selenium.webdriver.chrome.webdriver.WebDriver (session=\"d57c816ee26a6eea5871f4d3738640cc\")>>"
      ]
     },
     "execution_count": 8,
     "metadata": {},
     "output_type": "execute_result"
    }
   ],
   "source": [
    "from selenium import webdriver\n",
    "from selenium.webdriver.chrome.service import Service\n",
    "from webdriver_manager.chrome import ChromeDriverManager\n",
    "\n",
    "driver = webdriver.Chrome(service=Service(ChromeDriverManager().install()))\n",
    "driver.implicitly_wait(10)\n",
    "cookies = {\"name\":\"over18\",\"value\":\"1\"}\n",
    "driver.get(\"https://www.ptt.cc/bbs/Gossiping/index.html\")\n",
    "driver.add_cookie(cookies)\n",
    "print(\"---------------------\")\n",
    "print(driver.title)\n",
    "driver.quit"
   ]
  },
  {
   "cell_type": "code",
   "execution_count": 4,
   "metadata": {},
   "outputs": [
    {
     "name": "stdout",
     "output_type": "stream",
     "text": [
      "測試的HTML5網頁\n",
      "<html><head>\n",
      "<meta charset=\"utf-8\">\n",
      "<title>測試的HTML5網頁</title>\n",
      "</head>\n",
      "<body>\n",
      "<h3>從網路取得資料</h3><hr>\n",
      "<div><p>使用Requests套件送出HTTP請求</p></div>\n",
      "\n",
      "</body></html>\n",
      "W07_EX26_ch3-5-2c.py_P3-36\n"
     ]
    }
   ],
   "source": [
    "from selenium import webdriver\n",
    "from selenium.webdriver.chrome.options import Options\n",
    "from selenium.webdriver.chrome.service import Service\n",
    "from webdriver_manager.chrome import ChromeDriverManager\n",
    "\n",
    "options = Options()\n",
    "options.add_argument(\"--headless\")\n",
    "driver = webdriver.Chrome(\n",
    "    service= Service(ChromeDriverManager().install()),options=options\n",
    ")\n",
    "driver.implicitly_wait(10)\n",
    "driver.get(\"https://fchart.github.io/test.html\")\n",
    "print(driver.title)\n",
    "html = driver.page_source\n",
    "print(html)\n",
    "driver.quit()\n",
    "print(\"W07_EX26_ch3-5-2c.py_P3-36\")\n"
   ]
  },
  {
   "cell_type": "markdown",
   "metadata": {},
   "source": [
    "pip install beautifulsoup4  "
   ]
  },
  {
   "cell_type": "code",
   "execution_count": 10,
   "metadata": {},
   "outputs": [
    {
     "name": "stdout",
     "output_type": "stream",
     "text": [
      "<html><body><p>Hello world</p></body></html>\n",
      "W07_EX27_ch4-2-1.py_P4-10\n"
     ]
    }
   ],
   "source": [
    "from bs4 import BeautifulSoup\n",
    "\n",
    "html_str = \"<p>Hello world</p>\"\n",
    "soup = BeautifulSoup(html_str,\"lxml\")\n",
    "print(soup)\n",
    "print(\"W07_EX27_ch4-2-1.py_P4-10\")"
   ]
  }
 ],
 "metadata": {
  "kernelspec": {
   "display_name": "TestEnv",
   "language": "python",
   "name": "python3"
  },
  "language_info": {
   "codemirror_mode": {
    "name": "ipython",
    "version": 3
   },
   "file_extension": ".py",
   "mimetype": "text/x-python",
   "name": "python",
   "nbconvert_exporter": "python",
   "pygments_lexer": "ipython3",
   "version": "3.12.0"
  }
 },
 "nbformat": 4,
 "nbformat_minor": 2
}
